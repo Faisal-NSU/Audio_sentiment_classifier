{
  "nbformat": 4,
  "nbformat_minor": 0,
  "metadata": {
    "colab": {
      "name": "shahrinbolseworkkorlebiyekorbe.ipynb",
      "provenance": [],
      "include_colab_link": true
    },
    "kernelspec": {
      "name": "python3",
      "display_name": "Python 3"
    },
    "language_info": {
      "name": "python"
    },
    "accelerator": "GPU"
  },
  "cells": [
    {
      "cell_type": "markdown",
      "metadata": {
        "id": "view-in-github",
        "colab_type": "text"
      },
      "source": [
        "<a href=\"https://colab.research.google.com/github/Faisal-NSU/CSE465/blob/main/Subesco%20Training%20Skeleton.ipynb\" target=\"_parent\"><img src=\"https://colab.research.google.com/assets/colab-badge.svg\" alt=\"Open In Colab\"/></a>"
      ]
    },
    {
      "cell_type": "markdown",
      "source": [
        "Unzip Dataset (Subesco)"
      ],
      "metadata": {
        "id": "UAetRfWHTQSD"
      }
    },
    {
      "cell_type": "markdown",
      "source": [
        "# Download And Extract"
      ],
      "metadata": {
        "id": "BY5QPBv3h7Uq"
      }
    },
    {
      "cell_type": "code",
      "source": [
        "#Model Link\n",
        "!gdown --id 1NiKtbbebxL8kNPw7bsbCr85lprAomcNw"
      ],
      "metadata": {
        "colab": {
          "base_uri": "https://localhost:8080/"
        },
        "id": "e-zKrInTmL4j",
        "outputId": "b8854325-5de8-475d-afef-fa10d22e942d"
      },
      "execution_count": 1,
      "outputs": [
        {
          "output_type": "stream",
          "name": "stdout",
          "text": [
            "Downloading...\n",
            "From: https://drive.google.com/uc?id=1NiKtbbebxL8kNPw7bsbCr85lprAomcNw\n",
            "To: /content/Resnet50_Ravdess_71acc.pth\n",
            "100% 94.4M/94.4M [00:00<00:00, 183MB/s] \n"
          ]
        }
      ]
    },
    {
      "cell_type": "code",
      "source": [
        "#Subesco.zip\n",
        "!gdown --id 1k-afEJdwz5Tf4-bsuKOJzP7xn-KQTlkM"
      ],
      "metadata": {
        "colab": {
          "base_uri": "https://localhost:8080/"
        },
        "id": "PY2QjzdT6Zpj",
        "outputId": "d5ef5d82-d0aa-4e6d-c26e-210fbde744f2"
      },
      "execution_count": 2,
      "outputs": [
        {
          "output_type": "stream",
          "name": "stdout",
          "text": [
            "Downloading...\n",
            "From: https://drive.google.com/uc?id=1k-afEJdwz5Tf4-bsuKOJzP7xn-KQTlkM\n",
            "To: /content/SUBESCO.zip\n",
            "100% 1.65G/1.65G [00:14<00:00, 113MB/s]\n"
          ]
        }
      ]
    },
    {
      "cell_type": "code",
      "execution_count": 3,
      "metadata": {
        "id": "kcAXMisz2plC"
      },
      "outputs": [],
      "source": [
        "import zipfile\n",
        "dataset_directory = '/content/SUBESCO.zip'\n",
        "zip_ref = zipfile.ZipFile(dataset_directory, 'r')\n",
        "zip_ref.extractall('/content')\n",
        "zip_ref.close()"
      ]
    },
    {
      "cell_type": "markdown",
      "source": [
        "# Custom Dataset Class"
      ],
      "metadata": {
        "id": "8m8F1n2QiNXD"
      }
    },
    {
      "cell_type": "markdown",
      "source": [
        "Create custom Dataset"
      ],
      "metadata": {
        "id": "i2kgkj5VWhgx"
      }
    },
    {
      "cell_type": "code",
      "source": [
        "import os\n",
        "import torch\n",
        "from torch.utils.data import Dataset\n",
        "import pandas as pd\n",
        "import torchaudio\n",
        "from torch.utils.data import DataLoader\n",
        "import torch.optim.lr_scheduler as lr_scheduler\n",
        "from torch.nn.functional import normalize\n",
        "\n",
        "\n",
        "class CustomDataset(Dataset):\n",
        "    def __init__(self, annotations_file, audio_dir, transformation, target_sample_rate, num_samples, device):\n",
        "        self.annotations = pd.read_csv(annotations_file)\n",
        "        self.audio_dir = audio_dir\n",
        "        self.device = device\n",
        "        self.transformation = transformation.to(self.device)\n",
        "        self.target_sample_rate = target_sample_rate\n",
        "        self.num_samples = num_samples\n",
        "\n",
        "    def __len__(self):\n",
        "        return len(self.annotations)\n",
        "\n",
        "    def __getitem__(self, index):\n",
        "        audio_sample_path = self._get_audio_sample_path(index)\n",
        "        #print(audio_sample_path)\n",
        "        label = self._get_audio_sample_label(index)\n",
        "        #print(label)\n",
        "        signal, sr = torchaudio.load(audio_sample_path)\n",
        "        signal = signal.to(self.device)\n",
        "        signal = self._resample_if_necessary(signal, sr)\n",
        "        signal = self._mix_down_if_necessary(signal)\n",
        "        signal = self._cut_if_necessary(signal)\n",
        "        signal = self._right_pad_if_necessary(signal)\n",
        "        signal = self.transformation(signal)\n",
        "        # produce delta and delta-delta and add to mfcc\n",
        "        delta = torchaudio.functional.compute_deltas(signal)\n",
        "        delta2 = torchaudio.functional.compute_deltas(delta)\n",
        "        #signal = torch.cat((signal, delta, delta2), 1) # concatenating deltas\n",
        "        \n",
        "        signal = signal + delta + delta2\n",
        "        avg_mfcc_deltas = signal\n",
        "        #columns = list(signal[0][1].shape)\n",
        "        #columns = int(columns[0])\n",
        "        #avg_mfcc_deltas = (torch.sum(signal, 2))\n",
        "        #avg_mfcc_deltas /= 60\n",
        "        \n",
        "        #means = avg_mfcc_deltas.mean(dim=1, keepdim=True)\n",
        "        #stds = avg_mfcc_deltas.std(dim=1, keepdim=True)\n",
        "        #avg_mfcc_deltas = (avg_mfcc_deltas - means) / stds #NORMALIZED\n",
        "        #avg_mfcc_deltas = normalize(avg_mfcc_deltas, p=2.0)\n",
        "\n",
        "        return avg_mfcc_deltas,label\n",
        "\n",
        "    def _cut_if_necessary(self, signal):\n",
        "        if signal.shape[1] > self.num_samples:\n",
        "            # print(signal.shape[1]) # print sample size\n",
        "            signal = signal[:, :self.num_samples]\n",
        "        return signal\n",
        "\n",
        "    def _right_pad_if_necessary(self, signal):\n",
        "        length_signal = signal.shape[1]\n",
        "        if length_signal < self.num_samples:\n",
        "            num_missing_samples = self.num_samples - length_signal\n",
        "            last_dim_padding = (0, num_missing_samples)\n",
        "            signal = torch.nn.functional.pad(signal, last_dim_padding)\n",
        "        return signal\n",
        "\n",
        "    def _resample_if_necessary(self, signal, sr):\n",
        "        if sr != self.target_sample_rate:\n",
        "            resampler = torchaudio.transforms.Resample(sr, self.target_sample_rate)\n",
        "            resampler = resampler.to(device)\n",
        "            signal = resampler(signal)\n",
        "        return signal\n",
        "\n",
        "    def _mix_down_if_necessary(self, signal):\n",
        "        if signal.shape[0] > 1:\n",
        "            signal = torch.mean(signal, dim=0, keepdim=True)\n",
        "        return signal\n",
        "\n",
        "    # for any audio index this function returns the audio path\n",
        "    def _get_audio_sample_path(self, index):\n",
        "        path = os.path.join(self.audio_dir, self.annotations.iloc[index,0])\n",
        "        return path\n",
        "    \n",
        "    # for specified audio index this will return the label from the data csv\n",
        "    def _get_audio_sample_label(self, index):\n",
        "        return self.annotations.iloc[index, 4]"
      ],
      "metadata": {
        "id": "UBSsEU43WdcD"
      },
      "execution_count": 4,
      "outputs": []
    },
    {
      "cell_type": "markdown",
      "source": [
        "Instantiate the dataset"
      ],
      "metadata": {
        "id": "LY45V_efdoLX"
      }
    },
    {
      "cell_type": "code",
      "source": [
        "TRAIN_CSV = '/content/SUBESCO/train/train.csv'\n",
        "TEST_CSV = '/content/SUBESCO/test/test.csv'\n",
        "VALID_CSV = '/content/SUBESCO/valid/valid.csv'\n",
        "\n",
        "TRAIN_PATH = '/content/SUBESCO/train/'\n",
        "TEST_PATH = '/content/SUBESCO/test/'\n",
        "VALID_PATH = '/content/SUBESCO/valid/'\n",
        "\n",
        "SAMPLE_RATE = 48000\n",
        "NUM_SAMPLES = SAMPLE_RATE*4\n",
        "\n",
        "device = ''\n",
        "if torch.cuda.is_available():\n",
        "    device = \"cuda\"\n",
        "else:\n",
        "    device = \"cpu\"\n",
        "print(f\"Using device {device}\")\n",
        "\n",
        "mfcc = torchaudio.transforms.MFCC(sample_rate=SAMPLE_RATE, n_mfcc=20, melkwargs={\"n_fft\": 2048, \"hop_length\": 512, \"power\": 2})\n",
        "\n",
        "train_dataset = CustomDataset(TRAIN_CSV,\n",
        "                        TRAIN_PATH,\n",
        "                        mfcc,\n",
        "                        SAMPLE_RATE,\n",
        "                        NUM_SAMPLES,\n",
        "                        device)\n",
        "print(f\"There are {len(train_dataset)} samples in the train.\")\n",
        "\n",
        "val_dataset = CustomDataset(VALID_CSV,\n",
        "                        VALID_PATH,\n",
        "                        mfcc,\n",
        "                        SAMPLE_RATE,\n",
        "                        NUM_SAMPLES,\n",
        "                        device)\n",
        "\n",
        "print(f\"There are {len(val_dataset)} samples in the valid.\")\n",
        "\n",
        "test_dataset = CustomDataset(TEST_CSV,\n",
        "                        TEST_PATH,\n",
        "                        mfcc,\n",
        "                        SAMPLE_RATE,\n",
        "                        NUM_SAMPLES,\n",
        "                        device)\n",
        "print(f\"There are {len(test_dataset)} samples in the test.\")"
      ],
      "metadata": {
        "colab": {
          "base_uri": "https://localhost:8080/"
        },
        "id": "irCA4qM4dneT",
        "outputId": "4a78fef7-5656-4623-90a8-bda9abece881"
      },
      "execution_count": 5,
      "outputs": [
        {
          "output_type": "stream",
          "name": "stdout",
          "text": [
            "Using device cuda\n",
            "There are 4900 samples in the train.\n",
            "There are 700 samples in the valid.\n",
            "There are 1400 samples in the test.\n"
          ]
        }
      ]
    },
    {
      "cell_type": "code",
      "source": [
        "signal, label = val_dataset[0]\n",
        "print(signal.shape)\n",
        "df = pd.read_csv(TRAIN_CSV)\n",
        "print(df['label_id'].value_counts())\n",
        "df = pd.read_csv(TEST_CSV)\n",
        "print(df['label_id'].value_counts())\n",
        "df = pd.read_csv(VALID_CSV)\n",
        "print(df['label_id'].value_counts())\n"
      ],
      "metadata": {
        "colab": {
          "base_uri": "https://localhost:8080/"
        },
        "id": "lBteY7ubjjQt",
        "outputId": "e029a458-cee0-481c-d61b-9b3697f8d8fa"
      },
      "execution_count": 6,
      "outputs": [
        {
          "output_type": "stream",
          "name": "stdout",
          "text": [
            "torch.Size([1, 20, 376])\n",
            "3    700\n",
            "6    700\n",
            "2    700\n",
            "5    700\n",
            "1    700\n",
            "4    700\n",
            "0    700\n",
            "Name: label_id, dtype: int64\n",
            "6    200\n",
            "5    200\n",
            "4    200\n",
            "3    200\n",
            "2    200\n",
            "1    200\n",
            "0    200\n",
            "Name: label_id, dtype: int64\n",
            "6    100\n",
            "5    100\n",
            "4    100\n",
            "3    100\n",
            "2    100\n",
            "1    100\n",
            "0    100\n",
            "Name: label_id, dtype: int64\n"
          ]
        }
      ]
    },
    {
      "cell_type": "markdown",
      "source": [
        "# Model Loading and Training"
      ],
      "metadata": {
        "id": "V7ZEOkhKmF3E"
      }
    },
    {
      "cell_type": "code",
      "source": [
        "model = torch.load('/content/Resnet50_Ravdess_71acc.pth',map_location=device)\n"
      ],
      "metadata": {
        "id": "nZiyOVZr77se"
      },
      "execution_count": 13,
      "outputs": []
    },
    {
      "cell_type": "code",
      "source": [
        "from torch import nn\n",
        "BATCH_SIZE = 32\n",
        "criterion = nn.CrossEntropyLoss()\n",
        "optimizer = torch.optim.Adam(model.parameters(), lr=0.00001)\n",
        "step_lr_scheduler = lr_scheduler.StepLR(optimizer, step_size=100, gamma=0.1)\n",
        "\n",
        "def create_data_loader(train_data, batch_size):\n",
        "    train_dataloader = DataLoader(train_data, batch_size=batch_size,shuffle=True)\n",
        "    return train_dataloader\n",
        "\n",
        "train_dataloader = create_data_loader(train_dataset, BATCH_SIZE)\n",
        "test_dataloader = create_data_loader(test_dataset, BATCH_SIZE)\n",
        "val_dataloader = create_data_loader(val_dataset, BATCH_SIZE)"
      ],
      "metadata": {
        "id": "Vn4QrDSngyhX"
      },
      "execution_count": 20,
      "outputs": []
    },
    {
      "cell_type": "code",
      "source": [
        "def train_loop(dataloader, model, loss_fn, optimizer):\n",
        "    model.train()\n",
        "    size = len(dataloader.dataset)  \n",
        "    for batch, (X,y) in enumerate(dataloader):\n",
        "        # Compute prediction and loss\n",
        "        X, y = X.to(device), y.to(device)\n",
        "        pred = model(X)\n",
        "        loss = loss_fn(pred, y)\n",
        "\n",
        "        # Backpropagation\n",
        "        optimizer.zero_grad()\n",
        "        loss.backward()\n",
        "        optimizer.step()\n",
        "\n",
        "        if batch % 30 == 0:\n",
        "            loss, current = loss.item(), batch * len(X)\n",
        "            print(f\"loss: {loss:>7f}  [{current:>5d}/{size:>5d}]\")\n",
        "    return model"
      ],
      "metadata": {
        "id": "Jhk6pTKCSEQY"
      },
      "execution_count": 21,
      "outputs": []
    },
    {
      "cell_type": "code",
      "source": [
        "def test_loop(dataloader, model, loss_fn):\n",
        "    model.eval()\n",
        "    size = len(dataloader.dataset)\n",
        "    num_batches = len(dataloader)\n",
        "    test_loss, correct = 0, 0\n",
        "\n",
        "    with torch.no_grad():\n",
        "        for (X,y) in dataloader:\n",
        "            X, y = X.to(device), y.to(device)\n",
        "            pred = model(X)\n",
        "            test_loss += loss_fn(pred, y).item()\n",
        "            correct += (pred.argmax(1) == y).type(torch.float).sum().item()\n",
        "\n",
        "    test_loss /= num_batches\n",
        "    correct /= size\n",
        "    print(f\"Test Error: \\n Accuracy: {(100*correct):>0.1f}%, Avg loss: {test_loss:>8f} \\n\")"
      ],
      "metadata": {
        "id": "RngTm7rGSm6v"
      },
      "execution_count": 22,
      "outputs": []
    },
    {
      "cell_type": "code",
      "source": [
        "import math\n",
        "import time\n",
        "EPOCHS = 30\n",
        "start = time.time()\n",
        "for t in range(EPOCHS):\n",
        "    print(f\"Epoch {t+1}\\n-------------------------------\")\n",
        "    train_loop(train_dataloader, model, criterion, optimizer)\n",
        "    test_loop(val_dataloader, model, criterion)\n",
        "final = (time.time() - start)/60\n",
        "print(f\"Done for all {EPOCHS} epochs in {math.ceil(final)} minutes\\n\")"
      ],
      "metadata": {
        "colab": {
          "base_uri": "https://localhost:8080/",
          "height": 1000
        },
        "id": "rBPMtivT4pmH",
        "outputId": "41638de0-4dd3-4dc9-ab8e-cc02d5f9b8b9"
      },
      "execution_count": 23,
      "outputs": [
        {
          "output_type": "stream",
          "name": "stdout",
          "text": [
            "Epoch 1\n",
            "-------------------------------\n",
            "loss: 0.000417  [    0/ 4900]\n",
            "loss: 0.002869  [  960/ 4900]\n",
            "loss: 0.003421  [ 1920/ 4900]\n",
            "loss: 0.000571  [ 2880/ 4900]\n",
            "loss: 0.000557  [ 3840/ 4900]\n",
            "loss: 0.001924  [ 4800/ 4900]\n",
            "Test Error: \n",
            " Accuracy: 48.7%, Avg loss: 3.337051 \n",
            "\n",
            "Epoch 2\n",
            "-------------------------------\n",
            "loss: 0.001117  [    0/ 4900]\n",
            "loss: 0.004169  [  960/ 4900]\n",
            "loss: 0.001071  [ 1920/ 4900]\n",
            "loss: 0.001352  [ 2880/ 4900]\n",
            "loss: 0.000467  [ 3840/ 4900]\n",
            "loss: 0.001438  [ 4800/ 4900]\n",
            "Test Error: \n",
            " Accuracy: 50.9%, Avg loss: 3.306643 \n",
            "\n",
            "Epoch 3\n",
            "-------------------------------\n",
            "loss: 0.003611  [    0/ 4900]\n",
            "loss: 0.000261  [  960/ 4900]\n",
            "loss: 0.000110  [ 1920/ 4900]\n",
            "loss: 0.000520  [ 2880/ 4900]\n",
            "loss: 0.001292  [ 3840/ 4900]\n",
            "loss: 0.000463  [ 4800/ 4900]\n",
            "Test Error: \n",
            " Accuracy: 51.9%, Avg loss: 3.224208 \n",
            "\n",
            "Epoch 4\n",
            "-------------------------------\n",
            "loss: 0.005291  [    0/ 4900]\n",
            "loss: 0.003160  [  960/ 4900]\n",
            "loss: 0.000117  [ 1920/ 4900]\n",
            "loss: 0.000544  [ 2880/ 4900]\n",
            "loss: 0.000455  [ 3840/ 4900]\n",
            "loss: 0.015957  [ 4800/ 4900]\n",
            "Test Error: \n",
            " Accuracy: 51.6%, Avg loss: 3.096315 \n",
            "\n",
            "Epoch 5\n",
            "-------------------------------\n",
            "loss: 0.003547  [    0/ 4900]\n",
            "loss: 0.000534  [  960/ 4900]\n",
            "loss: 0.045155  [ 1920/ 4900]\n",
            "loss: 0.000156  [ 2880/ 4900]\n",
            "loss: 0.000167  [ 3840/ 4900]\n",
            "loss: 0.000480  [ 4800/ 4900]\n",
            "Test Error: \n",
            " Accuracy: 51.1%, Avg loss: 3.226467 \n",
            "\n",
            "Epoch 6\n",
            "-------------------------------\n",
            "loss: 0.002290  [    0/ 4900]\n",
            "loss: 0.000184  [  960/ 4900]\n",
            "loss: 0.000193  [ 1920/ 4900]\n",
            "loss: 0.000209  [ 2880/ 4900]\n",
            "loss: 0.000478  [ 3840/ 4900]\n",
            "loss: 0.000137  [ 4800/ 4900]\n",
            "Test Error: \n",
            " Accuracy: 51.1%, Avg loss: 3.233107 \n",
            "\n",
            "Epoch 7\n",
            "-------------------------------\n",
            "loss: 0.000105  [    0/ 4900]\n",
            "loss: 0.000096  [  960/ 4900]\n",
            "loss: 0.001204  [ 1920/ 4900]\n",
            "loss: 0.000136  [ 2880/ 4900]\n",
            "loss: 0.000138  [ 3840/ 4900]\n",
            "loss: 0.001661  [ 4800/ 4900]\n",
            "Test Error: \n",
            " Accuracy: 51.1%, Avg loss: 3.315666 \n",
            "\n",
            "Epoch 8\n",
            "-------------------------------\n",
            "loss: 0.000279  [    0/ 4900]\n",
            "loss: 0.000953  [  960/ 4900]\n",
            "loss: 0.000129  [ 1920/ 4900]\n",
            "loss: 0.001290  [ 2880/ 4900]\n",
            "loss: 0.004068  [ 3840/ 4900]\n",
            "loss: 0.001325  [ 4800/ 4900]\n",
            "Test Error: \n",
            " Accuracy: 51.4%, Avg loss: 3.199376 \n",
            "\n",
            "Epoch 9\n",
            "-------------------------------\n",
            "loss: 0.000673  [    0/ 4900]\n",
            "loss: 0.000117  [  960/ 4900]\n",
            "loss: 0.000380  [ 1920/ 4900]\n",
            "loss: 0.000846  [ 2880/ 4900]\n",
            "loss: 0.000673  [ 3840/ 4900]\n",
            "loss: 0.000258  [ 4800/ 4900]\n",
            "Test Error: \n",
            " Accuracy: 49.1%, Avg loss: 3.311675 \n",
            "\n",
            "Epoch 10\n",
            "-------------------------------\n",
            "loss: 0.000403  [    0/ 4900]\n",
            "loss: 0.000448  [  960/ 4900]\n",
            "loss: 0.002304  [ 1920/ 4900]\n",
            "loss: 0.000256  [ 2880/ 4900]\n",
            "loss: 0.001019  [ 3840/ 4900]\n",
            "loss: 0.002055  [ 4800/ 4900]\n",
            "Test Error: \n",
            " Accuracy: 50.3%, Avg loss: 3.561371 \n",
            "\n",
            "Epoch 11\n",
            "-------------------------------\n",
            "loss: 0.000439  [    0/ 4900]\n",
            "loss: 0.000246  [  960/ 4900]\n",
            "loss: 0.000672  [ 1920/ 4900]\n",
            "loss: 0.000191  [ 2880/ 4900]\n",
            "loss: 0.000092  [ 3840/ 4900]\n",
            "loss: 0.000929  [ 4800/ 4900]\n",
            "Test Error: \n",
            " Accuracy: 51.9%, Avg loss: 3.165205 \n",
            "\n",
            "Epoch 12\n",
            "-------------------------------\n",
            "loss: 0.000138  [    0/ 4900]\n",
            "loss: 0.005201  [  960/ 4900]\n",
            "loss: 0.000558  [ 1920/ 4900]\n",
            "loss: 0.000092  [ 2880/ 4900]\n",
            "loss: 0.000351  [ 3840/ 4900]\n",
            "loss: 0.002218  [ 4800/ 4900]\n",
            "Test Error: \n",
            " Accuracy: 50.9%, Avg loss: 3.401608 \n",
            "\n",
            "Epoch 13\n",
            "-------------------------------\n",
            "loss: 0.000452  [    0/ 4900]\n",
            "loss: 0.000456  [  960/ 4900]\n",
            "loss: 0.000346  [ 1920/ 4900]\n",
            "loss: 0.000935  [ 2880/ 4900]\n",
            "loss: 0.001175  [ 3840/ 4900]\n",
            "loss: 0.000353  [ 4800/ 4900]\n",
            "Test Error: \n",
            " Accuracy: 49.9%, Avg loss: 3.343275 \n",
            "\n",
            "Epoch 14\n",
            "-------------------------------\n",
            "loss: 0.001114  [    0/ 4900]\n",
            "loss: 0.004499  [  960/ 4900]\n",
            "loss: 0.001554  [ 1920/ 4900]\n",
            "loss: 0.001905  [ 2880/ 4900]\n",
            "loss: 0.000660  [ 3840/ 4900]\n",
            "loss: 0.000396  [ 4800/ 4900]\n",
            "Test Error: \n",
            " Accuracy: 52.3%, Avg loss: 3.032516 \n",
            "\n",
            "Epoch 15\n",
            "-------------------------------\n",
            "loss: 0.000932  [    0/ 4900]\n",
            "loss: 0.000535  [  960/ 4900]\n",
            "loss: 0.002647  [ 1920/ 4900]\n",
            "loss: 0.038170  [ 2880/ 4900]\n",
            "loss: 0.000820  [ 3840/ 4900]\n",
            "loss: 0.000337  [ 4800/ 4900]\n",
            "Test Error: \n",
            " Accuracy: 50.1%, Avg loss: 3.160287 \n",
            "\n",
            "Epoch 16\n",
            "-------------------------------\n",
            "loss: 0.000262  [    0/ 4900]\n",
            "loss: 0.006987  [  960/ 4900]\n",
            "loss: 0.000282  [ 1920/ 4900]\n",
            "loss: 0.000152  [ 2880/ 4900]\n",
            "loss: 0.000297  [ 3840/ 4900]\n",
            "loss: 0.000497  [ 4800/ 4900]\n",
            "Test Error: \n",
            " Accuracy: 52.4%, Avg loss: 3.133236 \n",
            "\n",
            "Epoch 17\n",
            "-------------------------------\n",
            "loss: 0.000670  [    0/ 4900]\n",
            "loss: 0.010468  [  960/ 4900]\n",
            "loss: 0.000149  [ 1920/ 4900]\n",
            "loss: 0.000114  [ 2880/ 4900]\n",
            "loss: 0.003478  [ 3840/ 4900]\n",
            "loss: 0.000348  [ 4800/ 4900]\n",
            "Test Error: \n",
            " Accuracy: 51.0%, Avg loss: 3.234595 \n",
            "\n",
            "Epoch 18\n",
            "-------------------------------\n",
            "loss: 0.001275  [    0/ 4900]\n",
            "loss: 0.001052  [  960/ 4900]\n",
            "loss: 0.000232  [ 1920/ 4900]\n",
            "loss: 0.000293  [ 2880/ 4900]\n",
            "loss: 0.000420  [ 3840/ 4900]\n",
            "loss: 0.004907  [ 4800/ 4900]\n",
            "Test Error: \n",
            " Accuracy: 50.1%, Avg loss: 3.256531 \n",
            "\n",
            "Epoch 19\n",
            "-------------------------------\n",
            "loss: 0.000732  [    0/ 4900]\n",
            "loss: 0.003981  [  960/ 4900]\n",
            "loss: 0.004455  [ 1920/ 4900]\n",
            "loss: 0.001262  [ 2880/ 4900]\n",
            "loss: 0.000460  [ 3840/ 4900]\n",
            "loss: 0.000528  [ 4800/ 4900]\n",
            "Test Error: \n",
            " Accuracy: 52.6%, Avg loss: 3.136930 \n",
            "\n",
            "Epoch 20\n",
            "-------------------------------\n",
            "loss: 0.001165  [    0/ 4900]\n",
            "loss: 0.000662  [  960/ 4900]\n",
            "loss: 0.000251  [ 1920/ 4900]\n",
            "loss: 0.000384  [ 2880/ 4900]\n",
            "loss: 0.000696  [ 3840/ 4900]\n",
            "loss: 0.000054  [ 4800/ 4900]\n",
            "Test Error: \n",
            " Accuracy: 51.6%, Avg loss: 3.067308 \n",
            "\n",
            "Epoch 21\n",
            "-------------------------------\n",
            "loss: 0.002266  [    0/ 4900]\n",
            "loss: 0.002491  [  960/ 4900]\n",
            "loss: 0.000098  [ 1920/ 4900]\n",
            "loss: 0.000738  [ 2880/ 4900]\n",
            "loss: 0.000396  [ 3840/ 4900]\n",
            "loss: 0.000176  [ 4800/ 4900]\n",
            "Test Error: \n",
            " Accuracy: 51.3%, Avg loss: 3.401377 \n",
            "\n",
            "Epoch 22\n",
            "-------------------------------\n",
            "loss: 0.000722  [    0/ 4900]\n",
            "loss: 0.001843  [  960/ 4900]\n",
            "loss: 0.000265  [ 1920/ 4900]\n",
            "loss: 0.000224  [ 2880/ 4900]\n",
            "loss: 0.004681  [ 3840/ 4900]\n",
            "loss: 0.001353  [ 4800/ 4900]\n",
            "Test Error: \n",
            " Accuracy: 50.9%, Avg loss: 3.387780 \n",
            "\n",
            "Epoch 23\n",
            "-------------------------------\n",
            "loss: 0.000083  [    0/ 4900]\n",
            "loss: 0.000194  [  960/ 4900]\n",
            "loss: 0.000199  [ 1920/ 4900]\n",
            "loss: 0.000583  [ 2880/ 4900]\n",
            "loss: 0.000189  [ 3840/ 4900]\n"
          ]
        },
        {
          "output_type": "error",
          "ename": "KeyboardInterrupt",
          "evalue": "ignored",
          "traceback": [
            "\u001b[0;31m---------------------------------------------------------------------------\u001b[0m",
            "\u001b[0;31mKeyboardInterrupt\u001b[0m                         Traceback (most recent call last)",
            "\u001b[0;32m<ipython-input-23-9801a868493e>\u001b[0m in \u001b[0;36m<module>\u001b[0;34m()\u001b[0m\n\u001b[1;32m      5\u001b[0m \u001b[0;32mfor\u001b[0m \u001b[0mt\u001b[0m \u001b[0;32min\u001b[0m \u001b[0mrange\u001b[0m\u001b[0;34m(\u001b[0m\u001b[0mEPOCHS\u001b[0m\u001b[0;34m)\u001b[0m\u001b[0;34m:\u001b[0m\u001b[0;34m\u001b[0m\u001b[0;34m\u001b[0m\u001b[0m\n\u001b[1;32m      6\u001b[0m     \u001b[0mprint\u001b[0m\u001b[0;34m(\u001b[0m\u001b[0;34mf\"Epoch {t+1}\\n-------------------------------\"\u001b[0m\u001b[0;34m)\u001b[0m\u001b[0;34m\u001b[0m\u001b[0;34m\u001b[0m\u001b[0m\n\u001b[0;32m----> 7\u001b[0;31m     \u001b[0mtrain_loop\u001b[0m\u001b[0;34m(\u001b[0m\u001b[0mtrain_dataloader\u001b[0m\u001b[0;34m,\u001b[0m \u001b[0mmodel\u001b[0m\u001b[0;34m,\u001b[0m \u001b[0mcriterion\u001b[0m\u001b[0;34m,\u001b[0m \u001b[0moptimizer\u001b[0m\u001b[0;34m)\u001b[0m\u001b[0;34m\u001b[0m\u001b[0;34m\u001b[0m\u001b[0m\n\u001b[0m\u001b[1;32m      8\u001b[0m     \u001b[0mtest_loop\u001b[0m\u001b[0;34m(\u001b[0m\u001b[0mval_dataloader\u001b[0m\u001b[0;34m,\u001b[0m \u001b[0mmodel\u001b[0m\u001b[0;34m,\u001b[0m \u001b[0mcriterion\u001b[0m\u001b[0;34m)\u001b[0m\u001b[0;34m\u001b[0m\u001b[0;34m\u001b[0m\u001b[0m\n\u001b[1;32m      9\u001b[0m \u001b[0mfinal\u001b[0m \u001b[0;34m=\u001b[0m \u001b[0;34m(\u001b[0m\u001b[0mtime\u001b[0m\u001b[0;34m.\u001b[0m\u001b[0mtime\u001b[0m\u001b[0;34m(\u001b[0m\u001b[0;34m)\u001b[0m \u001b[0;34m-\u001b[0m \u001b[0mstart\u001b[0m\u001b[0;34m)\u001b[0m\u001b[0;34m/\u001b[0m\u001b[0;36m60\u001b[0m\u001b[0;34m\u001b[0m\u001b[0;34m\u001b[0m\u001b[0m\n",
            "\u001b[0;32m<ipython-input-21-dd2bad9fb7ed>\u001b[0m in \u001b[0;36mtrain_loop\u001b[0;34m(dataloader, model, loss_fn, optimizer)\u001b[0m\n\u001b[1;32m      2\u001b[0m     \u001b[0mmodel\u001b[0m\u001b[0;34m.\u001b[0m\u001b[0mtrain\u001b[0m\u001b[0;34m(\u001b[0m\u001b[0;34m)\u001b[0m\u001b[0;34m\u001b[0m\u001b[0;34m\u001b[0m\u001b[0m\n\u001b[1;32m      3\u001b[0m     \u001b[0msize\u001b[0m \u001b[0;34m=\u001b[0m \u001b[0mlen\u001b[0m\u001b[0;34m(\u001b[0m\u001b[0mdataloader\u001b[0m\u001b[0;34m.\u001b[0m\u001b[0mdataset\u001b[0m\u001b[0;34m)\u001b[0m\u001b[0;34m\u001b[0m\u001b[0;34m\u001b[0m\u001b[0m\n\u001b[0;32m----> 4\u001b[0;31m     \u001b[0;32mfor\u001b[0m \u001b[0mbatch\u001b[0m\u001b[0;34m,\u001b[0m \u001b[0;34m(\u001b[0m\u001b[0mX\u001b[0m\u001b[0;34m,\u001b[0m\u001b[0my\u001b[0m\u001b[0;34m)\u001b[0m \u001b[0;32min\u001b[0m \u001b[0menumerate\u001b[0m\u001b[0;34m(\u001b[0m\u001b[0mdataloader\u001b[0m\u001b[0;34m)\u001b[0m\u001b[0;34m:\u001b[0m\u001b[0;34m\u001b[0m\u001b[0;34m\u001b[0m\u001b[0m\n\u001b[0m\u001b[1;32m      5\u001b[0m         \u001b[0;31m# Compute prediction and loss\u001b[0m\u001b[0;34m\u001b[0m\u001b[0;34m\u001b[0m\u001b[0;34m\u001b[0m\u001b[0m\n\u001b[1;32m      6\u001b[0m         \u001b[0mX\u001b[0m\u001b[0;34m,\u001b[0m \u001b[0my\u001b[0m \u001b[0;34m=\u001b[0m \u001b[0mX\u001b[0m\u001b[0;34m.\u001b[0m\u001b[0mto\u001b[0m\u001b[0;34m(\u001b[0m\u001b[0mdevice\u001b[0m\u001b[0;34m)\u001b[0m\u001b[0;34m,\u001b[0m \u001b[0my\u001b[0m\u001b[0;34m.\u001b[0m\u001b[0mto\u001b[0m\u001b[0;34m(\u001b[0m\u001b[0mdevice\u001b[0m\u001b[0;34m)\u001b[0m\u001b[0;34m\u001b[0m\u001b[0;34m\u001b[0m\u001b[0m\n",
            "\u001b[0;32m/usr/local/lib/python3.7/dist-packages/torch/utils/data/dataloader.py\u001b[0m in \u001b[0;36m__next__\u001b[0;34m(self)\u001b[0m\n\u001b[1;32m    519\u001b[0m             \u001b[0;32mif\u001b[0m \u001b[0mself\u001b[0m\u001b[0;34m.\u001b[0m\u001b[0m_sampler_iter\u001b[0m \u001b[0;32mis\u001b[0m \u001b[0;32mNone\u001b[0m\u001b[0;34m:\u001b[0m\u001b[0;34m\u001b[0m\u001b[0;34m\u001b[0m\u001b[0m\n\u001b[1;32m    520\u001b[0m                 \u001b[0mself\u001b[0m\u001b[0;34m.\u001b[0m\u001b[0m_reset\u001b[0m\u001b[0;34m(\u001b[0m\u001b[0;34m)\u001b[0m\u001b[0;34m\u001b[0m\u001b[0;34m\u001b[0m\u001b[0m\n\u001b[0;32m--> 521\u001b[0;31m             \u001b[0mdata\u001b[0m \u001b[0;34m=\u001b[0m \u001b[0mself\u001b[0m\u001b[0;34m.\u001b[0m\u001b[0m_next_data\u001b[0m\u001b[0;34m(\u001b[0m\u001b[0;34m)\u001b[0m\u001b[0;34m\u001b[0m\u001b[0;34m\u001b[0m\u001b[0m\n\u001b[0m\u001b[1;32m    522\u001b[0m             \u001b[0mself\u001b[0m\u001b[0;34m.\u001b[0m\u001b[0m_num_yielded\u001b[0m \u001b[0;34m+=\u001b[0m \u001b[0;36m1\u001b[0m\u001b[0;34m\u001b[0m\u001b[0;34m\u001b[0m\u001b[0m\n\u001b[1;32m    523\u001b[0m             \u001b[0;32mif\u001b[0m \u001b[0mself\u001b[0m\u001b[0;34m.\u001b[0m\u001b[0m_dataset_kind\u001b[0m \u001b[0;34m==\u001b[0m \u001b[0m_DatasetKind\u001b[0m\u001b[0;34m.\u001b[0m\u001b[0mIterable\u001b[0m \u001b[0;32mand\u001b[0m\u001b[0;31m \u001b[0m\u001b[0;31m\\\u001b[0m\u001b[0;34m\u001b[0m\u001b[0;34m\u001b[0m\u001b[0m\n",
            "\u001b[0;32m/usr/local/lib/python3.7/dist-packages/torch/utils/data/dataloader.py\u001b[0m in \u001b[0;36m_next_data\u001b[0;34m(self)\u001b[0m\n\u001b[1;32m    559\u001b[0m     \u001b[0;32mdef\u001b[0m \u001b[0m_next_data\u001b[0m\u001b[0;34m(\u001b[0m\u001b[0mself\u001b[0m\u001b[0;34m)\u001b[0m\u001b[0;34m:\u001b[0m\u001b[0;34m\u001b[0m\u001b[0;34m\u001b[0m\u001b[0m\n\u001b[1;32m    560\u001b[0m         \u001b[0mindex\u001b[0m \u001b[0;34m=\u001b[0m \u001b[0mself\u001b[0m\u001b[0;34m.\u001b[0m\u001b[0m_next_index\u001b[0m\u001b[0;34m(\u001b[0m\u001b[0;34m)\u001b[0m  \u001b[0;31m# may raise StopIteration\u001b[0m\u001b[0;34m\u001b[0m\u001b[0;34m\u001b[0m\u001b[0m\n\u001b[0;32m--> 561\u001b[0;31m         \u001b[0mdata\u001b[0m \u001b[0;34m=\u001b[0m \u001b[0mself\u001b[0m\u001b[0;34m.\u001b[0m\u001b[0m_dataset_fetcher\u001b[0m\u001b[0;34m.\u001b[0m\u001b[0mfetch\u001b[0m\u001b[0;34m(\u001b[0m\u001b[0mindex\u001b[0m\u001b[0;34m)\u001b[0m  \u001b[0;31m# may raise StopIteration\u001b[0m\u001b[0;34m\u001b[0m\u001b[0;34m\u001b[0m\u001b[0m\n\u001b[0m\u001b[1;32m    562\u001b[0m         \u001b[0;32mif\u001b[0m \u001b[0mself\u001b[0m\u001b[0;34m.\u001b[0m\u001b[0m_pin_memory\u001b[0m\u001b[0;34m:\u001b[0m\u001b[0;34m\u001b[0m\u001b[0;34m\u001b[0m\u001b[0m\n\u001b[1;32m    563\u001b[0m             \u001b[0mdata\u001b[0m \u001b[0;34m=\u001b[0m \u001b[0m_utils\u001b[0m\u001b[0;34m.\u001b[0m\u001b[0mpin_memory\u001b[0m\u001b[0;34m.\u001b[0m\u001b[0mpin_memory\u001b[0m\u001b[0;34m(\u001b[0m\u001b[0mdata\u001b[0m\u001b[0;34m)\u001b[0m\u001b[0;34m\u001b[0m\u001b[0;34m\u001b[0m\u001b[0m\n",
            "\u001b[0;32m/usr/local/lib/python3.7/dist-packages/torch/utils/data/_utils/fetch.py\u001b[0m in \u001b[0;36mfetch\u001b[0;34m(self, possibly_batched_index)\u001b[0m\n\u001b[1;32m     47\u001b[0m     \u001b[0;32mdef\u001b[0m \u001b[0mfetch\u001b[0m\u001b[0;34m(\u001b[0m\u001b[0mself\u001b[0m\u001b[0;34m,\u001b[0m \u001b[0mpossibly_batched_index\u001b[0m\u001b[0;34m)\u001b[0m\u001b[0;34m:\u001b[0m\u001b[0;34m\u001b[0m\u001b[0;34m\u001b[0m\u001b[0m\n\u001b[1;32m     48\u001b[0m         \u001b[0;32mif\u001b[0m \u001b[0mself\u001b[0m\u001b[0;34m.\u001b[0m\u001b[0mauto_collation\u001b[0m\u001b[0;34m:\u001b[0m\u001b[0;34m\u001b[0m\u001b[0;34m\u001b[0m\u001b[0m\n\u001b[0;32m---> 49\u001b[0;31m             \u001b[0mdata\u001b[0m \u001b[0;34m=\u001b[0m \u001b[0;34m[\u001b[0m\u001b[0mself\u001b[0m\u001b[0;34m.\u001b[0m\u001b[0mdataset\u001b[0m\u001b[0;34m[\u001b[0m\u001b[0midx\u001b[0m\u001b[0;34m]\u001b[0m \u001b[0;32mfor\u001b[0m \u001b[0midx\u001b[0m \u001b[0;32min\u001b[0m \u001b[0mpossibly_batched_index\u001b[0m\u001b[0;34m]\u001b[0m\u001b[0;34m\u001b[0m\u001b[0;34m\u001b[0m\u001b[0m\n\u001b[0m\u001b[1;32m     50\u001b[0m         \u001b[0;32melse\u001b[0m\u001b[0;34m:\u001b[0m\u001b[0;34m\u001b[0m\u001b[0;34m\u001b[0m\u001b[0m\n\u001b[1;32m     51\u001b[0m             \u001b[0mdata\u001b[0m \u001b[0;34m=\u001b[0m \u001b[0mself\u001b[0m\u001b[0;34m.\u001b[0m\u001b[0mdataset\u001b[0m\u001b[0;34m[\u001b[0m\u001b[0mpossibly_batched_index\u001b[0m\u001b[0;34m]\u001b[0m\u001b[0;34m\u001b[0m\u001b[0;34m\u001b[0m\u001b[0m\n",
            "\u001b[0;32m/usr/local/lib/python3.7/dist-packages/torch/utils/data/_utils/fetch.py\u001b[0m in \u001b[0;36m<listcomp>\u001b[0;34m(.0)\u001b[0m\n\u001b[1;32m     47\u001b[0m     \u001b[0;32mdef\u001b[0m \u001b[0mfetch\u001b[0m\u001b[0;34m(\u001b[0m\u001b[0mself\u001b[0m\u001b[0;34m,\u001b[0m \u001b[0mpossibly_batched_index\u001b[0m\u001b[0;34m)\u001b[0m\u001b[0;34m:\u001b[0m\u001b[0;34m\u001b[0m\u001b[0;34m\u001b[0m\u001b[0m\n\u001b[1;32m     48\u001b[0m         \u001b[0;32mif\u001b[0m \u001b[0mself\u001b[0m\u001b[0;34m.\u001b[0m\u001b[0mauto_collation\u001b[0m\u001b[0;34m:\u001b[0m\u001b[0;34m\u001b[0m\u001b[0;34m\u001b[0m\u001b[0m\n\u001b[0;32m---> 49\u001b[0;31m             \u001b[0mdata\u001b[0m \u001b[0;34m=\u001b[0m \u001b[0;34m[\u001b[0m\u001b[0mself\u001b[0m\u001b[0;34m.\u001b[0m\u001b[0mdataset\u001b[0m\u001b[0;34m[\u001b[0m\u001b[0midx\u001b[0m\u001b[0;34m]\u001b[0m \u001b[0;32mfor\u001b[0m \u001b[0midx\u001b[0m \u001b[0;32min\u001b[0m \u001b[0mpossibly_batched_index\u001b[0m\u001b[0;34m]\u001b[0m\u001b[0;34m\u001b[0m\u001b[0;34m\u001b[0m\u001b[0m\n\u001b[0m\u001b[1;32m     50\u001b[0m         \u001b[0;32melse\u001b[0m\u001b[0;34m:\u001b[0m\u001b[0;34m\u001b[0m\u001b[0;34m\u001b[0m\u001b[0m\n\u001b[1;32m     51\u001b[0m             \u001b[0mdata\u001b[0m \u001b[0;34m=\u001b[0m \u001b[0mself\u001b[0m\u001b[0;34m.\u001b[0m\u001b[0mdataset\u001b[0m\u001b[0;34m[\u001b[0m\u001b[0mpossibly_batched_index\u001b[0m\u001b[0;34m]\u001b[0m\u001b[0;34m\u001b[0m\u001b[0;34m\u001b[0m\u001b[0m\n",
            "\u001b[0;32m<ipython-input-4-b13a5a6b3490>\u001b[0m in \u001b[0;36m__getitem__\u001b[0;34m(self, index)\u001b[0m\n\u001b[1;32m     28\u001b[0m         \u001b[0msignal\u001b[0m\u001b[0;34m,\u001b[0m \u001b[0msr\u001b[0m \u001b[0;34m=\u001b[0m \u001b[0mtorchaudio\u001b[0m\u001b[0;34m.\u001b[0m\u001b[0mload\u001b[0m\u001b[0;34m(\u001b[0m\u001b[0maudio_sample_path\u001b[0m\u001b[0;34m)\u001b[0m\u001b[0;34m\u001b[0m\u001b[0;34m\u001b[0m\u001b[0m\n\u001b[1;32m     29\u001b[0m         \u001b[0msignal\u001b[0m \u001b[0;34m=\u001b[0m \u001b[0msignal\u001b[0m\u001b[0;34m.\u001b[0m\u001b[0mto\u001b[0m\u001b[0;34m(\u001b[0m\u001b[0mself\u001b[0m\u001b[0;34m.\u001b[0m\u001b[0mdevice\u001b[0m\u001b[0;34m)\u001b[0m\u001b[0;34m\u001b[0m\u001b[0;34m\u001b[0m\u001b[0m\n\u001b[0;32m---> 30\u001b[0;31m         \u001b[0msignal\u001b[0m \u001b[0;34m=\u001b[0m \u001b[0mself\u001b[0m\u001b[0;34m.\u001b[0m\u001b[0m_resample_if_necessary\u001b[0m\u001b[0;34m(\u001b[0m\u001b[0msignal\u001b[0m\u001b[0;34m,\u001b[0m \u001b[0msr\u001b[0m\u001b[0;34m)\u001b[0m\u001b[0;34m\u001b[0m\u001b[0;34m\u001b[0m\u001b[0m\n\u001b[0m\u001b[1;32m     31\u001b[0m         \u001b[0msignal\u001b[0m \u001b[0;34m=\u001b[0m \u001b[0mself\u001b[0m\u001b[0;34m.\u001b[0m\u001b[0m_mix_down_if_necessary\u001b[0m\u001b[0;34m(\u001b[0m\u001b[0msignal\u001b[0m\u001b[0;34m)\u001b[0m\u001b[0;34m\u001b[0m\u001b[0;34m\u001b[0m\u001b[0m\n\u001b[1;32m     32\u001b[0m         \u001b[0msignal\u001b[0m \u001b[0;34m=\u001b[0m \u001b[0mself\u001b[0m\u001b[0;34m.\u001b[0m\u001b[0m_cut_if_necessary\u001b[0m\u001b[0;34m(\u001b[0m\u001b[0msignal\u001b[0m\u001b[0;34m)\u001b[0m\u001b[0;34m\u001b[0m\u001b[0;34m\u001b[0m\u001b[0m\n",
            "\u001b[0;32m<ipython-input-4-b13a5a6b3490>\u001b[0m in \u001b[0;36m_resample_if_necessary\u001b[0;34m(self, signal, sr)\u001b[0m\n\u001b[1;32m     68\u001b[0m     \u001b[0;32mdef\u001b[0m \u001b[0m_resample_if_necessary\u001b[0m\u001b[0;34m(\u001b[0m\u001b[0mself\u001b[0m\u001b[0;34m,\u001b[0m \u001b[0msignal\u001b[0m\u001b[0;34m,\u001b[0m \u001b[0msr\u001b[0m\u001b[0;34m)\u001b[0m\u001b[0;34m:\u001b[0m\u001b[0;34m\u001b[0m\u001b[0;34m\u001b[0m\u001b[0m\n\u001b[1;32m     69\u001b[0m         \u001b[0;32mif\u001b[0m \u001b[0msr\u001b[0m \u001b[0;34m!=\u001b[0m \u001b[0mself\u001b[0m\u001b[0;34m.\u001b[0m\u001b[0mtarget_sample_rate\u001b[0m\u001b[0;34m:\u001b[0m\u001b[0;34m\u001b[0m\u001b[0;34m\u001b[0m\u001b[0m\n\u001b[0;32m---> 70\u001b[0;31m             \u001b[0mresampler\u001b[0m \u001b[0;34m=\u001b[0m \u001b[0mtorchaudio\u001b[0m\u001b[0;34m.\u001b[0m\u001b[0mtransforms\u001b[0m\u001b[0;34m.\u001b[0m\u001b[0mResample\u001b[0m\u001b[0;34m(\u001b[0m\u001b[0msr\u001b[0m\u001b[0;34m,\u001b[0m \u001b[0mself\u001b[0m\u001b[0;34m.\u001b[0m\u001b[0mtarget_sample_rate\u001b[0m\u001b[0;34m)\u001b[0m\u001b[0;34m\u001b[0m\u001b[0;34m\u001b[0m\u001b[0m\n\u001b[0m\u001b[1;32m     71\u001b[0m             \u001b[0mresampler\u001b[0m \u001b[0;34m=\u001b[0m \u001b[0mresampler\u001b[0m\u001b[0;34m.\u001b[0m\u001b[0mto\u001b[0m\u001b[0;34m(\u001b[0m\u001b[0mdevice\u001b[0m\u001b[0;34m)\u001b[0m\u001b[0;34m\u001b[0m\u001b[0;34m\u001b[0m\u001b[0m\n\u001b[1;32m     72\u001b[0m             \u001b[0msignal\u001b[0m \u001b[0;34m=\u001b[0m \u001b[0mresampler\u001b[0m\u001b[0;34m(\u001b[0m\u001b[0msignal\u001b[0m\u001b[0;34m)\u001b[0m\u001b[0;34m\u001b[0m\u001b[0;34m\u001b[0m\u001b[0m\n",
            "\u001b[0;32m/usr/local/lib/python3.7/dist-packages/torchaudio/transforms.py\u001b[0m in \u001b[0;36m__init__\u001b[0;34m(self, orig_freq, new_freq, resampling_method, lowpass_filter_width, rolloff, beta, dtype)\u001b[0m\n\u001b[1;32m    883\u001b[0m                 \u001b[0mself\u001b[0m\u001b[0;34m.\u001b[0m\u001b[0morig_freq\u001b[0m\u001b[0;34m,\u001b[0m \u001b[0mself\u001b[0m\u001b[0;34m.\u001b[0m\u001b[0mnew_freq\u001b[0m\u001b[0;34m,\u001b[0m \u001b[0mself\u001b[0m\u001b[0;34m.\u001b[0m\u001b[0mgcd\u001b[0m\u001b[0;34m,\u001b[0m\u001b[0;34m\u001b[0m\u001b[0;34m\u001b[0m\u001b[0m\n\u001b[1;32m    884\u001b[0m                 \u001b[0mself\u001b[0m\u001b[0;34m.\u001b[0m\u001b[0mlowpass_filter_width\u001b[0m\u001b[0;34m,\u001b[0m \u001b[0mself\u001b[0m\u001b[0;34m.\u001b[0m\u001b[0mrolloff\u001b[0m\u001b[0;34m,\u001b[0m\u001b[0;34m\u001b[0m\u001b[0;34m\u001b[0m\u001b[0m\n\u001b[0;32m--> 885\u001b[0;31m                 self.resampling_method, beta, dtype=dtype)\n\u001b[0m\u001b[1;32m    886\u001b[0m             \u001b[0mself\u001b[0m\u001b[0;34m.\u001b[0m\u001b[0mregister_buffer\u001b[0m\u001b[0;34m(\u001b[0m\u001b[0;34m'kernel'\u001b[0m\u001b[0;34m,\u001b[0m \u001b[0mkernel\u001b[0m\u001b[0;34m)\u001b[0m\u001b[0;34m\u001b[0m\u001b[0;34m\u001b[0m\u001b[0m\n\u001b[1;32m    887\u001b[0m \u001b[0;34m\u001b[0m\u001b[0m\n",
            "\u001b[0;32m/usr/local/lib/python3.7/dist-packages/torchaudio/functional/functional.py\u001b[0m in \u001b[0;36m_get_sinc_resample_kernel\u001b[0;34m(orig_freq, new_freq, gcd, lowpass_filter_width, rolloff, resampling_method, beta, device, dtype)\u001b[0m\n\u001b[1;32m   1562\u001b[0m             \u001b[0mwindow\u001b[0m \u001b[0;34m=\u001b[0m \u001b[0mtorch\u001b[0m\u001b[0;34m.\u001b[0m\u001b[0mi0\u001b[0m\u001b[0;34m(\u001b[0m\u001b[0mbeta_tensor\u001b[0m \u001b[0;34m*\u001b[0m \u001b[0mtorch\u001b[0m\u001b[0;34m.\u001b[0m\u001b[0msqrt\u001b[0m\u001b[0;34m(\u001b[0m\u001b[0;36m1\u001b[0m \u001b[0;34m-\u001b[0m \u001b[0;34m(\u001b[0m\u001b[0mt\u001b[0m \u001b[0;34m/\u001b[0m \u001b[0mlowpass_filter_width\u001b[0m\u001b[0;34m)\u001b[0m \u001b[0;34m**\u001b[0m \u001b[0;36m2\u001b[0m\u001b[0;34m)\u001b[0m\u001b[0;34m)\u001b[0m \u001b[0;34m/\u001b[0m \u001b[0mtorch\u001b[0m\u001b[0;34m.\u001b[0m\u001b[0mi0\u001b[0m\u001b[0;34m(\u001b[0m\u001b[0mbeta_tensor\u001b[0m\u001b[0;34m)\u001b[0m\u001b[0;34m\u001b[0m\u001b[0;34m\u001b[0m\u001b[0m\n\u001b[1;32m   1563\u001b[0m         \u001b[0mt\u001b[0m \u001b[0;34m*=\u001b[0m \u001b[0mmath\u001b[0m\u001b[0;34m.\u001b[0m\u001b[0mpi\u001b[0m\u001b[0;34m\u001b[0m\u001b[0;34m\u001b[0m\u001b[0m\n\u001b[0;32m-> 1564\u001b[0;31m         \u001b[0mkernel\u001b[0m \u001b[0;34m=\u001b[0m \u001b[0mtorch\u001b[0m\u001b[0;34m.\u001b[0m\u001b[0mwhere\u001b[0m\u001b[0;34m(\u001b[0m\u001b[0mt\u001b[0m \u001b[0;34m==\u001b[0m \u001b[0;36m0\u001b[0m\u001b[0;34m,\u001b[0m \u001b[0mtorch\u001b[0m\u001b[0;34m.\u001b[0m\u001b[0mtensor\u001b[0m\u001b[0;34m(\u001b[0m\u001b[0;36m1.\u001b[0m\u001b[0;34m)\u001b[0m\u001b[0;34m.\u001b[0m\u001b[0mto\u001b[0m\u001b[0;34m(\u001b[0m\u001b[0mt\u001b[0m\u001b[0;34m)\u001b[0m\u001b[0;34m,\u001b[0m \u001b[0mtorch\u001b[0m\u001b[0;34m.\u001b[0m\u001b[0msin\u001b[0m\u001b[0;34m(\u001b[0m\u001b[0mt\u001b[0m\u001b[0;34m)\u001b[0m \u001b[0;34m/\u001b[0m \u001b[0mt\u001b[0m\u001b[0;34m)\u001b[0m\u001b[0;34m\u001b[0m\u001b[0;34m\u001b[0m\u001b[0m\n\u001b[0m\u001b[1;32m   1565\u001b[0m         \u001b[0mkernel\u001b[0m\u001b[0;34m.\u001b[0m\u001b[0mmul_\u001b[0m\u001b[0;34m(\u001b[0m\u001b[0mwindow\u001b[0m\u001b[0;34m)\u001b[0m\u001b[0;34m\u001b[0m\u001b[0;34m\u001b[0m\u001b[0m\n\u001b[1;32m   1566\u001b[0m         \u001b[0mkernels\u001b[0m\u001b[0;34m.\u001b[0m\u001b[0mappend\u001b[0m\u001b[0;34m(\u001b[0m\u001b[0mkernel\u001b[0m\u001b[0;34m)\u001b[0m\u001b[0;34m\u001b[0m\u001b[0;34m\u001b[0m\u001b[0m\n",
            "\u001b[0;31mKeyboardInterrupt\u001b[0m: "
          ]
        }
      ]
    },
    {
      "cell_type": "markdown",
      "source": [
        "# Testing The Model"
      ],
      "metadata": {
        "id": "UsUgOQmt1jKk"
      }
    },
    {
      "cell_type": "code",
      "source": [
        "def test_single_epoch(model, dataloader, device):\n",
        "  correct = 0\n",
        "  size = len(dataloader.dataset)\n",
        "\n",
        "  model.eval()\n",
        "  for input,target in dataloader:\n",
        "        input, target = input.to(device), target.to(device)\n",
        "        # calculate loss\n",
        "        prediction = model(input)\n",
        "        correct += (prediction.argmax(1) == target).type(torch.float).sum().item()\n",
        "  correct /= size\n",
        "  print(f\"Test Error: \\n Accuracy: {(100*correct):>0.1f}% \\n\")"
      ],
      "metadata": {
        "id": "i5ntU_4N8fJj"
      },
      "execution_count": null,
      "outputs": []
    },
    {
      "cell_type": "code",
      "source": [
        "test_single_epoch(model,test_dataloader,device)\n"
      ],
      "metadata": {
        "colab": {
          "base_uri": "https://localhost:8080/"
        },
        "id": "LUUqKLXL8os7",
        "outputId": "1e5b095f-1ebb-44f9-d421-cf8eaa8d5b80"
      },
      "execution_count": null,
      "outputs": [
        {
          "output_type": "stream",
          "name": "stdout",
          "text": [
            "Test Error: \n",
            " Accuracy: 15.1% \n",
            "\n"
          ]
        }
      ]
    },
    {
      "cell_type": "code",
      "source": [
        "#just for Assurance!!!!\n",
        "test_single_epoch(model,val_dataloader,device)\n"
      ],
      "metadata": {
        "id": "plRuGbQLnrlg"
      },
      "execution_count": null,
      "outputs": []
    },
    {
      "cell_type": "code",
      "source": [
        "test_single_epoch(model,train_dataloader,device)"
      ],
      "metadata": {
        "id": "xg_7JtsSn5sN"
      },
      "execution_count": null,
      "outputs": []
    }
  ]
}