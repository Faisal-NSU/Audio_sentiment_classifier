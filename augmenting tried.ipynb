{
  "cells": [
    {
      "cell_type": "markdown",
      "metadata": {
        "id": "view-in-github",
        "colab_type": "text"
      },
      "source": [
        "<a href=\"https://colab.research.google.com/github/Faisal-NSU/CSE465/blob/main/augmenting%20tried.ipynb\" target=\"_parent\"><img src=\"https://colab.research.google.com/assets/colab-badge.svg\" alt=\"Open In Colab\"/></a>"
      ]
    },
    {
      "cell_type": "code",
      "source": [
        "!gdown --id 1UBZLKSiAJyKoIy_cvIH94ad0EhJLO1vY\n",
        "!gdown --id 1mfPTTkRtBPl1pUfby5G9CPFj6ml_YvDg"
      ],
      "metadata": {
        "colab": {
          "base_uri": "https://localhost:8080/"
        },
        "id": "_8mZaBgJPvju",
        "outputId": "45cf5912-d4d2-4e0f-931c-e4a9e32c68db"
      },
      "execution_count": 1,
      "outputs": [
        {
          "output_type": "stream",
          "name": "stdout",
          "text": [
            "Downloading...\n",
            "From: https://drive.google.com/uc?id=1UBZLKSiAJyKoIy_cvIH94ad0EhJLO1vY\n",
            "To: /content/Audio_Speech_Actors_01-24.zip\n",
            "100% 208M/208M [00:01<00:00, 151MB/s]\n",
            "Downloading...\n",
            "From: https://drive.google.com/uc?id=1mfPTTkRtBPl1pUfby5G9CPFj6ml_YvDg\n",
            "To: /content/Ravdess_csv.zip\n",
            "100% 6.76k/6.76k [00:00<00:00, 11.3MB/s]\n"
          ]
        }
      ]
    },
    {
      "cell_type": "code",
      "execution_count": 2,
      "metadata": {
        "id": "KQsW77n_e1P7"
      },
      "outputs": [],
      "source": [
        "import zipfile\n",
        "dataset_directory = '/content/Audio_Speech_Actors_01-24.zip'\n",
        "zip_ref = zipfile.ZipFile(dataset_directory, 'r')\n",
        "zip_ref.extractall('Unzipped_Data')\n",
        "zip_ref.close()\n",
        "\n",
        "dataset_directory = '/content/Ravdess_csv.zip'\n",
        "zip_ref = zipfile.ZipFile(dataset_directory, 'r')\n",
        "zip_ref.extractall('/content')\n",
        "zip_ref.close()\n",
        "#1SQ7-bhKan1gyBoRJiAMOXorgYoRUJwh2 emodb"
      ]
    },
    {
      "cell_type": "code",
      "execution_count": 55,
      "metadata": {
        "id": "WnEnsBihF7jx"
      },
      "outputs": [],
      "source": [
        "import os\n",
        "import torch\n",
        "from torch.utils.data import Dataset\n",
        "import pandas as pd\n",
        "import torchaudio\n",
        "from torch.utils.data import DataLoader\n",
        "from torch.nn.functional import normalize\n",
        "import math\n",
        "\n",
        "class CustomDataset(Dataset):\n",
        "    def __init__(self, annotations_file, audio_dir, transformation, target_sample_rate, num_samples, device):\n",
        "        self.annotations = pd.read_csv(annotations_file)\n",
        "        self.audio_dir = audio_dir\n",
        "        self.device = device\n",
        "        self.transformation = transformation\n",
        "        self.target_sample_rate = target_sample_rate\n",
        "        self.num_samples = num_samples\n",
        "        self.augment = False\n",
        "\n",
        "    def __len__(self):\n",
        "        return len(self.annotations) * 2\n",
        "\n",
        "    def __getitem__(self, index):\n",
        "\n",
        "        if len(self.annotations) - 1 < index:\n",
        "            self.augment = True\n",
        "        else :\n",
        "            self.augment = False\n",
        "        index = math.floor(index / 2)\n",
        "\n",
        "        audio_sample_path = self._get_audio_sample_path(index)\n",
        "        #print(audio_sample_path)\n",
        "        label = self._get_audio_sample_label(index)\n",
        "        #print(label)\n",
        "        signal, sr = torchaudio.load(audio_sample_path)\n",
        "\n",
        "        if self.augment:\n",
        "            effects = [\n",
        "                [\"lowpass\", \"-1\", \"300\"], # apply single-pole lowpass filter\n",
        "                [\"speed\", \"0.8\"],  # reduce the speed\n",
        "                                    # This only changes sample rate, so it is necessary to\n",
        "                                    # add `rate` effect with original sample rate after this.\n",
        "                [\"rate\", f\"{sr}\"],\n",
        "                [\"reverb\", \"-w\"],  # Reverbration gives some dramatic feeling\n",
        "            ]\n",
        "            signal, sr = torchaudio.sox_effects.apply_effects_tensor(signal, sr, effects)\n",
        "\n",
        "        signal = self._resample_if_necessary(signal, sr)\n",
        "        signal = self._mix_down_if_necessary(signal)\n",
        "        signal = self._cut_if_necessary(signal)\n",
        "        signal = self._right_pad_if_necessary(signal)\n",
        "        signal = self.transformation(signal)\n",
        "        delta = torchaudio.functional.compute_deltas(signal)\n",
        "        delta2 = torchaudio.functional.compute_deltas(delta)\n",
        "        signal = torch.cat((signal, delta, delta2), 1) # concatenating deltas\n",
        "        #signal = torch.mean(signal, 2, True)\n",
        "        #signal = (torch.sum(signal, 2))\n",
        "        \n",
        "        means = signal.mean(dim=1, keepdim=True)\n",
        "        stds = signal.std(dim=1, keepdim=True)\n",
        "        signal = (signal - means) / stds #NORMALIZED\n",
        "\n",
        "        return signal,label\n",
        "\n",
        "    def _cut_if_necessary(self, signal):\n",
        "        if signal.shape[1] > self.num_samples:\n",
        "            # print(signal.shape[1]) # print sample size\n",
        "            signal = signal[:, :self.num_samples]\n",
        "        return signal\n",
        "\n",
        "    def _right_pad_if_necessary(self, signal):\n",
        "        length_signal = signal.shape[1]\n",
        "        if length_signal < self.num_samples:\n",
        "            num_missing_samples = self.num_samples - length_signal\n",
        "            last_dim_padding = (0, num_missing_samples)\n",
        "            signal = torch.nn.functional.pad(signal, last_dim_padding)\n",
        "        return signal\n",
        "\n",
        "    def _resample_if_necessary(self, signal, sr):\n",
        "        if sr != self.target_sample_rate:\n",
        "            resampler = torchaudio.transforms.Resample(sr, self.target_sample_rate)\n",
        "            signal = resampler(signal)\n",
        "        return signal\n",
        "\n",
        "    def _mix_down_if_necessary(self, signal):\n",
        "        if signal.shape[0] > 1:\n",
        "            signal = torch.mean(signal, dim=0, keepdim=True)\n",
        "        return signal\n",
        "\n",
        "    # for any audio index this function returns the audio path\n",
        "    def _get_audio_sample_path(self, index):\n",
        "        path = os.path.join(self.audio_dir, self.annotations.iloc[index,0])\n",
        "        return path\n",
        "    \n",
        "    # for specified audio index this will return the label from the data csv\n",
        "    def _get_audio_sample_label(self, index):\n",
        "        return self.annotations.iloc[index, 2]"
      ]
    },
    {
      "cell_type": "code",
      "source": [
        "AUDIO_DIR = \"\"\n",
        "SAMPLE_RATE = 48000\n",
        "NUM_SAMPLES = SAMPLE_RATE*4  # either reduce the samples to 1/4 of number of samples or increase sample size 4 times of sample rate to adjust to 4 second audio\n",
        "train_csv_file = '/content/train_csv.csv'\n",
        "test_csv_file = '/content/test_csv.csv'\n",
        "val_csv_file = '/content/val_csv.csv'\n",
        "\n",
        "if torch.cuda.is_available():\n",
        "    device = \"cuda\"\n",
        "else:\n",
        "    device = \"cpu\"\n",
        "print(f\"Using device {device}\")\n",
        "\n",
        "mfcc = torchaudio.transforms.MFCC(sample_rate=SAMPLE_RATE, n_mfcc=44, melkwargs={\"n_fft\": 1500, \"hop_length\": 500, 'power':2})\n",
        "\n",
        "train_dataset = CustomDataset(train_csv_file,\n",
        "                        AUDIO_DIR,\n",
        "                        mfcc,\n",
        "                        SAMPLE_RATE,\n",
        "                        NUM_SAMPLES,\n",
        "                        device)\n",
        "print(f\"There are {len(train_dataset)} samples in the train dataset.\")\n",
        "\n",
        "test_dataset = CustomDataset(test_csv_file,\n",
        "                        AUDIO_DIR,\n",
        "                        mfcc,\n",
        "                        SAMPLE_RATE,\n",
        "                        NUM_SAMPLES,\n",
        "                        device)\n",
        "print(f\"There are {len(test_dataset)} samples in the test dataset.\")\n",
        "\n",
        "\n",
        "val_dataset = CustomDataset(val_csv_file,\n",
        "                        AUDIO_DIR,\n",
        "                        mfcc,\n",
        "                        SAMPLE_RATE,\n",
        "                        NUM_SAMPLES,\n",
        "                        device)\n",
        "\n",
        "print(f\"There are {len(val_dataset)} samples in validation  dataset.\")\n",
        "signal, label = val_dataset[0]\n",
        "print(signal.shape)"
      ],
      "metadata": {
        "colab": {
          "base_uri": "https://localhost:8080/"
        },
        "id": "cNIGoYVMQkpm",
        "outputId": "c500761a-fcaa-489c-b2e5-8d3daa345102"
      },
      "execution_count": 56,
      "outputs": [
        {
          "output_type": "stream",
          "name": "stdout",
          "text": [
            "Using device cuda\n",
            "There are 1792 samples in the train dataset.\n",
            "There are 448 samples in the test dataset.\n",
            "There are 448 samples in validation  dataset.\n",
            "torch.Size([1, 132, 385])\n"
          ]
        }
      ]
    },
    {
      "cell_type": "code",
      "execution_count": 57,
      "metadata": {
        "id": "WDxxZBlnkUw6"
      },
      "outputs": [],
      "source": [
        "from torch import nn\n",
        "from torchsummary import summary\n",
        "\n",
        "from torchvision import models\n",
        "model = models.resnet50(pretrained=True)\n",
        "\n",
        "model = model.to(device)\n",
        "model.conv1=nn.Conv2d(1, model.conv1.out_channels, \n",
        "                      kernel_size=model.conv1.kernel_size[0], \n",
        "                      stride=model.conv1.stride[0], \n",
        "                      padding=model.conv1.padding[0])\n",
        "num_ftrs = model.fc.in_features\n",
        "model.fc = nn.Sequential(*[nn.Dropout(p=0.25), nn.Linear(num_ftrs, 7)])"
      ]
    },
    {
      "cell_type": "code",
      "source": [
        "model = model.to(device)\n",
        "#summary(model, signal.shape)"
      ],
      "metadata": {
        "id": "UN2A5cVgyL4-"
      },
      "execution_count": 59,
      "outputs": []
    },
    {
      "cell_type": "code",
      "execution_count": 61,
      "metadata": {
        "id": "E5XrwvA-vosH"
      },
      "outputs": [],
      "source": [
        "BATCH_SIZE = 32\n",
        "EPOCHS = 10\n",
        "LEARNING_RATE = .0001\n",
        "import torch.utils.data as data\n",
        "\n",
        "def create_data_loader(train_data, batch_size):\n",
        "    train_dataloader = DataLoader(train_data, batch_size=batch_size,shuffle=True)\n",
        "    return train_dataloader\n",
        "\n",
        "def train_single_epoch(model, data_loader, loss_fn, optimiser, device):\n",
        "    model.train()\n",
        "    for input,target in data_loader:\n",
        "        input, target = input.to(device), target.to(device)\n",
        "        # calculate loss\n",
        "        prediction = model(input)\n",
        "        loss = loss_fn(prediction, target)\n",
        "        # backpropagate error and update weights\n",
        "        optimiser.zero_grad()\n",
        "        loss.backward()\n",
        "        optimiser.step()\n",
        "    print(f\"loss: {loss.item()}\")\n",
        "\n",
        "\n",
        "def test_single_epoch(model, dataloader, loss_fn, optimiser, device):\n",
        "  correct = 0\n",
        "  size = len(dataloader.dataset)\n",
        "  model.eval()\n",
        "  with torch.no_grad():\n",
        "    for input,target in dataloader:\n",
        "          input, target = input.to(device), target.to(device)\n",
        "          # calculate loss\n",
        "          prediction = model(input)\n",
        "          loss = loss_fn(prediction, target)\n",
        "          correct += (prediction.argmax(1) == target).type(torch.float).sum().item()\n",
        "    correct /= size\n",
        "    \n",
        "    print(f\"Test Error: \\n Accuracy: {(100*correct):>0.1f}% \\n\")\n",
        "\n",
        "  return 100*correct\n",
        "\n",
        "\n",
        "def train_test(model, train_dataloader, test_dataloader, loss_fn, optimiser, device, epochs,best_acc=0):\n",
        "    \n",
        "    for i in range(epochs):\n",
        "        print(f\"Epoch {i+1}\")\n",
        "        train_single_epoch(model, train_dataloader, loss_fn, optimiser, device)\n",
        "        acc = test_single_epoch(model, test_dataloader, loss_fn, optimiser, device)\n",
        "        #scheduler.step(acc)\n",
        "        if(acc > best_acc):\n",
        "          print(\"saving model now\",best_acc)\n",
        "          best_acc = acc\n",
        "          torch.save(model,\"model.pth\")\n",
        "        print(\"---------------------------\")\n",
        "    print(\"Finished training\")\n",
        "    return best_acc\n",
        "train_dataloader = create_data_loader(train_dataset, BATCH_SIZE)\n",
        "test_dataloader = create_data_loader(test_dataset, BATCH_SIZE)\n",
        "val_dataloader = create_data_loader(val_dataset, BATCH_SIZE)\n",
        "model = model.to(device)\n",
        "\n",
        "# initialise loss funtion + optimiser\n",
        "loss_fn = nn.CrossEntropyLoss() \n",
        "optimiser = torch.optim.Adam(model.parameters(), lr=LEARNING_RATE)\n",
        "#scheduler = torch.optim.lr_scheduler.ReduceLROnPlateau(optimiser, 'max',factor=0.1, patience=10,verbose=True )\n"
      ]
    },
    {
      "cell_type": "code",
      "source": [
        "#optimiser = torch.optim.SGD(model.parameters(),lr=.000001,momentum=0.9, weight_decay=0.01)\n"
      ],
      "metadata": {
        "id": "oVCqeDz-srqo"
      },
      "execution_count": 48,
      "outputs": []
    },
    {
      "cell_type": "code",
      "execution_count": null,
      "metadata": {
        "colab": {
          "base_uri": "https://localhost:8080/"
        },
        "id": "Kmna9BTTwLzr",
        "outputId": "58ee3e56-ccc9-4aba-aea0-6bcff791b748"
      },
      "outputs": [
        {
          "output_type": "stream",
          "name": "stdout",
          "text": [
            "Epoch 1\n"
          ]
        }
      ],
      "source": [
        "best_acc = train_test(model, train_dataloader, val_dataloader, loss_fn, optimiser, device, EPOCHS,best_acc)"
      ]
    }
  ],
  "metadata": {
    "accelerator": "GPU",
    "colab": {
      "collapsed_sections": [],
      "name": "Practice_ANN.ipynb",
      "provenance": [],
      "include_colab_link": true
    },
    "kernelspec": {
      "display_name": "Python 3",
      "name": "python3"
    },
    "language_info": {
      "name": "python"
    }
  },
  "nbformat": 4,
  "nbformat_minor": 0
}