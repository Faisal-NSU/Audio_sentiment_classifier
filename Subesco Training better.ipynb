{
  "nbformat": 4,
  "nbformat_minor": 0,
  "metadata": {
    "colab": {
      "name": "shahrinbolseworkkorlebiyekorbe.ipynb",
      "provenance": [],
      "include_colab_link": true
    },
    "kernelspec": {
      "name": "python3",
      "display_name": "Python 3"
    },
    "language_info": {
      "name": "python"
    },
    "accelerator": "GPU"
  },
  "cells": [
    {
      "cell_type": "markdown",
      "metadata": {
        "id": "view-in-github",
        "colab_type": "text"
      },
      "source": [
        "<a href=\"https://colab.research.google.com/github/Faisal-NSU/CSE465/blob/main/Subesco%20Training%20better.ipynb\" target=\"_parent\"><img src=\"https://colab.research.google.com/assets/colab-badge.svg\" alt=\"Open In Colab\"/></a>"
      ]
    },
    {
      "cell_type": "markdown",
      "source": [
        "Unzip Dataset (Subesco)"
      ],
      "metadata": {
        "id": "UAetRfWHTQSD"
      }
    },
    {
      "cell_type": "markdown",
      "source": [
        "# Download And Extract"
      ],
      "metadata": {
        "id": "BY5QPBv3h7Uq"
      }
    },
    {
      "cell_type": "code",
      "source": [
        "#Model Link\n",
        "!gdown --id 1NiKtbbebxL8kNPw7bsbCr85lprAomcNw"
      ],
      "metadata": {
        "colab": {
          "base_uri": "https://localhost:8080/"
        },
        "id": "e-zKrInTmL4j",
        "outputId": "b93722df-925b-46ae-97c0-7e2915f90b5f"
      },
      "execution_count": null,
      "outputs": [
        {
          "output_type": "stream",
          "name": "stdout",
          "text": [
            "Downloading...\n",
            "From: https://drive.google.com/uc?id=1NiKtbbebxL8kNPw7bsbCr85lprAomcNw\n",
            "To: /content/Resnet50_Ravdess_71acc.pth\n",
            "100% 94.4M/94.4M [00:01<00:00, 71.7MB/s]\n"
          ]
        }
      ]
    },
    {
      "cell_type": "code",
      "source": [
        "#Subesco.zip\n",
        "!gdown --id 1k-afEJdwz5Tf4-bsuKOJzP7xn-KQTlkM"
      ],
      "metadata": {
        "colab": {
          "base_uri": "https://localhost:8080/"
        },
        "id": "PY2QjzdT6Zpj",
        "outputId": "1920dae4-bbab-4f06-9629-258bee9958f1"
      },
      "execution_count": 1,
      "outputs": [
        {
          "output_type": "stream",
          "name": "stdout",
          "text": [
            "Downloading...\n",
            "From: https://drive.google.com/uc?id=1k-afEJdwz5Tf4-bsuKOJzP7xn-KQTlkM\n",
            "To: /content/SUBESCO.zip\n",
            "100% 1.65G/1.65G [00:15<00:00, 107MB/s] \n"
          ]
        }
      ]
    },
    {
      "cell_type": "code",
      "execution_count": 2,
      "metadata": {
        "id": "kcAXMisz2plC"
      },
      "outputs": [],
      "source": [
        "import zipfile\n",
        "dataset_directory = '/content/SUBESCO.zip'\n",
        "zip_ref = zipfile.ZipFile(dataset_directory, 'r')\n",
        "zip_ref.extractall('/content')\n",
        "zip_ref.close()"
      ]
    },
    {
      "cell_type": "markdown",
      "source": [
        "# Custom Dataset Class"
      ],
      "metadata": {
        "id": "8m8F1n2QiNXD"
      }
    },
    {
      "cell_type": "markdown",
      "source": [
        "Create custom Dataset"
      ],
      "metadata": {
        "id": "i2kgkj5VWhgx"
      }
    },
    {
      "cell_type": "code",
      "source": [
        "import os\n",
        "import torch\n",
        "from torch.utils.data import Dataset\n",
        "import pandas as pd\n",
        "import torchaudio\n",
        "from torch.utils.data import DataLoader\n",
        "import torch.optim.lr_scheduler as lr_scheduler\n",
        "from torch.nn.functional import normalize\n",
        "\n",
        "\n",
        "class CustomDataset(Dataset):\n",
        "    def __init__(self, annotations_file, audio_dir, transformation, target_sample_rate, num_samples, device):\n",
        "        self.annotations = pd.read_csv(annotations_file)\n",
        "        self.audio_dir = audio_dir\n",
        "        self.device = device\n",
        "        self.transformation = transformation.to(self.device)\n",
        "        self.target_sample_rate = target_sample_rate\n",
        "        self.num_samples = num_samples\n",
        "\n",
        "    def __len__(self):\n",
        "        return len(self.annotations)\n",
        "\n",
        "    def __getitem__(self, index):\n",
        "        audio_sample_path = self._get_audio_sample_path(index)\n",
        "        #print(audio_sample_path)\n",
        "        label = self._get_audio_sample_label(index)\n",
        "        #print(label)\n",
        "        signal, sr = torchaudio.load(audio_sample_path)\n",
        "        signal = signal.to(self.device)\n",
        "        signal = self._resample_if_necessary(signal, sr)\n",
        "        signal = self._mix_down_if_necessary(signal)\n",
        "        signal = self._cut_if_necessary(signal)\n",
        "        signal = self._right_pad_if_necessary(signal)\n",
        "        signal = self.transformation(signal)\n",
        "        # produce delta and delta-delta and add to mfcc\n",
        "        delta = torchaudio.functional.compute_deltas(signal)\n",
        "        delta2 = torchaudio.functional.compute_deltas(delta)\n",
        "        #signal = torch.cat((signal, delta, delta2), 1) # concatenating deltas\n",
        "        \n",
        "        signal = signal + delta + delta2\n",
        "        avg_mfcc_deltas = signal\n",
        "        #columns = list(signal[0][1].shape)\n",
        "        #columns = int(columns[0])\n",
        "        #avg_mfcc_deltas = (torch.sum(signal, 2))\n",
        "        #avg_mfcc_deltas /= 60\n",
        "        \n",
        "        #means = avg_mfcc_deltas.mean(dim=1, keepdim=True)\n",
        "        #stds = avg_mfcc_deltas.std(dim=1, keepdim=True)\n",
        "        #avg_mfcc_deltas = (avg_mfcc_deltas - means) / stds #NORMALIZED\n",
        "        #avg_mfcc_deltas = normalize(avg_mfcc_deltas, p=2.0)\n",
        "\n",
        "        return avg_mfcc_deltas,label\n",
        "\n",
        "    def _cut_if_necessary(self, signal):\n",
        "        if signal.shape[1] > self.num_samples:\n",
        "            # print(signal.shape[1]) # print sample size\n",
        "            signal = signal[:, :self.num_samples]\n",
        "        return signal\n",
        "\n",
        "    def _right_pad_if_necessary(self, signal):\n",
        "        length_signal = signal.shape[1]\n",
        "        if length_signal < self.num_samples:\n",
        "            num_missing_samples = self.num_samples - length_signal\n",
        "            last_dim_padding = (0, num_missing_samples)\n",
        "            signal = torch.nn.functional.pad(signal, last_dim_padding)\n",
        "        return signal\n",
        "\n",
        "    def _resample_if_necessary(self, signal, sr):\n",
        "        if sr != self.target_sample_rate:\n",
        "            resampler = torchaudio.transforms.Resample(sr, self.target_sample_rate)\n",
        "            resampler = resampler.to(device)\n",
        "            signal = resampler(signal)\n",
        "        return signal\n",
        "\n",
        "    def _mix_down_if_necessary(self, signal):\n",
        "        if signal.shape[0] > 1:\n",
        "            signal = torch.mean(signal, dim=0, keepdim=True)\n",
        "        return signal\n",
        "\n",
        "    # for any audio index this function returns the audio path\n",
        "    def _get_audio_sample_path(self, index):\n",
        "        path = os.path.join(self.audio_dir, self.annotations.iloc[index,0])\n",
        "        return path\n",
        "    \n",
        "    # for specified audio index this will return the label from the data csv\n",
        "    def _get_audio_sample_label(self, index):\n",
        "        return self.annotations.iloc[index, 4]"
      ],
      "metadata": {
        "id": "UBSsEU43WdcD"
      },
      "execution_count": 3,
      "outputs": []
    },
    {
      "cell_type": "markdown",
      "source": [
        "Instantiate the dataset"
      ],
      "metadata": {
        "id": "LY45V_efdoLX"
      }
    },
    {
      "cell_type": "code",
      "source": [
        "TRAIN_CSV = '/content/SUBESCO/train/train.csv'\n",
        "TEST_CSV = '/content/SUBESCO/test/test.csv'\n",
        "VALID_CSV = '/content/SUBESCO/valid/valid.csv'\n",
        "\n",
        "TRAIN_PATH = '/content/SUBESCO/train/'\n",
        "TEST_PATH = '/content/SUBESCO/test/'\n",
        "VALID_PATH = '/content/SUBESCO/valid/'\n",
        "\n",
        "SAMPLE_RATE = 16000\n",
        "NUM_SAMPLES = SAMPLE_RATE*4\n",
        "\n",
        "device = ''\n",
        "if torch.cuda.is_available():\n",
        "    device = \"cuda\"\n",
        "else:\n",
        "    device = \"cpu\"\n",
        "print(f\"Using device {device}\")\n",
        "\n",
        "mfcc = torchaudio.transforms.MFCC(sample_rate=SAMPLE_RATE, n_mfcc=128, melkwargs={\"n_fft\": 2048, \"hop_length\": 512, \"power\": 2})\n",
        "\n",
        "train_dataset = CustomDataset(TRAIN_CSV,\n",
        "                        TRAIN_PATH,\n",
        "                        mfcc,\n",
        "                        SAMPLE_RATE,\n",
        "                        NUM_SAMPLES,\n",
        "                        device)\n",
        "print(f\"There are {len(train_dataset)} samples in the train.\")\n",
        "\n",
        "val_dataset = CustomDataset(VALID_CSV,\n",
        "                        VALID_PATH,\n",
        "                        mfcc,\n",
        "                        SAMPLE_RATE,\n",
        "                        NUM_SAMPLES,\n",
        "                        device)\n",
        "\n",
        "print(f\"There are {len(val_dataset)} samples in the valid.\")\n",
        "\n",
        "test_dataset = CustomDataset(TEST_CSV,\n",
        "                        TEST_PATH,\n",
        "                        mfcc,\n",
        "                        SAMPLE_RATE,\n",
        "                        NUM_SAMPLES,\n",
        "                        device)\n",
        "print(f\"There are {len(test_dataset)} samples in the test.\")"
      ],
      "metadata": {
        "colab": {
          "base_uri": "https://localhost:8080/"
        },
        "id": "irCA4qM4dneT",
        "outputId": "85eaf59d-4931-48b4-d232-919b3b56261b"
      },
      "execution_count": 4,
      "outputs": [
        {
          "output_type": "stream",
          "name": "stdout",
          "text": [
            "Using device cuda\n",
            "There are 4900 samples in the train.\n",
            "There are 700 samples in the valid.\n",
            "There are 1400 samples in the test.\n"
          ]
        }
      ]
    },
    {
      "cell_type": "code",
      "source": [
        "signal, label = val_dataset[0]\n",
        "print(signal.shape)\n",
        "df = pd.read_csv(TRAIN_CSV)\n",
        "print(df['label_id'].value_counts())\n",
        "df = pd.read_csv(TEST_CSV)\n",
        "print(df['label_id'].value_counts())\n",
        "df = pd.read_csv(VALID_CSV)\n",
        "print(df['label_id'].value_counts())\n"
      ],
      "metadata": {
        "colab": {
          "base_uri": "https://localhost:8080/"
        },
        "id": "lBteY7ubjjQt",
        "outputId": "fa0f1da9-45e2-4c24-a907-53399866da73"
      },
      "execution_count": 5,
      "outputs": [
        {
          "output_type": "stream",
          "name": "stdout",
          "text": [
            "torch.Size([1, 128, 126])\n",
            "3    700\n",
            "6    700\n",
            "2    700\n",
            "5    700\n",
            "1    700\n",
            "4    700\n",
            "0    700\n",
            "Name: label_id, dtype: int64\n",
            "6    200\n",
            "5    200\n",
            "4    200\n",
            "3    200\n",
            "2    200\n",
            "1    200\n",
            "0    200\n",
            "Name: label_id, dtype: int64\n",
            "6    100\n",
            "5    100\n",
            "4    100\n",
            "3    100\n",
            "2    100\n",
            "1    100\n",
            "0    100\n",
            "Name: label_id, dtype: int64\n"
          ]
        }
      ]
    },
    {
      "cell_type": "markdown",
      "source": [
        "# Model Loading and Training"
      ],
      "metadata": {
        "id": "V7ZEOkhKmF3E"
      }
    },
    {
      "cell_type": "code",
      "execution_count": 15,
      "metadata": {
        "id": "WDxxZBlnkUw6"
      },
      "outputs": [],
      "source": [
        "from torch import nn\n",
        "from torchsummary import summary\n",
        "\n",
        "from torchvision import models\n",
        "model = models.resnet50(pretrained=True)\n",
        "\n",
        "model = model.to(device)\n",
        "model.conv1=nn.Conv2d(1, model.conv1.out_channels, \n",
        "                      kernel_size=model.conv1.kernel_size[0], \n",
        "                      stride=model.conv1.stride[0], \n",
        "                      padding=model.conv1.padding[0])\n",
        "num_ftrs = model.fc.in_features\n",
        "model.fc = nn.Sequential(*[nn.Dropout(p=0.25), nn.Linear(num_ftrs, 7)])"
      ]
    },
    {
      "cell_type": "code",
      "source": [
        "from google.colab import drive\n",
        "\n",
        "drive.mount('/content/gdrive')"
      ],
      "metadata": {
        "id": "b_nrM5C9AtxK",
        "outputId": "ea171659-b4b9-4764-f251-e5bc11f7b8b0",
        "colab": {
          "base_uri": "https://localhost:8080/"
        }
      },
      "execution_count": 7,
      "outputs": [
        {
          "output_type": "stream",
          "name": "stdout",
          "text": [
            "Mounted at /content/gdrive\n"
          ]
        }
      ]
    },
    {
      "cell_type": "code",
      "source": [
        "model = model.to(device)\n",
        "#summary(model, signal.shape)"
      ],
      "metadata": {
        "id": "UN2A5cVgyL4-"
      },
      "execution_count": 16,
      "outputs": []
    },
    {
      "cell_type": "code",
      "source": [
        "from torch import nn\n",
        "BATCH_SIZE = 32\n",
        "criterion = nn.CrossEntropyLoss()\n",
        "optimizer = torch.optim.Adam(model.parameters(), lr=0.0001)\n",
        "step_lr_scheduler = lr_scheduler.StepLR(optimizer, step_size=10, gamma=0.1)\n",
        "\n",
        "def create_data_loader(train_data, batch_size):\n",
        "    train_dataloader = DataLoader(train_data, batch_size=batch_size,shuffle=True)\n",
        "    return train_dataloader\n",
        "\n",
        "train_dataloader = create_data_loader(train_dataset, BATCH_SIZE)\n",
        "test_dataloader = create_data_loader(test_dataset, BATCH_SIZE)\n",
        "val_dataloader = create_data_loader(val_dataset, BATCH_SIZE)"
      ],
      "metadata": {
        "id": "Vn4QrDSngyhX"
      },
      "execution_count": 21,
      "outputs": []
    },
    {
      "cell_type": "code",
      "source": [
        "def train_loop(dataloader, model, loss_fn, optimizer):\n",
        "    model.train()\n",
        "    size = len(dataloader.dataset)  \n",
        "    for batch, (X,y) in enumerate(dataloader):\n",
        "        # Compute prediction and loss\n",
        "        X, y = X.to(device), y.to(device)\n",
        "        pred = model(X)\n",
        "        loss = loss_fn(pred, y)\n",
        "\n",
        "        # Backpropagation\n",
        "        optimizer.zero_grad()\n",
        "        loss.backward()\n",
        "        optimizer.step()\n",
        "\n",
        "        if batch % 50 == 0:\n",
        "            loss, current = loss.item(), batch * len(X)\n",
        "            print(f\"loss: {loss:>7f}  [{current:>5d}/{size:>5d}]\")\n",
        "    return model"
      ],
      "metadata": {
        "id": "Jhk6pTKCSEQY"
      },
      "execution_count": 18,
      "outputs": []
    },
    {
      "cell_type": "code",
      "source": [
        "def test_loop(dataloader, model, loss_fn):\n",
        "    model.eval()\n",
        "    size = len(dataloader.dataset)\n",
        "    num_batches = len(dataloader)\n",
        "    test_loss, correct = 0, 0\n",
        "\n",
        "    with torch.no_grad():\n",
        "        for (X,y) in dataloader:\n",
        "            X, y = X.to(device), y.to(device)\n",
        "            pred = model(X)\n",
        "            test_loss += loss_fn(pred, y).item()\n",
        "            correct += (pred.argmax(1) == y).type(torch.float).sum().item()\n",
        "\n",
        "    test_loss /= num_batches\n",
        "    correct /= size\n",
        "    print(f\"Test Error: \\n Accuracy: {(100*correct):>0.1f}%, Avg loss: {test_loss:>8f} \\n\")\n",
        "    return 100*correct"
      ],
      "metadata": {
        "id": "RngTm7rGSm6v"
      },
      "execution_count": 19,
      "outputs": []
    },
    {
      "cell_type": "code",
      "source": [
        "import math\n",
        "import time\n",
        "#best_acc=0\n",
        "EPOCHS = 100\n",
        "start = time.time()\n",
        "for t in range(EPOCHS):\n",
        "    print(f\"Epoch {t+1}\\n-------------------------------\")\n",
        "    train_loop(train_dataloader, model, criterion, optimizer)\n",
        "    acc = test_loop(val_dataloader, model, criterion)\n",
        "    step_lr_scheduler.step()\n",
        "    if(acc > best_acc):\n",
        "          print(\"saving model now\",best_acc)\n",
        "          best_acc = acc\n",
        "          torch.save(model,\"/content/gdrive/MyDrive/model.pth\")\n",
        "    \n",
        "final = (time.time() - start)/60\n",
        "print(f\"Done for all {EPOCHS} epochs in {math.ceil(final)} minutes\\n\")"
      ],
      "metadata": {
        "id": "rBPMtivT4pmH",
        "outputId": "63b565e0-df41-4e49-a057-42a13862e88b",
        "colab": {
          "base_uri": "https://localhost:8080/"
        }
      },
      "execution_count": null,
      "outputs": [
        {
          "output_type": "stream",
          "name": "stdout",
          "text": [
            "Epoch 1\n",
            "-------------------------------\n",
            "loss: 0.697659  [    0/ 4900]\n",
            "loss: 0.685520  [ 1600/ 4900]\n",
            "loss: 0.565295  [ 3200/ 4900]\n",
            "loss: 0.411187  [ 4800/ 4900]\n",
            "Test Error: \n",
            " Accuracy: 61.0%, Avg loss: 1.261443 \n",
            "\n",
            "saving model now 35.57142857142857\n",
            "Epoch 2\n",
            "-------------------------------\n",
            "loss: 0.452408  [    0/ 4900]\n",
            "loss: 0.432954  [ 1600/ 4900]\n",
            "loss: 0.379845  [ 3200/ 4900]\n",
            "loss: 0.575933  [ 4800/ 4900]\n",
            "Test Error: \n",
            " Accuracy: 59.4%, Avg loss: 1.552255 \n",
            "\n",
            "Epoch 3\n",
            "-------------------------------\n",
            "loss: 0.423049  [    0/ 4900]\n",
            "loss: 0.381556  [ 1600/ 4900]\n",
            "loss: 0.455265  [ 3200/ 4900]\n",
            "loss: 0.298730  [ 4800/ 4900]\n",
            "Test Error: \n",
            " Accuracy: 62.4%, Avg loss: 1.464223 \n",
            "\n",
            "saving model now 61.0\n",
            "Epoch 4\n",
            "-------------------------------\n",
            "loss: 0.521854  [    0/ 4900]\n",
            "loss: 0.351473  [ 1600/ 4900]\n",
            "loss: 0.452263  [ 3200/ 4900]\n",
            "loss: 0.145168  [ 4800/ 4900]\n",
            "Test Error: \n",
            " Accuracy: 60.9%, Avg loss: 1.530604 \n",
            "\n",
            "Epoch 5\n",
            "-------------------------------\n",
            "loss: 0.231233  [    0/ 4900]\n",
            "loss: 0.109641  [ 1600/ 4900]\n",
            "loss: 0.134027  [ 3200/ 4900]\n",
            "loss: 0.072359  [ 4800/ 4900]\n",
            "Test Error: \n",
            " Accuracy: 60.4%, Avg loss: 1.948519 \n",
            "\n",
            "Epoch 6\n",
            "-------------------------------\n",
            "loss: 0.144652  [    0/ 4900]\n",
            "loss: 0.148860  [ 1600/ 4900]\n",
            "loss: 0.186506  [ 3200/ 4900]\n",
            "loss: 0.138260  [ 4800/ 4900]\n",
            "Test Error: \n",
            " Accuracy: 58.1%, Avg loss: 2.266176 \n",
            "\n",
            "Epoch 7\n",
            "-------------------------------\n",
            "loss: 0.164892  [    0/ 4900]\n",
            "loss: 0.027404  [ 1600/ 4900]\n",
            "loss: 0.104159  [ 3200/ 4900]\n",
            "loss: 0.034474  [ 4800/ 4900]\n",
            "Test Error: \n",
            " Accuracy: 62.7%, Avg loss: 1.850355 \n",
            "\n",
            "saving model now 62.42857142857143\n",
            "Epoch 8\n",
            "-------------------------------\n",
            "loss: 0.157707  [    0/ 4900]\n",
            "loss: 0.324748  [ 1600/ 4900]\n",
            "loss: 0.046823  [ 3200/ 4900]\n",
            "loss: 0.050967  [ 4800/ 4900]\n",
            "Test Error: \n",
            " Accuracy: 61.6%, Avg loss: 2.039712 \n",
            "\n",
            "Epoch 9\n",
            "-------------------------------\n",
            "loss: 0.032134  [    0/ 4900]\n",
            "loss: 0.019728  [ 1600/ 4900]\n",
            "loss: 0.064459  [ 3200/ 4900]\n",
            "loss: 0.158986  [ 4800/ 4900]\n",
            "Test Error: \n",
            " Accuracy: 53.6%, Avg loss: 2.902081 \n",
            "\n",
            "Epoch 10\n",
            "-------------------------------\n",
            "loss: 0.067215  [    0/ 4900]\n",
            "loss: 0.109011  [ 1600/ 4900]\n",
            "loss: 0.023421  [ 3200/ 4900]\n",
            "loss: 0.096400  [ 4800/ 4900]\n",
            "Test Error: \n",
            " Accuracy: 63.6%, Avg loss: 1.743702 \n",
            "\n",
            "saving model now 62.71428571428571\n",
            "Epoch 11\n",
            "-------------------------------\n",
            "loss: 0.035840  [    0/ 4900]\n",
            "loss: 0.028506  [ 1600/ 4900]\n",
            "loss: 0.004688  [ 3200/ 4900]\n",
            "loss: 0.076318  [ 4800/ 4900]\n",
            "Test Error: \n",
            " Accuracy: 62.0%, Avg loss: 2.059104 \n",
            "\n",
            "Epoch 12\n",
            "-------------------------------\n",
            "loss: 0.012314  [    0/ 4900]\n",
            "loss: 0.041150  [ 1600/ 4900]\n",
            "loss: 0.011337  [ 3200/ 4900]\n",
            "loss: 0.007256  [ 4800/ 4900]\n",
            "Test Error: \n",
            " Accuracy: 63.9%, Avg loss: 1.947243 \n",
            "\n",
            "saving model now 63.57142857142857\n",
            "Epoch 13\n",
            "-------------------------------\n",
            "loss: 0.014149  [    0/ 4900]\n",
            "loss: 0.018586  [ 1600/ 4900]\n",
            "loss: 0.022587  [ 3200/ 4900]\n",
            "loss: 0.005598  [ 4800/ 4900]\n",
            "Test Error: \n",
            " Accuracy: 63.3%, Avg loss: 2.009616 \n",
            "\n",
            "Epoch 14\n",
            "-------------------------------\n",
            "loss: 0.008068  [    0/ 4900]\n",
            "loss: 0.002919  [ 1600/ 4900]\n",
            "loss: 0.042488  [ 3200/ 4900]\n",
            "loss: 0.006947  [ 4800/ 4900]\n",
            "Test Error: \n",
            " Accuracy: 63.1%, Avg loss: 2.045704 \n",
            "\n",
            "Epoch 15\n",
            "-------------------------------\n",
            "loss: 0.005790  [    0/ 4900]\n",
            "loss: 0.014014  [ 1600/ 4900]\n",
            "loss: 0.011723  [ 3200/ 4900]\n",
            "loss: 0.008143  [ 4800/ 4900]\n",
            "Test Error: \n",
            " Accuracy: 64.3%, Avg loss: 2.017305 \n",
            "\n",
            "saving model now 63.857142857142854\n",
            "Epoch 16\n",
            "-------------------------------\n",
            "loss: 0.002675  [    0/ 4900]\n",
            "loss: 0.003480  [ 1600/ 4900]\n",
            "loss: 0.017065  [ 3200/ 4900]\n",
            "loss: 0.072263  [ 4800/ 4900]\n",
            "Test Error: \n",
            " Accuracy: 60.9%, Avg loss: 2.281394 \n",
            "\n",
            "Epoch 17\n",
            "-------------------------------\n",
            "loss: 0.006581  [    0/ 4900]\n",
            "loss: 0.007806  [ 1600/ 4900]\n",
            "loss: 0.019044  [ 3200/ 4900]\n",
            "loss: 0.087258  [ 4800/ 4900]\n",
            "Test Error: \n",
            " Accuracy: 63.0%, Avg loss: 2.145905 \n",
            "\n",
            "Epoch 18\n",
            "-------------------------------\n",
            "loss: 0.001341  [    0/ 4900]\n",
            "loss: 0.015491  [ 1600/ 4900]\n",
            "loss: 0.003834  [ 3200/ 4900]\n",
            "loss: 0.007777  [ 4800/ 4900]\n",
            "Test Error: \n",
            " Accuracy: 63.9%, Avg loss: 2.069336 \n",
            "\n",
            "Epoch 19\n",
            "-------------------------------\n",
            "loss: 0.012379  [    0/ 4900]\n",
            "loss: 0.002264  [ 1600/ 4900]\n",
            "loss: 0.003193  [ 3200/ 4900]\n",
            "loss: 0.001185  [ 4800/ 4900]\n",
            "Test Error: \n",
            " Accuracy: 61.6%, Avg loss: 2.203322 \n",
            "\n",
            "Epoch 20\n",
            "-------------------------------\n",
            "loss: 0.040616  [    0/ 4900]\n",
            "loss: 0.002325  [ 1600/ 4900]\n",
            "loss: 0.007649  [ 3200/ 4900]\n",
            "loss: 0.001948  [ 4800/ 4900]\n",
            "Test Error: \n",
            " Accuracy: 61.3%, Avg loss: 2.213446 \n",
            "\n",
            "Epoch 21\n",
            "-------------------------------\n",
            "loss: 0.009103  [    0/ 4900]\n",
            "loss: 0.001130  [ 1600/ 4900]\n",
            "loss: 0.003929  [ 3200/ 4900]\n",
            "loss: 0.021751  [ 4800/ 4900]\n",
            "Test Error: \n",
            " Accuracy: 63.0%, Avg loss: 2.072788 \n",
            "\n",
            "Epoch 22\n",
            "-------------------------------\n",
            "loss: 0.005600  [    0/ 4900]\n",
            "loss: 0.005693  [ 1600/ 4900]\n",
            "loss: 0.025947  [ 3200/ 4900]\n",
            "loss: 0.003477  [ 4800/ 4900]\n",
            "Test Error: \n",
            " Accuracy: 61.6%, Avg loss: 2.185028 \n",
            "\n",
            "Epoch 23\n",
            "-------------------------------\n",
            "loss: 0.027115  [    0/ 4900]\n",
            "loss: 0.002290  [ 1600/ 4900]\n",
            "loss: 0.005333  [ 3200/ 4900]\n",
            "loss: 0.012267  [ 4800/ 4900]\n",
            "Test Error: \n",
            " Accuracy: 64.4%, Avg loss: 1.957519 \n",
            "\n",
            "saving model now 64.28571428571429\n",
            "Epoch 24\n",
            "-------------------------------\n",
            "loss: 0.023277  [    0/ 4900]\n",
            "loss: 0.002227  [ 1600/ 4900]\n"
          ]
        }
      ]
    },
    {
      "cell_type": "code",
      "source": [
        "model = torch.load('/content/gdrive/MyDrive/CSE465/5828val.pth')"
      ],
      "metadata": {
        "id": "HO5WVL_laO-O"
      },
      "execution_count": null,
      "outputs": []
    },
    {
      "cell_type": "markdown",
      "source": [
        "# Testing The Model"
      ],
      "metadata": {
        "id": "UsUgOQmt1jKk"
      }
    },
    {
      "cell_type": "code",
      "source": [
        "def test_single_epoch(model, dataloader, device):\n",
        "  correct = 0\n",
        "  size = len(dataloader.dataset)\n",
        "\n",
        "  model.eval()\n",
        "  for input,target in dataloader:\n",
        "        input, target = input.to(device), target.to(device)\n",
        "        # calculate loss\n",
        "        prediction = model(input)\n",
        "        correct += (prediction.argmax(1) == target).type(torch.float).sum().item()\n",
        "  correct /= size\n",
        "  print(f\"Test Error: \\n Accuracy: {(100*correct):>0.1f}% \\n\")"
      ],
      "metadata": {
        "id": "i5ntU_4N8fJj"
      },
      "execution_count": null,
      "outputs": []
    },
    {
      "cell_type": "code",
      "source": [
        "test_single_epoch(model,test_dataloader,device)\n"
      ],
      "metadata": {
        "colab": {
          "base_uri": "https://localhost:8080/"
        },
        "id": "LUUqKLXL8os7",
        "outputId": "882d8b3b-96f5-4245-be52-59d21293b7c8"
      },
      "execution_count": null,
      "outputs": [
        {
          "output_type": "stream",
          "name": "stdout",
          "text": [
            "Test Error: \n",
            " Accuracy: 49.0% \n",
            "\n"
          ]
        }
      ]
    },
    {
      "cell_type": "code",
      "source": [
        "#just for Assurance!!!!\n",
        "test_single_epoch(model,val_dataloader,device)\n"
      ],
      "metadata": {
        "id": "plRuGbQLnrlg",
        "outputId": "6e534a94-5dba-42db-c806-8f44012475c4",
        "colab": {
          "base_uri": "https://localhost:8080/"
        }
      },
      "execution_count": null,
      "outputs": [
        {
          "output_type": "stream",
          "name": "stdout",
          "text": [
            "Test Error: \n",
            " Accuracy: 58.3% \n",
            "\n"
          ]
        }
      ]
    },
    {
      "cell_type": "code",
      "source": [
        "test_single_epoch(model,train_dataloader,device)"
      ],
      "metadata": {
        "id": "xg_7JtsSn5sN",
        "outputId": "1be851b4-9919-45e7-95bf-964166c44abf",
        "colab": {
          "base_uri": "https://localhost:8080/"
        }
      },
      "execution_count": null,
      "outputs": [
        {
          "output_type": "stream",
          "name": "stdout",
          "text": [
            "Test Error: \n",
            " Accuracy: 74.3% \n",
            "\n"
          ]
        }
      ]
    }
  ]
}