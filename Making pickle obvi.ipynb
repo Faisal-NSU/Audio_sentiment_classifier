{
  "nbformat": 4,
  "nbformat_minor": 0,
  "metadata": {
    "accelerator": "GPU",
    "colab": {
      "name": "Normal Neural Net and custom cnn good accuracy 65.ipynb",
      "provenance": [],
      "collapsed_sections": [
        "AIhx73NqhIiz",
        "h8EoQo2KusWV",
        "-hwPc6T0uVdG",
        "bFctlhrhvc1J"
      ],
      "include_colab_link": true
    },
    "kernelspec": {
      "display_name": "Python 3",
      "name": "python3"
    },
    "language_info": {
      "name": "python"
    }
  },
  "cells": [
    {
      "cell_type": "markdown",
      "metadata": {
        "id": "view-in-github",
        "colab_type": "text"
      },
      "source": [
        "<a href=\"https://colab.research.google.com/github/Faisal-NSU/CSE465/blob/main/Making%20pickle%20obvi.ipynb\" target=\"_parent\"><img src=\"https://colab.research.google.com/assets/colab-badge.svg\" alt=\"Open In Colab\"/></a>"
      ]
    },
    {
      "cell_type": "markdown",
      "metadata": {
        "id": "Ip-W_ZQjhECj"
      },
      "source": [
        "# Utils\n"
      ]
    },
    {
      "cell_type": "code",
      "metadata": {
        "id": "_AiLL6KlhJsU"
      },
      "source": [
        "import numpy as np\n",
        "import matplotlib.pyplot as plt\n",
        "import cv2\n",
        "import sys\n",
        "\n",
        "\n",
        "def plot_images(images, nrows = None, ncols = None, figsize = None, ax = None, \n",
        "                axis_style = 'on', bgr2rgb = True):\n",
        "    '''\n",
        "    Plots a given list of images and returns axes.Axes object\n",
        "    \n",
        "    Parameters\n",
        "    -----------\n",
        "    images: list\n",
        "            A list of images to plot\n",
        "            \n",
        "    nrows: int\n",
        "           Number of rows to arrange images into\n",
        "    \n",
        "    ncols: int\n",
        "           Number of columns to arrange images into\n",
        "    \n",
        "    figsize: tuple\n",
        "             Plot size (width, height) in inches\n",
        "           \n",
        "    ax: axes.Axes object\n",
        "        The axis to plot the images on, new axis will be created if None\n",
        "        \n",
        "    axis_style: str\n",
        "                'off' if axis are not to be displayed\n",
        "    '''\n",
        "    N = len(images)\n",
        "    if not isinstance(images, (list, np.ndarray)):\n",
        "        raise AttributeError(\"The images parameter should be a list of images, \"\n",
        "                             \"if you want to plot a single image, pass it as a \"\n",
        "                             \"list of single image\")\n",
        "\n",
        "    # Setting nrows and ncols as per parameter input\n",
        "    if nrows is None:\n",
        "        if ncols is None:\n",
        "            nrows = N\n",
        "            ncols = 1\n",
        "        else:\n",
        "            nrows = int(np.ceil(N / ncols))\n",
        "    else:\n",
        "        if ncols is None:\n",
        "            ncols = int(np.ceil(N / nrows))\n",
        "    \n",
        "    if ax is None:\n",
        "        _, ax = plt.subplots(nrows, ncols, figsize = figsize)\n",
        "    \n",
        "    if len(images) == 1:\n",
        "        if bgr2rgb == True:\n",
        "            images[0] = cv2.cvtColor(images[0], cv2.COLOR_BGR2RGB)\n",
        "    \n",
        "        ax.imshow(images[0])\n",
        "        ax.axis(axis_style)\n",
        "        \n",
        "        return ax\n",
        "    \n",
        "    else:\n",
        "        for i in range(nrows):\n",
        "            for j in range(ncols):\n",
        "                if (i * ncols + j) < N:\n",
        "                    img = images[i * ncols + j]\n",
        "                    \n",
        "                    if bgr2rgb == True:\n",
        "                            img = cv2.cvtColor(img, cv2.COLOR_BGR2RGB)\n",
        "                    \n",
        "                    # For this condition, ax is a 2d array else a 1d array\n",
        "                    if nrows >1 and ncols > 1: \n",
        "                        ax[i][j].imshow(img)\n",
        "                    \n",
        "                    else:\n",
        "                        ax[i + j].imshow(img)\n",
        "                \n",
        "                if nrows > 1 and ncols > 1:\n",
        "                    ax[i][j].axis(axis_style)\n",
        "                else:\n",
        "                    ax[i + j].axis(axis_style)\n",
        "        \n",
        "        return ax\n",
        "\n",
        "\n",
        "def drawProgressBar(current, total, string = '', barLen = 20):\n",
        "    '''\n",
        "    Draws a progress bar, something like [====>    ] 20%\n",
        "    \n",
        "    Parameters\n",
        "    ------------\n",
        "    current: int/float\n",
        "             Current progress\n",
        "    \n",
        "    total: int/float\n",
        "           The total from which the current progress is made\n",
        "             \n",
        "    string: str\n",
        "            Additional details to write along with progress\n",
        "    \n",
        "    barLen: int\n",
        "            Length of progress bar\n",
        "    '''\n",
        "    percent = current/total\n",
        "    arrow = \">\"\n",
        "    if percent == 1:\n",
        "        arrow = \"\"\n",
        "    # Carriage return, returns to the begining of line to owerwrite\n",
        "    sys.stdout.write(\"\\r\")\n",
        "    sys.stdout.write(\"Progress: [{:<{}}] {}/{}\".format(\"=\" * int(barLen * percent) + arrow, \n",
        "                                                         barLen, current, total) + string)\n",
        "    sys.stdout.flush()"
      ],
      "execution_count": 1,
      "outputs": []
    },
    {
      "cell_type": "markdown",
      "metadata": {
        "id": "AIhx73NqhIiz"
      },
      "source": [
        "# Imports\n"
      ]
    },
    {
      "cell_type": "code",
      "metadata": {
        "id": "2wN-FHDThXLT"
      },
      "source": [
        "import IPython.display as ipd\n",
        "import librosa\n",
        "import librosa.display\n",
        "\n",
        "import numpy as np\n",
        "import pandas as pd\n",
        "import matplotlib.pyplot as plt\n",
        "%matplotlib inline"
      ],
      "execution_count": 2,
      "outputs": []
    },
    {
      "cell_type": "markdown",
      "metadata": {
        "id": "Wwks3biRjTPz"
      },
      "source": [
        "# Drive Mount\n"
      ]
    },
    {
      "cell_type": "code",
      "source": [
        "!gdown --id 1k-afEJdwz5Tf4-bsuKOJzP7xn-KQTlkM"
      ],
      "metadata": {
        "colab": {
          "base_uri": "https://localhost:8080/"
        },
        "id": "YqCp4GKwkjtn",
        "outputId": "77d3236c-dd28-4703-8cf7-823870fae671"
      },
      "execution_count": 7,
      "outputs": [
        {
          "output_type": "stream",
          "name": "stdout",
          "text": [
            "Downloading...\n",
            "From: https://drive.google.com/uc?id=1k-afEJdwz5Tf4-bsuKOJzP7xn-KQTlkM\n",
            "To: /content/SUBESCO.zip\n",
            "100% 1.65G/1.65G [00:10<00:00, 155MB/s]\n"
          ]
        }
      ]
    },
    {
      "cell_type": "code",
      "metadata": {
        "id": "X5zwz6XOjZO0"
      },
      "source": [
        "import zipfile\n",
        "dataset_directory = '/content/SUBESCO.zip'\n",
        "zip_ref = zipfile.ZipFile(dataset_directory, 'r')\n",
        "zip_ref.extractall('/content')\n",
        "zip_ref.close()"
      ],
      "execution_count": 8,
      "outputs": []
    },
    {
      "cell_type": "code",
      "metadata": {
        "colab": {
          "base_uri": "https://localhost:8080/",
          "height": 35
        },
        "id": "jSynufL5s4yR",
        "outputId": "74244ff6-14b3-4f97-8bb6-24ad8c397351"
      },
      "source": [
        "import torch\n",
        "\n",
        "device = torch.device('cuda' if torch.cuda.is_available() else 'cpu')\n",
        "torch.cuda.get_device_name(0)"
      ],
      "execution_count": 9,
      "outputs": [
        {
          "output_type": "execute_result",
          "data": {
            "application/vnd.google.colaboratory.intrinsic+json": {
              "type": "string"
            },
            "text/plain": [
              "'Tesla K80'"
            ]
          },
          "metadata": {},
          "execution_count": 9
        }
      ]
    },
    {
      "cell_type": "markdown",
      "metadata": {
        "id": "jpdAVB0Yjwt0"
      },
      "source": [
        "# Preprocess\n"
      ]
    },
    {
      "cell_type": "code",
      "metadata": {
        "colab": {
          "base_uri": "https://localhost:8080/",
          "height": 423
        },
        "id": "vFq3HXy8lIj2",
        "outputId": "01399627-3c04-4aa9-9770-eb940e76cb52"
      },
      "source": [
        "df = pd.read_csv(ANNOTATIONS_FILE)\n",
        "df"
      ],
      "execution_count": null,
      "outputs": [
        {
          "output_type": "execute_result",
          "data": {
            "text/html": [
              "\n",
              "  <div id=\"df-f37c7abd-5fe0-4ae6-9374-1299239b6c92\">\n",
              "    <div class=\"colab-df-container\">\n",
              "      <div>\n",
              "<style scoped>\n",
              "    .dataframe tbody tr th:only-of-type {\n",
              "        vertical-align: middle;\n",
              "    }\n",
              "\n",
              "    .dataframe tbody tr th {\n",
              "        vertical-align: top;\n",
              "    }\n",
              "\n",
              "    .dataframe thead th {\n",
              "        text-align: right;\n",
              "    }\n",
              "</style>\n",
              "<table border=\"1\" class=\"dataframe\">\n",
              "  <thead>\n",
              "    <tr style=\"text-align: right;\">\n",
              "      <th></th>\n",
              "      <th>filename</th>\n",
              "      <th>name</th>\n",
              "      <th>gender</th>\n",
              "      <th>label</th>\n",
              "      <th>label_id</th>\n",
              "    </tr>\n",
              "  </thead>\n",
              "  <tbody>\n",
              "    <tr>\n",
              "      <th>0</th>\n",
              "      <td>F_01_OISHI_S_10_ANGRY_1.wav</td>\n",
              "      <td>OISHI</td>\n",
              "      <td>F</td>\n",
              "      <td>ANGRY</td>\n",
              "      <td>0</td>\n",
              "    </tr>\n",
              "    <tr>\n",
              "      <th>1</th>\n",
              "      <td>F_01_OISHI_S_10_ANGRY_2.wav</td>\n",
              "      <td>OISHI</td>\n",
              "      <td>F</td>\n",
              "      <td>ANGRY</td>\n",
              "      <td>0</td>\n",
              "    </tr>\n",
              "    <tr>\n",
              "      <th>2</th>\n",
              "      <td>F_01_OISHI_S_10_ANGRY_3.wav</td>\n",
              "      <td>OISHI</td>\n",
              "      <td>F</td>\n",
              "      <td>ANGRY</td>\n",
              "      <td>0</td>\n",
              "    </tr>\n",
              "    <tr>\n",
              "      <th>3</th>\n",
              "      <td>F_01_OISHI_S_10_ANGRY_4.wav</td>\n",
              "      <td>OISHI</td>\n",
              "      <td>F</td>\n",
              "      <td>ANGRY</td>\n",
              "      <td>0</td>\n",
              "    </tr>\n",
              "    <tr>\n",
              "      <th>4</th>\n",
              "      <td>F_01_OISHI_S_10_ANGRY_5.wav</td>\n",
              "      <td>OISHI</td>\n",
              "      <td>F</td>\n",
              "      <td>ANGRY</td>\n",
              "      <td>0</td>\n",
              "    </tr>\n",
              "    <tr>\n",
              "      <th>...</th>\n",
              "      <td>...</td>\n",
              "      <td>...</td>\n",
              "      <td>...</td>\n",
              "      <td>...</td>\n",
              "      <td>...</td>\n",
              "    </tr>\n",
              "    <tr>\n",
              "      <th>6995</th>\n",
              "      <td>M_10_EVAN_S_9_SURPRISE_1.wav</td>\n",
              "      <td>EVAN</td>\n",
              "      <td>M</td>\n",
              "      <td>SURPRISE</td>\n",
              "      <td>6</td>\n",
              "    </tr>\n",
              "    <tr>\n",
              "      <th>6996</th>\n",
              "      <td>M_10_EVAN_S_9_SURPRISE_2.wav</td>\n",
              "      <td>EVAN</td>\n",
              "      <td>M</td>\n",
              "      <td>SURPRISE</td>\n",
              "      <td>6</td>\n",
              "    </tr>\n",
              "    <tr>\n",
              "      <th>6997</th>\n",
              "      <td>M_10_EVAN_S_9_SURPRISE_3.wav</td>\n",
              "      <td>EVAN</td>\n",
              "      <td>M</td>\n",
              "      <td>SURPRISE</td>\n",
              "      <td>6</td>\n",
              "    </tr>\n",
              "    <tr>\n",
              "      <th>6998</th>\n",
              "      <td>M_10_EVAN_S_9_SURPRISE_4.wav</td>\n",
              "      <td>EVAN</td>\n",
              "      <td>M</td>\n",
              "      <td>SURPRISE</td>\n",
              "      <td>6</td>\n",
              "    </tr>\n",
              "    <tr>\n",
              "      <th>6999</th>\n",
              "      <td>M_10_EVAN_S_9_SURPRISE_5.wav</td>\n",
              "      <td>EVAN</td>\n",
              "      <td>M</td>\n",
              "      <td>SURPRISE</td>\n",
              "      <td>6</td>\n",
              "    </tr>\n",
              "  </tbody>\n",
              "</table>\n",
              "<p>7000 rows × 5 columns</p>\n",
              "</div>\n",
              "      <button class=\"colab-df-convert\" onclick=\"convertToInteractive('df-f37c7abd-5fe0-4ae6-9374-1299239b6c92')\"\n",
              "              title=\"Convert this dataframe to an interactive table.\"\n",
              "              style=\"display:none;\">\n",
              "        \n",
              "  <svg xmlns=\"http://www.w3.org/2000/svg\" height=\"24px\"viewBox=\"0 0 24 24\"\n",
              "       width=\"24px\">\n",
              "    <path d=\"M0 0h24v24H0V0z\" fill=\"none\"/>\n",
              "    <path d=\"M18.56 5.44l.94 2.06.94-2.06 2.06-.94-2.06-.94-.94-2.06-.94 2.06-2.06.94zm-11 1L8.5 8.5l.94-2.06 2.06-.94-2.06-.94L8.5 2.5l-.94 2.06-2.06.94zm10 10l.94 2.06.94-2.06 2.06-.94-2.06-.94-.94-2.06-.94 2.06-2.06.94z\"/><path d=\"M17.41 7.96l-1.37-1.37c-.4-.4-.92-.59-1.43-.59-.52 0-1.04.2-1.43.59L10.3 9.45l-7.72 7.72c-.78.78-.78 2.05 0 2.83L4 21.41c.39.39.9.59 1.41.59.51 0 1.02-.2 1.41-.59l7.78-7.78 2.81-2.81c.8-.78.8-2.07 0-2.86zM5.41 20L4 18.59l7.72-7.72 1.47 1.35L5.41 20z\"/>\n",
              "  </svg>\n",
              "      </button>\n",
              "      \n",
              "  <style>\n",
              "    .colab-df-container {\n",
              "      display:flex;\n",
              "      flex-wrap:wrap;\n",
              "      gap: 12px;\n",
              "    }\n",
              "\n",
              "    .colab-df-convert {\n",
              "      background-color: #E8F0FE;\n",
              "      border: none;\n",
              "      border-radius: 50%;\n",
              "      cursor: pointer;\n",
              "      display: none;\n",
              "      fill: #1967D2;\n",
              "      height: 32px;\n",
              "      padding: 0 0 0 0;\n",
              "      width: 32px;\n",
              "    }\n",
              "\n",
              "    .colab-df-convert:hover {\n",
              "      background-color: #E2EBFA;\n",
              "      box-shadow: 0px 1px 2px rgba(60, 64, 67, 0.3), 0px 1px 3px 1px rgba(60, 64, 67, 0.15);\n",
              "      fill: #174EA6;\n",
              "    }\n",
              "\n",
              "    [theme=dark] .colab-df-convert {\n",
              "      background-color: #3B4455;\n",
              "      fill: #D2E3FC;\n",
              "    }\n",
              "\n",
              "    [theme=dark] .colab-df-convert:hover {\n",
              "      background-color: #434B5C;\n",
              "      box-shadow: 0px 1px 3px 1px rgba(0, 0, 0, 0.15);\n",
              "      filter: drop-shadow(0px 1px 2px rgba(0, 0, 0, 0.3));\n",
              "      fill: #FFFFFF;\n",
              "    }\n",
              "  </style>\n",
              "\n",
              "      <script>\n",
              "        const buttonEl =\n",
              "          document.querySelector('#df-f37c7abd-5fe0-4ae6-9374-1299239b6c92 button.colab-df-convert');\n",
              "        buttonEl.style.display =\n",
              "          google.colab.kernel.accessAllowed ? 'block' : 'none';\n",
              "\n",
              "        async function convertToInteractive(key) {\n",
              "          const element = document.querySelector('#df-f37c7abd-5fe0-4ae6-9374-1299239b6c92');\n",
              "          const dataTable =\n",
              "            await google.colab.kernel.invokeFunction('convertToInteractive',\n",
              "                                                     [key], {});\n",
              "          if (!dataTable) return;\n",
              "\n",
              "          const docLinkHtml = 'Like what you see? Visit the ' +\n",
              "            '<a target=\"_blank\" href=https://colab.research.google.com/notebooks/data_table.ipynb>data table notebook</a>'\n",
              "            + ' to learn more about interactive tables.';\n",
              "          element.innerHTML = '';\n",
              "          dataTable['output_type'] = 'display_data';\n",
              "          await google.colab.output.renderOutput(dataTable, element);\n",
              "          const docLink = document.createElement('div');\n",
              "          docLink.innerHTML = docLinkHtml;\n",
              "          element.appendChild(docLink);\n",
              "        }\n",
              "      </script>\n",
              "    </div>\n",
              "  </div>\n",
              "  "
            ],
            "text/plain": [
              "                          filename   name gender     label  label_id\n",
              "0      F_01_OISHI_S_10_ANGRY_1.wav  OISHI      F     ANGRY         0\n",
              "1      F_01_OISHI_S_10_ANGRY_2.wav  OISHI      F     ANGRY         0\n",
              "2      F_01_OISHI_S_10_ANGRY_3.wav  OISHI      F     ANGRY         0\n",
              "3      F_01_OISHI_S_10_ANGRY_4.wav  OISHI      F     ANGRY         0\n",
              "4      F_01_OISHI_S_10_ANGRY_5.wav  OISHI      F     ANGRY         0\n",
              "...                            ...    ...    ...       ...       ...\n",
              "6995  M_10_EVAN_S_9_SURPRISE_1.wav   EVAN      M  SURPRISE         6\n",
              "6996  M_10_EVAN_S_9_SURPRISE_2.wav   EVAN      M  SURPRISE         6\n",
              "6997  M_10_EVAN_S_9_SURPRISE_3.wav   EVAN      M  SURPRISE         6\n",
              "6998  M_10_EVAN_S_9_SURPRISE_4.wav   EVAN      M  SURPRISE         6\n",
              "6999  M_10_EVAN_S_9_SURPRISE_5.wav   EVAN      M  SURPRISE         6\n",
              "\n",
              "[7000 rows x 5 columns]"
            ]
          },
          "metadata": {},
          "execution_count": 5
        }
      ]
    },
    {
      "cell_type": "markdown",
      "metadata": {
        "id": "PXbAd2H9sJsp"
      },
      "source": [
        "# Getting Features\n"
      ]
    },
    {
      "cell_type": "markdown",
      "metadata": {
        "id": "h8EoQo2KusWV"
      },
      "source": [
        "## Define Functions"
      ]
    },
    {
      "cell_type": "code",
      "metadata": {
        "id": "3qnWmXbPsM21"
      },
      "source": [
        "def get_fixed_audio_len(wav, sr, audio_len):\n",
        "    '''\n",
        "    Converts a time-series audio to a fixed length either by padding or trimming\n",
        "    \n",
        "    Parameters\n",
        "    -------------\n",
        "    wav: Audio time-series\n",
        "    \n",
        "    sr: Sample rate\n",
        "    \n",
        "    audio_len: The fixed audio length needed in seconds\n",
        "    '''\n",
        "    if wav.shape[0] < audio_len * sr:\n",
        "        wav = np.pad(wav, int(np.ceil((audio_len * sr - wav.shape[0])/2)), mode = 'reflect')\n",
        "    wav = wav[:audio_len * sr]\n",
        "    \n",
        "    return wav\n",
        "\n",
        "def get_melspectrogram_db(wav, sr, audio_len = 4, n_fft = 2048, hop_length = 512, \n",
        "                          n_mels = 128, fmin = 20, fmax = 8300, top_db = 80):\n",
        "    '''\n",
        "    Decomposes the audio sample into different frequencies using fourier transform \n",
        "    and converts frequencies to mel scale and amplitude to decibel scale.\n",
        "    \n",
        "    Parameters\n",
        "    -------------------\n",
        "    wav: Audio time-series\n",
        "    \n",
        "    sr: Sample rate\n",
        "    \n",
        "    audio_len: The fixed length of audio in seconds\n",
        "    \n",
        "    n_fft: Length of the Fast Fourier Transform window\n",
        "    \n",
        "    hop_length: Number of samples between successive frames\n",
        "    \n",
        "    n_mels: Number of mel filters, which make the height of spectrogram image\n",
        "    \n",
        "    fmin: Lowest frequency\n",
        "    \n",
        "    fmax: Heighest frequency\n",
        "    \n",
        "    top_db: Threashold of the decibel scale output\n",
        "    '''\n",
        "    wav = get_fixed_audio_len(wav, sr, audio_len)\n",
        "        \n",
        "    spec = librosa.feature.melspectrogram(wav, sr = sr, n_fft = n_fft, hop_length = hop_length, \n",
        "                                          n_mels = n_mels, fmin = fmin, fmax = fmax)\n",
        "    \n",
        "    spec = librosa.power_to_db(spec, top_db = top_db)\n",
        "    return spec\n",
        "\n",
        "def spec_to_image(spec):\n",
        "    '''\n",
        "    Converts the spectrogram to an image\n",
        "    \n",
        "    Parameters\n",
        "    -------------\n",
        "    spec: Spectrogram\n",
        "    '''\n",
        "    eps=1e-6\n",
        "    \n",
        "    # Z-score normalization\n",
        "    mean = spec.mean()\n",
        "    std = spec.std()\n",
        "    spec_norm = (spec - mean) / (std + eps)\n",
        "    spec_min, spec_max = spec_norm.min(), spec_norm.max()\n",
        "    \n",
        "    # Min-max scaling\n",
        "    spec_scaled = 255 * (spec_norm - spec_min) / (spec_max - spec_min)\n",
        "    spec_scaled = spec_scaled.astype(np.uint8)\n",
        "    \n",
        "    return spec_scaled"
      ],
      "execution_count": 10,
      "outputs": []
    },
    {
      "cell_type": "markdown",
      "metadata": {
        "id": "bFctlhrhvc1J"
      },
      "source": [
        "## Splitting Val"
      ]
    },
    {
      "cell_type": "markdown",
      "metadata": {
        "id": "gF5Zd8bZwzR3"
      },
      "source": [
        "# Training an Artificial Neural Network on time-series audio data"
      ]
    },
    {
      "cell_type": "code",
      "metadata": {
        "id": "uCog6GQ0w2jO"
      },
      "source": [
        "import torch\n",
        "import torch.nn as nn\n",
        "import torch.nn.functional as F\n",
        "import torch.optim as optim\n",
        "import torch.utils.data as data_utils\n",
        "\n",
        "# Defining dataset batch size\n",
        "BATCH_SIZE = 32\n",
        "\n",
        "def load_data(df, id_col, label_col = None, data_path = './', audio_len = 4):\n",
        "    '''\n",
        "    Loads the audio time-series data\n",
        "    \n",
        "    Parameters\n",
        "    -------------\n",
        "    df: The dataframe that contains the file name and corresponding label\n",
        "    \n",
        "    id_col: The column name that contains the file name\n",
        "    \n",
        "    label_col: The column name that contains the label\n",
        "    '''\n",
        "    audio_time_series = []\n",
        "    sample_rates = []\n",
        "    labels = []\n",
        "    \n",
        "    tot = len(df)\n",
        "    curr = 0\n",
        "    \n",
        "    for idx in df.index:\n",
        "        try:\n",
        "            file_name = str(df['filename'][idx]) \n",
        "            \n",
        "            temp = data_path + file_name\n",
        "            wav, sr = librosa.load(str(temp))\n",
        "            \n",
        "            wav = get_fixed_audio_len(wav, sr, audio_len)\n",
        "    \n",
        "            audio_time_series.append(wav)\n",
        "            sample_rates.append(sr)\n",
        "            \n",
        "            if label_col is not None:\n",
        "                labels.append(df[label_col][idx])\n",
        "            \n",
        "            curr += 1\n",
        "            drawProgressBar(curr, tot, barLen = 40)\n",
        "        \n",
        "        except KeyboardInterrupt:\n",
        "            print('KeyBoardInterrupt')\n",
        "            break\n",
        "        \n",
        "        except Exception:\n",
        "            print(\"Couldn't read file\", df[id_col][idx])\n",
        "            curr += 1\n",
        "            \n",
        "    print('\\n')\n",
        "    return np.stack(audio_time_series, axis = 0), np.array(sample_rates), np.array(labels)"
      ],
      "execution_count": 11,
      "outputs": []
    },
    {
      "cell_type": "code",
      "source": [
        "TRAIN_CSV = '/content/SUBESCO/train/train.csv'\n",
        "TEST_CSV = '/content/SUBESCO/test/test.csv'\n",
        "VALID_CSV = '/content/SUBESCO/valid/valid.csv'\n",
        "\n",
        "TRAIN_PATH = '/content/SUBESCO/train/'\n",
        "TEST_PATH = '/content/SUBESCO/test/'\n",
        "VALID_PATH = '/content/SUBESCO/valid/'\n"
      ],
      "metadata": {
        "id": "jQgvh1dPnfK9"
      },
      "execution_count": 12,
      "outputs": []
    },
    {
      "cell_type": "code",
      "metadata": {
        "colab": {
          "base_uri": "https://localhost:8080/"
        },
        "id": "fG1bwBbSxEKA",
        "outputId": "b3060bd1-507b-4783-a20c-6f1e3ee5f481"
      },
      "source": [
        "import time\n",
        "import pandas as pd\n",
        "start_time = time.time()\n",
        "\n",
        "#train_time_series, train_sr, train_labels = load_data(train_df, 'filename', 'label_id', AUDIO_DIR)\n",
        "\n",
        "val_time_series, _, val_labels = load_data(pd.read_csv(VALID_CSV), 'filename', 'label_id', VALID_PATH)\n",
        "\n",
        "test_time_series, _, test_labels = load_data(pd.read_csv(TEST_CSV), 'filename', 'label_id', TEST_PATH)\n",
        "\n",
        "print(\"--- %s seconds ---\" % (time.time() - start_time))"
      ],
      "execution_count": 28,
      "outputs": [
        {
          "output_type": "stream",
          "name": "stdout",
          "text": [
            "Progress: [>                                       ] 15/700KeyBoardInterrupt\n",
            "\n",
            "\n",
            "Progress: [=================>                      ] 617/1400KeyBoardInterrupt\n",
            "\n",
            "\n",
            "--- 161.78716015815735 seconds ---\n"
          ]
        }
      ]
    },
    {
      "cell_type": "code",
      "source": [
        "from google.colab import drive\n",
        "drive.mount('/content/gdrive')"
      ],
      "metadata": {
        "colab": {
          "base_uri": "https://localhost:8080/"
        },
        "id": "BgB-C1s1sIIZ",
        "outputId": "96639ed4-c7eb-46db-d30e-7750d0146f72"
      },
      "execution_count": 26,
      "outputs": [
        {
          "output_type": "stream",
          "name": "stdout",
          "text": [
            "Mounted at /content/gdrive\n"
          ]
        }
      ]
    },
    {
      "cell_type": "code",
      "source": [
        "#saving pickle\n",
        "import bz2\n",
        "import pickle\n",
        "\n",
        "testDic = { 'test_time_series': test_time_series, 'test_labels': test_labels }\n",
        "\n",
        "filename = 'testDic'\n",
        "outfile = open(filename,'wb')\n",
        "\n",
        "pickle.dump(testDic,outfile)\n",
        "outfile.close()"
      ],
      "metadata": {
        "id": "ptt5ncwco60f"
      },
      "execution_count": 22,
      "outputs": []
    },
    {
      "cell_type": "code",
      "source": [
        "infile = open(filename,'rb')\n",
        "valDic = pickle.load(infile)\n",
        "infile.close()"
      ],
      "metadata": {
        "id": "j7qy32Y4qxPF"
      },
      "execution_count": 23,
      "outputs": []
    },
    {
      "cell_type": "code",
      "metadata": {
        "colab": {
          "base_uri": "https://localhost:8080/"
        },
        "id": "iSpaBwHPHZmJ",
        "outputId": "39692170-eea5-46f7-af0a-5472e4e8c058"
      },
      "source": [
        "valDic['val_labels'].shape"
      ],
      "execution_count": 25,
      "outputs": [
        {
          "output_type": "execute_result",
          "data": {
            "text/plain": [
              "(700,)"
            ]
          },
          "metadata": {},
          "execution_count": 25
        }
      ]
    },
    {
      "cell_type": "code",
      "source": [
        "!cp -r '/content/valDic' /content/gdrive/MyDrive/CSE465"
      ],
      "metadata": {
        "id": "T5fqPbkHsmDO"
      },
      "execution_count": 27,
      "outputs": []
    },
    {
      "cell_type": "code",
      "metadata": {
        "id": "_1ykonyMEqdk"
      },
      "source": [
        "# Convert numpy arrays to torch tensors\n",
        "train_time_series = torch.from_numpy(train_time_series)\n",
        "train_labels = torch.from_numpy(train_labels).long()\n",
        "\n",
        "val_time_series = torch.from_numpy(val_time_series)\n",
        "val_labels = torch.from_numpy(val_labels).long()\n",
        "\n",
        "# Create data loaders\n",
        "train_time_series = data_utils.TensorDataset(train_time_series, train_labels)\n",
        "train_loader = data_utils.DataLoader(train_time_series, batch_size = BATCH_SIZE, shuffle = True)\n",
        "\n",
        "val_time_series = data_utils.TensorDataset(val_time_series, val_labels)\n",
        "val_loader = data_utils.DataLoader(val_time_series, batch_size = BATCH_SIZE, shuffle = True)"
      ],
      "execution_count": null,
      "outputs": []
    },
    {
      "cell_type": "code",
      "metadata": {
        "colab": {
          "base_uri": "https://localhost:8080/"
        },
        "id": "eD1gTmGLH5GQ",
        "outputId": "d3494b29-17e8-46ff-93a7-649d0a7ec449"
      },
      "source": [
        "# Defining training parameters\n",
        "LEARNING_RATE = 0.001\n",
        "EPOCHS = 10\n",
        "NUM_CLASSES = len(classes)\n",
        "N_FEATURES = train_time_series[0][0].shape[0]\n",
        "N_FEATURES"
      ],
      "execution_count": null,
      "outputs": [
        {
          "data": {
            "text/plain": [
              "88200"
            ]
          },
          "execution_count": 113,
          "metadata": {},
          "output_type": "execute_result"
        }
      ]
    },
    {
      "cell_type": "code",
      "metadata": {
        "id": "7worJXPDIFkI"
      },
      "source": [
        "# Defining our neural network architecture\n",
        "class NeuralNet(nn.Module):\n",
        "    def __init__(self):\n",
        "        super(NeuralNet, self).__init__()\n",
        "        \n",
        "        # Layer 1 with 1024 neurons\n",
        "        self.fc1 = nn.Linear(in_features = N_FEATURES, out_features = 1024)\n",
        "        \n",
        "        # Layer 2 with 512 neurons\n",
        "        self.fc2 = nn.Linear(in_features = 1024, out_features = 512)\n",
        "        \n",
        "        # Layer 3 with 128 neurons\n",
        "        self.fc3 = nn.Linear(in_features = 512, out_features = 128)\n",
        "        \n",
        "        # Layer 4, output layer\n",
        "        self.fc4 = nn.Linear(in_features = 128, out_features = NUM_CLASSES)\n",
        "        \n",
        "    def forward(self, x):\n",
        "        x = F.relu(self.fc1(x))\n",
        "        x = F.relu(self.fc2(x))\n",
        "        x = F.relu(self.fc3(x))\n",
        "        x = self.fc4(x)\n",
        "        \n",
        "        return x"
      ],
      "execution_count": null,
      "outputs": []
    },
    {
      "cell_type": "code",
      "metadata": {
        "id": "HL6OQQMIIP4A"
      },
      "source": [
        "# Defining loss and optimizer\n",
        "\n",
        "net = NeuralNet()\n",
        "\n",
        "loss_fn = nn.CrossEntropyLoss()\n",
        "optimizer = optim.Adam(net.parameters(), lr = LEARNING_RATE)"
      ],
      "execution_count": null,
      "outputs": []
    },
    {
      "cell_type": "code",
      "metadata": {
        "colab": {
          "base_uri": "https://localhost:8080/"
        },
        "id": "RkLI916qIUsR",
        "outputId": "bc3f772b-e23f-4d9a-c281-b8c824842755"
      },
      "source": [
        "num_train_batches = len(train_loader)\n",
        "loss_hist = []\n",
        "acc_hist = []\n",
        "\n",
        "for epoch in range(EPOCHS):\n",
        "    print(\"Epoch \" + str(epoch + 1) + \":\")\n",
        "    \n",
        "    for i, batch in enumerate(train_loader):\n",
        "        # batch is a tuple of input data and labels\n",
        "        inputs, labels = batch\n",
        "        \n",
        "        # Running forward pass\n",
        "        outputs = net(inputs)\n",
        "        loss = loss_fn(outputs, labels)\n",
        "        \n",
        "        # Backprop\n",
        "        optimizer.zero_grad()\n",
        "        loss.backward()\n",
        "        optimizer.step()\n",
        "        \n",
        "        # Measuring Accuracy\n",
        "        total = labels.size(0)\n",
        "        _, predicted = torch.max(outputs, dim = 1)\n",
        "        correct = (predicted == labels).sum().item()\n",
        "        accuracy = correct/total\n",
        "        \n",
        "        # Printing progress\n",
        "        drawProgressBar((i+1), num_train_batches, \n",
        "                              '\\t loss: {:.4f} \\t acc: {:.4f}'.format(round(loss.item(), 4), round(accuracy, 4)))\n",
        "    \n",
        "    print('\\n\\n')\n",
        "    acc_hist.append(accuracy)\n",
        "    loss_hist.append(loss.item())"
      ],
      "execution_count": null,
      "outputs": [
        {
          "name": "stdout",
          "output_type": "stream",
          "text": [
            "Epoch 1:\n",
            "Progress: [====================] 175/175\t loss: 1.9174 \t acc: 0.2500\n",
            "\n",
            "\n",
            "Epoch 2:\n",
            "Progress: [====================] 175/175\t loss: 1.7544 \t acc: 0.3750\n",
            "\n",
            "\n",
            "Epoch 3:\n",
            "Progress: [====================] 175/175\t loss: 1.2890 \t acc: 0.5938\n",
            "\n",
            "\n",
            "Epoch 4:\n",
            "Progress: [====================] 175/175\t loss: 0.2571 \t acc: 0.9375\n",
            "\n",
            "\n",
            "Epoch 5:\n",
            "Progress: [====================] 175/175\t loss: 0.2405 \t acc: 0.8750\n",
            "\n",
            "\n",
            "Epoch 6:\n",
            "Progress: [====================] 175/175\t loss: 0.0288 \t acc: 1.0000\n",
            "\n",
            "\n",
            "Epoch 7:\n",
            "Progress: [====================] 175/175\t loss: 0.0326 \t acc: 1.0000\n",
            "\n",
            "\n",
            "Epoch 8:\n",
            "Progress: [====================] 175/175\t loss: 0.0963 \t acc: 0.9688\n",
            "\n",
            "\n",
            "Epoch 9:\n",
            "Progress: [====================] 175/175\t loss: 0.2587 \t acc: 0.9375\n",
            "\n",
            "\n",
            "Epoch 10:\n",
            "Progress: [====================] 175/175\t loss: 0.0759 \t acc: 0.9688\n",
            "\n",
            "\n"
          ]
        }
      ]
    },
    {
      "cell_type": "code",
      "metadata": {
        "colab": {
          "base_uri": "https://localhost:8080/",
          "height": 404
        },
        "id": "U3Z1cfI4Qk1q",
        "outputId": "d28994d8-6e30-4412-b76c-e765f5d99e7c"
      },
      "source": [
        "# Plotting the losses and accuracies \n",
        "fig, ax = plt.subplots(nrows = 1, ncols = 2, figsize = (16, 6))\n",
        "\n",
        "ax[0].plot(range(1, len(loss_hist) + 1), loss_hist, c = 'orange')\n",
        "ax[0].set_ylabel('Loss')\n",
        "ax[0].set_xlabel('Epoch')\n",
        "ax[0].set_title('Loss progress through training')\n",
        "\n",
        "ax[1].plot(range(1, len(acc_hist) + 1), acc_hist, c = 'green')\n",
        "ax[1].set_ylabel('Accuracy')\n",
        "ax[1].set_xlabel('Epoch')\n",
        "ax[1].set_title('Accuracy progress through training')\n",
        "\n",
        "plt.show()"
      ],
      "execution_count": null,
      "outputs": [
        {
          "data": {
            "image/png": "[encoded data removed]",
            "text/plain": [
              "<Figure size 1152x432 with 2 Axes>"
            ]
          },
          "metadata": {},
          "output_type": "display_data"
        }
      ]
    },
    {
      "cell_type": "code",
      "metadata": {
        "id": "bmob2OY_QsFA"
      },
      "source": [
        "def evaluate(model, test_loader):\n",
        "    '''\n",
        "    Returns the accuracy and loss of a model\n",
        "    \n",
        "    Parameters\n",
        "    --------------\n",
        "    model: A PyTorch neural network\n",
        "    \n",
        "    test_loader: The test dataset in the form of torch DataLoader\n",
        "    '''\n",
        "    model.eval()\n",
        "    num_test_batches = len(test_loader)\n",
        "    with torch.no_grad():\n",
        "        correct = 0\n",
        "        total = 0\n",
        "        total_loss = 0\n",
        "        for i, batch in enumerate(test_loader):\n",
        "            inputs, labels = batch\n",
        "            outputs = model(inputs)\n",
        "            _, predicted = torch.max(outputs, dim = 1)\n",
        "            loss = loss_fn(outputs, labels)\n",
        "            total_loss += loss.item()\n",
        "\n",
        "            total += labels.size(0)\n",
        "            correct += (predicted == labels).sum().item()\n",
        "\n",
        "            # Printing progress\n",
        "            drawProgressBar((i+1), num_test_batches)\n",
        "        \n",
        "        accuracy = correct/total\n",
        "        test_loss = total_loss/num_test_batches\n",
        "    \n",
        "    return accuracy, test_loss"
      ],
      "execution_count": null,
      "outputs": []
    },
    {
      "cell_type": "code",
      "metadata": {
        "colab": {
          "base_uri": "https://localhost:8080/"
        },
        "id": "gqalpdoeQv7A",
        "outputId": "7cb7e100-f9e1-4013-f295-c08d6a7c5544"
      },
      "source": [
        "val_acc, val_loss = evaluate(net, val_loader)\n",
        "\n",
        "print(\"\\n\\nValidation accuracy: {:.4f}\".format(round(val_acc, 4)))\n",
        "print(\"Validation loss: {:.4f}\".format(round(val_loss, 4)))"
      ],
      "execution_count": null,
      "outputs": [
        {
          "name": "stdout",
          "output_type": "stream",
          "text": [
            "Progress: [====================] 44/44\n",
            "\n",
            "Validation accuracy: 0.1729\n",
            "Validation loss: 6.4829\n"
          ]
        }
      ]
    },
    {
      "cell_type": "code",
      "metadata": {
        "id": "6hixgj9fRVqe"
      },
      "source": [
        ""
      ],
      "execution_count": null,
      "outputs": []
    },
    {
      "cell_type": "markdown",
      "metadata": {
        "id": "8iAofwVrSPrI"
      },
      "source": [
        "# Training a Convolutional neural network on spectrogram images"
      ]
    },
    {
      "cell_type": "code",
      "metadata": {
        "colab": {
          "base_uri": "https://localhost:8080/"
        },
        "id": "WeQIHm6PSRfG",
        "outputId": "f05d114e-85a1-45bc-82da-1f5a292080f0"
      },
      "source": [
        "# Checking the sample rate of the audio files in train and validation sets\n",
        "set(train_sr), set(val_sr)"
      ],
      "execution_count": null,
      "outputs": [
        {
          "output_type": "execute_result",
          "data": {
            "text/plain": [
              "({22050}, {22050})"
            ]
          },
          "metadata": {},
          "execution_count": 24
        }
      ]
    },
    {
      "cell_type": "code",
      "metadata": {
        "id": "QeVdfw3GST4Y"
      },
      "source": [
        "train_sr = 22050\n",
        "val_sr = 22050\n",
        "\n",
        "def get_spec_loader(audio_time_series, sr, batch_size, shuffle = False):\n",
        "    '''\n",
        "    Returns data loader of spectrogram images\n",
        "    \n",
        "    Parameters\n",
        "    ------------\n",
        "    audio_time_series: Tensor Dataset with wav, label iterables\n",
        "    \n",
        "    sr: Sample rate\n",
        "    \n",
        "    batch_size: The batch size of data loader\n",
        "    '''\n",
        "    audio_spec_img = []\n",
        "    labels = []\n",
        "    curr = 0\n",
        "    tot = len(audio_time_series)\n",
        "\n",
        "    for wav, label in audio_time_series:\n",
        "        spec_img = spec_to_image(get_melspectrogram_db(wav.numpy(), sr))\n",
        "        spec_img = np.expand_dims(spec_img, axis = 0)\n",
        "        audio_spec_img.append(spec_img)\n",
        "        labels.append(label)\n",
        "\n",
        "        curr += 1\n",
        "        drawProgressBar(curr, tot, barLen = 40)\n",
        "\n",
        "    audio_spec_img = torch.Tensor(audio_spec_img)\n",
        "    audio_spec_img = audio_spec_img / 255\n",
        "    \n",
        "    labels = torch.Tensor(labels).long()\n",
        "\n",
        "    audio_spec_img = data_utils.TensorDataset(audio_spec_img, labels)\n",
        "    audio_loader = data_utils.DataLoader(audio_spec_img, batch_size = batch_size, shuffle = shuffle)\n",
        "    \n",
        "    return audio_loader"
      ],
      "execution_count": null,
      "outputs": []
    },
    {
      "cell_type": "code",
      "metadata": {
        "colab": {
          "base_uri": "https://localhost:8080/"
        },
        "id": "mnbWUVyCSaWH",
        "outputId": "b46085b0-023f-47d7-9003-65241fa0817d"
      },
      "source": [
        "# Getting the spectrogram image for each audio in train set\n",
        "train_loader = get_spec_loader(train_time_series, train_sr, BATCH_SIZE, shuffle = True)"
      ],
      "execution_count": null,
      "outputs": [
        {
          "output_type": "stream",
          "name": "stdout",
          "text": [
            "Progress: [========================================] 5600/5600"
          ]
        },
        {
          "output_type": "stream",
          "name": "stderr",
          "text": [
            "/usr/local/lib/python3.7/dist-packages/ipykernel_launcher.py:30: UserWarning: Creating a tensor from a list of numpy.ndarrays is extremely slow. Please consider converting the list to a single numpy.ndarray with numpy.array() before converting to a tensor. (Triggered internally at  ../torch/csrc/utils/tensor_new.cpp:201.)\n"
          ]
        }
      ]
    },
    {
      "cell_type": "code",
      "metadata": {
        "colab": {
          "base_uri": "https://localhost:8080/"
        },
        "id": "q9V-UcFnSovO",
        "outputId": "5a750e49-103c-4a3b-9d71-a268036afd78"
      },
      "source": [
        "# Getting the spectrogram image for each audio in validation set\n",
        "val_loader = get_spec_loader(val_time_series, val_sr, BATCH_SIZE)"
      ],
      "execution_count": null,
      "outputs": [
        {
          "output_type": "stream",
          "name": "stdout",
          "text": [
            "Progress: [========================================] 1400/1400"
          ]
        }
      ]
    },
    {
      "cell_type": "code",
      "metadata": {
        "id": "1ZHXamQpBOPh"
      },
      "source": [
        ""
      ],
      "execution_count": null,
      "outputs": []
    },
    {
      "cell_type": "markdown",
      "metadata": {
        "id": "qlrpLW0wSxQm"
      },
      "source": [
        "## Model cnn"
      ]
    },
    {
      "cell_type": "code",
      "metadata": {
        "id": "q4DKAzI_SqAP"
      },
      "source": [
        "class ConvNet(nn.Module):\n",
        "    def __init__(self):\n",
        "        super(ConvNet, self).__init__()\n",
        "        \n",
        "        # Layer 1, Input shape (1, 128, 173) ->  Output shape (8, 62, 84)\n",
        "        self.layer1 = nn.Sequential(\n",
        "            nn.Conv2d(in_channels = 1, out_channels = 8, kernel_size = (5, 6)), \n",
        "            nn.ReLU(), \n",
        "            nn.MaxPool2d(kernel_size = (2, 2)))\n",
        "        \n",
        "        # Layer 2, Input shape (8, 62, 84) -> Output shape (16, 30, 41)\n",
        "        self.layer2 = nn.Sequential(\n",
        "            nn.Conv2d(in_channels = 8, out_channels = 16, kernel_size = (3, 3)), \n",
        "            nn.ReLU(), \n",
        "            nn.MaxPool2d(kernel_size = (2, 2)))\n",
        "        \n",
        "        # Layer 3, Input shape (16, 30, 41) -> Output shape (64, 10, 15)\n",
        "        self.layer3 = nn.Sequential(\n",
        "            nn.Conv2d(in_channels = 16, out_channels = 32, kernel_size = (6, 7)), \n",
        "            nn.ReLU(), \n",
        "            nn.Conv2d(in_channels = 32, out_channels = 64, kernel_size = (6, 6)), \n",
        "            nn.ReLU(), \n",
        "            nn.MaxPool2d(kernel_size = (2, 2)))\n",
        "        \n",
        "        # Fully Connected layer 1, Input features 64 * 10 * 15 -> Output features 512\n",
        "        self.fc1 = nn.Linear(in_features = 64 * 10 * 15, out_features = 512)\n",
        "        \n",
        "        # Fully Connected layer 2, Input features 512 -> Output features 256\n",
        "        self.fc2 = nn.Linear(in_features = 512, out_features = 256)\n",
        "        \n",
        "        # Fully Connected layer 3, Input features 256 -> Output features 128\n",
        "        self.fc3 = nn.Linear(in_features = 256, out_features = 128)\n",
        "        \n",
        "        # Fully Connected layer 4, Input features 128 -> Output features 7\n",
        "        self.fc4 = nn.Linear(in_features = 128, out_features = NUM_CLASSES)\n",
        "        \n",
        "    def forward(self, x):\n",
        "        x = self.layer1(x)\n",
        "        x = self.layer2(x)\n",
        "        x = self.layer3(x)\n",
        "        \n",
        "        x = x.view(-1, self.num_flat_features(x))\n",
        "        \n",
        "        x = F.relu(self.fc1(x))\n",
        "        x = F.relu(self.fc2(x))\n",
        "        x = F.relu(self.fc3(x))\n",
        "        x = self.fc4(x)\n",
        "        \n",
        "        return x\n",
        "    \n",
        "    def num_flat_features(self, x):\n",
        "        size = x.size()[1:]\n",
        "        n_features = 1\n",
        "        for s in size:\n",
        "            n_features = n_features * s\n",
        "        \n",
        "        return n_features"
      ],
      "execution_count": null,
      "outputs": []
    },
    {
      "cell_type": "code",
      "metadata": {
        "id": "69uM_9H3TjSm"
      },
      "source": [
        "# Defining loss and optimizer\n",
        "NUM_CLASSES = len(classes)\n",
        "LEARNING_RATE = 0.001\n",
        "model = ConvNet()\n",
        "\n",
        "loss_fn = nn.CrossEntropyLoss()\n",
        "optimizer = optim.Adam(model.parameters(), lr = LEARNING_RATE)"
      ],
      "execution_count": null,
      "outputs": []
    },
    {
      "cell_type": "code",
      "metadata": {
        "colab": {
          "base_uri": "https://localhost:8080/"
        },
        "id": "piN0eEtpTzEv",
        "outputId": "d38c9e85-fa6b-4f5d-9fa8-2276361ae6dd"
      },
      "source": [
        "THRESHOLD = 0.001  # Threshold for early stopping\n",
        "THRESH_EPOCHS = 3 # Number of epochs loss does not decrease before early stopping\n",
        "PATH = './ConvNet.pth.tar'  # Path to save the best model\n",
        "EPOCHS = 500\n",
        "\n",
        "loss_hist = []\n",
        "acc_hist = []\n",
        "num_train_batches = len(train_loader)\n",
        "\n",
        "early_stop_epoch = 0\n",
        "lowest_loss = np.inf\n",
        "\n",
        "for epoch in range(EPOCHS):\n",
        "    print(\"Epoch \" + str(epoch + 1) + \":\")\n",
        "    \n",
        "    for i, batch in enumerate(train_loader):\n",
        "        # batch is a tuple of data and labels\n",
        "        data, labels = batch\n",
        "        \n",
        "        # Running forward pass\n",
        "        outputs = model(data)\n",
        "        loss = loss_fn(outputs, labels)\n",
        "        \n",
        "        # Backprop\n",
        "        optimizer.zero_grad()\n",
        "        loss.backward()\n",
        "        optimizer.step()\n",
        "        \n",
        "        # Measuring accuracy\n",
        "        total = labels.size(0)\n",
        "        _, predicted = torch.max(outputs, dim = 1)\n",
        "        correct = (predicted == labels).sum().item()\n",
        "        accuracy = correct / total\n",
        "        \n",
        "        # Printing progress\n",
        "        drawProgressBar((i + 1), num_train_batches, \n",
        "                              '\\t loss: {:.4f} \\t acc: {:.4f}'.format(round(loss.item(), 4), round(accuracy, 4)))\n",
        "    \n",
        "    print('\\n')\n",
        "    \n",
        "    if abs(lowest_loss - loss.item()) < THRESHOLD:\n",
        "        early_stop_epoch += 1\n",
        "        print('Loss did not decrease from ' + str(lowest_loss))\n",
        "    \n",
        "    else:\n",
        "        print('Loss decreased from {:.4f} to {:.4f}, saving model to {}'.format(\n",
        "            round(lowest_loss, 4), round(loss.item(), 4), PATH))\n",
        "        \n",
        "        lowest_loss = loss.item()\n",
        "        early_stop_epoch = 0\n",
        "        torch.save({'state_dict': model.state_dict()}, PATH)\n",
        "        \n",
        "    acc_hist.append(accuracy)\n",
        "    loss_hist.append(loss.item())\n",
        "    print('\\n\\n')"
      ],
      "execution_count": null,
      "outputs": [
        {
          "output_type": "stream",
          "name": "stdout",
          "text": [
            "Epoch 1:\n",
            "Progress: [====================] 88/88\t loss: 1.7301 \t acc: 0.2500\n",
            "\n",
            "Loss decreased from inf to 1.7301, saving model to ./ConvNet.pth.tar\n",
            "\n",
            "\n",
            "\n",
            "Epoch 2:\n",
            "Progress: [====================] 88/88\t loss: 1.7514 \t acc: 0.2500\n",
            "\n",
            "Loss decreased from 1.7301 to 1.7514, saving model to ./ConvNet.pth.tar\n",
            "\n",
            "\n",
            "\n",
            "Epoch 3:\n",
            "Progress: [====================] 88/88\t loss: 1.4318 \t acc: 0.4062\n",
            "\n",
            "Loss decreased from 1.7514 to 1.4318, saving model to ./ConvNet.pth.tar\n",
            "\n",
            "\n",
            "\n",
            "Epoch 4:\n",
            "Progress: [====================] 88/88\t loss: 1.2706 \t acc: 0.5625\n",
            "\n",
            "Loss decreased from 1.4318 to 1.2706, saving model to ./ConvNet.pth.tar\n",
            "\n",
            "\n",
            "\n",
            "Epoch 5:\n",
            "Progress: [====================] 88/88\t loss: 1.3457 \t acc: 0.5312\n",
            "\n",
            "Loss decreased from 1.2706 to 1.3457, saving model to ./ConvNet.pth.tar\n",
            "\n",
            "\n",
            "\n",
            "Epoch 6:\n",
            "Progress: [====================] 88/88\t loss: 0.9895 \t acc: 0.5938\n",
            "\n",
            "Loss decreased from 1.3457 to 0.9895, saving model to ./ConvNet.pth.tar\n",
            "\n",
            "\n",
            "\n",
            "Epoch 7:\n",
            "Progress: [====================] 88/88\t loss: 1.1547 \t acc: 0.6250\n",
            "\n",
            "Loss decreased from 0.9895 to 1.1547, saving model to ./ConvNet.pth.tar\n",
            "\n",
            "\n",
            "\n",
            "Epoch 8:\n",
            "Progress: [====================] 88/88\t loss: 0.6617 \t acc: 0.7500\n",
            "\n",
            "Loss decreased from 1.1547 to 0.6617, saving model to ./ConvNet.pth.tar\n",
            "\n",
            "\n",
            "\n",
            "Epoch 9:\n",
            "Progress: [====================] 88/88\t loss: 0.7038 \t acc: 0.6875\n",
            "\n",
            "Loss decreased from 0.6617 to 0.7038, saving model to ./ConvNet.pth.tar\n",
            "\n",
            "\n",
            "\n",
            "Epoch 10:\n",
            "Progress: [====================] 88/88\t loss: 0.5192 \t acc: 0.8438\n",
            "\n",
            "Loss decreased from 0.7038 to 0.5192, saving model to ./ConvNet.pth.tar\n",
            "\n",
            "\n",
            "\n",
            "Epoch 11:\n",
            "Progress: [====================] 88/88\t loss: 0.3766 \t acc: 0.9062\n",
            "\n",
            "Loss decreased from 0.5192 to 0.3766, saving model to ./ConvNet.pth.tar\n",
            "\n",
            "\n",
            "\n",
            "Epoch 12:\n",
            "Progress: [====================] 88/88\t loss: 0.4894 \t acc: 0.8125\n",
            "\n",
            "Loss decreased from 0.3766 to 0.4894, saving model to ./ConvNet.pth.tar\n",
            "\n",
            "\n",
            "\n",
            "Epoch 13:\n",
            "Progress: [====================] 88/88\t loss: 0.5156 \t acc: 0.8125\n",
            "\n",
            "Loss decreased from 0.4894 to 0.5156, saving model to ./ConvNet.pth.tar\n",
            "\n",
            "\n",
            "\n",
            "Epoch 14:\n",
            "Progress: [====================] 88/88\t loss: 0.3046 \t acc: 0.9375\n",
            "\n",
            "Loss decreased from 0.5156 to 0.3046, saving model to ./ConvNet.pth.tar\n",
            "\n",
            "\n",
            "\n",
            "Epoch 15:\n",
            "Progress: [====================] 88/88\t loss: 0.2180 \t acc: 0.8750\n",
            "\n",
            "Loss decreased from 0.3046 to 0.2180, saving model to ./ConvNet.pth.tar\n",
            "\n",
            "\n",
            "\n",
            "Epoch 16:\n",
            "Progress: [====================] 88/88\t loss: 0.1961 \t acc: 0.8438\n",
            "\n",
            "Loss decreased from 0.2180 to 0.1961, saving model to ./ConvNet.pth.tar\n",
            "\n",
            "\n",
            "\n",
            "Epoch 17:\n",
            "Progress: [====================] 88/88\t loss: 0.0804 \t acc: 0.9688\n",
            "\n",
            "Loss decreased from 0.1961 to 0.0804, saving model to ./ConvNet.pth.tar\n",
            "\n",
            "\n",
            "\n",
            "Epoch 18:\n",
            "Progress: [====================] 88/88\t loss: 0.1267 \t acc: 0.9688\n",
            "\n",
            "Loss decreased from 0.0804 to 0.1267, saving model to ./ConvNet.pth.tar\n",
            "\n",
            "\n",
            "\n",
            "Epoch 19:\n",
            "Progress: [====================] 88/88\t loss: 0.1163 \t acc: 0.9375\n",
            "\n",
            "Loss decreased from 0.1267 to 0.1163, saving model to ./ConvNet.pth.tar\n",
            "\n",
            "\n",
            "\n",
            "Epoch 20:\n",
            "Progress: [====================] 88/88\t loss: 0.1658 \t acc: 0.9062\n",
            "\n",
            "Loss decreased from 0.1163 to 0.1658, saving model to ./ConvNet.pth.tar\n",
            "\n",
            "\n",
            "\n",
            "Epoch 21:\n",
            "Progress: [====================] 88/88\t loss: 0.1506 \t acc: 0.9375\n",
            "\n",
            "Loss decreased from 0.1658 to 0.1506, saving model to ./ConvNet.pth.tar\n",
            "\n",
            "\n",
            "\n",
            "Epoch 22:\n",
            "Progress: [====================] 88/88\t loss: 0.0148 \t acc: 1.0000\n",
            "\n",
            "Loss decreased from 0.1506 to 0.0148, saving model to ./ConvNet.pth.tar\n",
            "\n",
            "\n",
            "\n",
            "Epoch 23:\n",
            "Progress: [====================] 88/88\t loss: 0.0763 \t acc: 0.9375\n",
            "\n",
            "Loss decreased from 0.0148 to 0.0763, saving model to ./ConvNet.pth.tar\n",
            "\n",
            "\n",
            "\n",
            "Epoch 24:\n",
            "Progress: [====================] 88/88\t loss: 0.0677 \t acc: 0.9375\n",
            "\n",
            "Loss decreased from 0.0763 to 0.0677, saving model to ./ConvNet.pth.tar\n",
            "\n",
            "\n",
            "\n",
            "Epoch 25:\n",
            "Progress: [====================] 88/88\t loss: 0.0025 \t acc: 1.0000\n",
            "\n",
            "Loss decreased from 0.0677 to 0.0025, saving model to ./ConvNet.pth.tar\n",
            "\n",
            "\n",
            "\n",
            "Epoch 26:\n",
            "Progress: [====================] 88/88\t loss: 0.1859 \t acc: 0.9688\n",
            "\n",
            "Loss decreased from 0.0025 to 0.1859, saving model to ./ConvNet.pth.tar\n",
            "\n",
            "\n",
            "\n",
            "Epoch 27:\n",
            "Progress: [====================] 88/88\t loss: 0.1477 \t acc: 0.9062\n",
            "\n",
            "Loss decreased from 0.1859 to 0.1477, saving model to ./ConvNet.pth.tar\n",
            "\n",
            "\n",
            "\n",
            "Epoch 28:\n",
            "Progress: [====================] 88/88\t loss: 0.0472 \t acc: 0.9688\n",
            "\n",
            "Loss decreased from 0.1477 to 0.0472, saving model to ./ConvNet.pth.tar\n",
            "\n",
            "\n",
            "\n",
            "Epoch 29:\n",
            "Progress: [====================] 88/88\t loss: 0.0094 \t acc: 1.0000\n",
            "\n",
            "Loss decreased from 0.0472 to 0.0094, saving model to ./ConvNet.pth.tar\n",
            "\n",
            "\n",
            "\n",
            "Epoch 30:\n",
            "Progress: [====================] 88/88\t loss: 0.0105 \t acc: 1.0000\n",
            "\n",
            "Loss decreased from 0.0094 to 0.0105, saving model to ./ConvNet.pth.tar\n",
            "\n",
            "\n",
            "\n",
            "Epoch 31:\n",
            "Progress: [====================] 88/88\t loss: 0.0226 \t acc: 1.0000\n",
            "\n",
            "Loss decreased from 0.0105 to 0.0226, saving model to ./ConvNet.pth.tar\n",
            "\n",
            "\n",
            "\n",
            "Epoch 32:\n",
            "Progress: [====================] 88/88\t loss: 0.0283 \t acc: 1.0000\n",
            "\n",
            "Loss decreased from 0.0226 to 0.0283, saving model to ./ConvNet.pth.tar\n",
            "\n",
            "\n",
            "\n",
            "Epoch 33:\n",
            "Progress: [====================] 88/88\t loss: 0.0963 \t acc: 0.9688\n",
            "\n",
            "Loss decreased from 0.0283 to 0.0963, saving model to ./ConvNet.pth.tar\n",
            "\n",
            "\n",
            "\n",
            "Epoch 34:\n",
            "Progress: [====================] 88/88\t loss: 0.0422 \t acc: 0.9688\n",
            "\n",
            "Loss decreased from 0.0963 to 0.0422, saving model to ./ConvNet.pth.tar\n",
            "\n",
            "\n",
            "\n",
            "Epoch 35:\n",
            "Progress: [====================] 88/88\t loss: 0.0467 \t acc: 1.0000\n",
            "\n",
            "Loss decreased from 0.0422 to 0.0467, saving model to ./ConvNet.pth.tar\n",
            "\n",
            "\n",
            "\n",
            "Epoch 36:\n",
            "Progress: [====================] 88/88\t loss: 0.0022 \t acc: 1.0000\n",
            "\n",
            "Loss decreased from 0.0467 to 0.0022, saving model to ./ConvNet.pth.tar\n",
            "\n",
            "\n",
            "\n",
            "Epoch 37:\n",
            "Progress: [====================] 88/88\t loss: 0.0013 \t acc: 1.0000\n",
            "\n",
            "Loss did not decrease from 0.0021722966339439154\n",
            "\n",
            "\n",
            "\n",
            "Epoch 38:\n",
            "Progress: [====================] 88/88\t loss: 0.0066 \t acc: 1.0000\n",
            "\n",
            "Loss decreased from 0.0022 to 0.0066, saving model to ./ConvNet.pth.tar\n",
            "\n",
            "\n",
            "\n",
            "Epoch 39:\n",
            "Progress: [====================] 88/88\t loss: 0.1565 \t acc: 0.9688\n",
            "\n",
            "Loss decreased from 0.0066 to 0.1565, saving model to ./ConvNet.pth.tar\n",
            "\n",
            "\n",
            "\n",
            "Epoch 40:\n",
            "Progress: [====================] 88/88\t loss: 0.0148 \t acc: 1.0000\n",
            "\n",
            "Loss decreased from 0.1565 to 0.0148, saving model to ./ConvNet.pth.tar\n",
            "\n",
            "\n",
            "\n",
            "Epoch 41:\n",
            "Progress: [====================] 88/88\t loss: 0.2174 \t acc: 0.9062\n",
            "\n",
            "Loss decreased from 0.0148 to 0.2174, saving model to ./ConvNet.pth.tar\n",
            "\n",
            "\n",
            "\n",
            "Epoch 42:\n",
            "Progress: [====================] 88/88\t loss: 0.0521 \t acc: 0.9688\n",
            "\n",
            "Loss decreased from 0.2174 to 0.0521, saving model to ./ConvNet.pth.tar\n",
            "\n",
            "\n",
            "\n",
            "Epoch 43:\n",
            "Progress: [====================] 88/88\t loss: 0.0041 \t acc: 1.0000\n",
            "\n",
            "Loss decreased from 0.0521 to 0.0041, saving model to ./ConvNet.pth.tar\n",
            "\n",
            "\n",
            "\n",
            "Epoch 44:\n",
            "Progress: [====================] 88/88\t loss: 0.0021 \t acc: 1.0000\n",
            "\n",
            "Loss decreased from 0.0041 to 0.0021, saving model to ./ConvNet.pth.tar\n",
            "\n",
            "\n",
            "\n",
            "Epoch 45:\n",
            "Progress: [====================] 88/88\t loss: 0.0006 \t acc: 1.0000\n",
            "\n",
            "Loss decreased from 0.0021 to 0.0006, saving model to ./ConvNet.pth.tar\n",
            "\n",
            "\n",
            "\n",
            "Epoch 46:\n",
            "Progress: [====================] 88/88\t loss: 0.0001 \t acc: 1.0000\n",
            "\n",
            "Loss did not decrease from 0.0005512305069714785\n",
            "\n",
            "\n",
            "\n",
            "Epoch 47:\n",
            "Progress: [====================] 88/88\t loss: 0.0017 \t acc: 1.0000\n",
            "\n",
            "Loss decreased from 0.0006 to 0.0017, saving model to ./ConvNet.pth.tar\n",
            "\n",
            "\n",
            "\n",
            "Epoch 48:\n",
            "Progress: [====================] 88/88\t loss: 0.0000 \t acc: 1.0000\n",
            "\n",
            "Loss decreased from 0.0017 to 0.0000, saving model to ./ConvNet.pth.tar\n",
            "\n",
            "\n",
            "\n",
            "Epoch 49:\n",
            "Progress: [====================] 88/88\t loss: 0.0000 \t acc: 1.0000\n",
            "\n",
            "Loss did not decrease from 4.64791119156871e-05\n",
            "\n",
            "\n",
            "\n",
            "Epoch 50:\n",
            "Progress: [====================] 88/88\t loss: 0.0001 \t acc: 1.0000\n",
            "\n",
            "Loss did not decrease from 4.64791119156871e-05\n",
            "\n",
            "\n",
            "\n",
            "Epoch 51:\n",
            "Progress: [====================] 88/88\t loss: 0.0000 \t acc: 1.0000\n",
            "\n",
            "Loss did not decrease from 4.64791119156871e-05\n",
            "\n",
            "\n",
            "\n",
            "Epoch 52:\n",
            "Progress: [====================] 88/88\t loss: 0.0001 \t acc: 1.0000\n",
            "\n",
            "Loss did not decrease from 4.64791119156871e-05\n",
            "\n",
            "\n",
            "\n",
            "Epoch 53:\n",
            "Progress: [====================] 88/88\t loss: 0.0000 \t acc: 1.0000\n",
            "\n",
            "Loss did not decrease from 4.64791119156871e-05\n",
            "\n",
            "\n",
            "\n",
            "Epoch 54:\n",
            "Progress: [====================] 88/88\t loss: 0.0000 \t acc: 1.0000\n",
            "\n",
            "Loss did not decrease from 4.64791119156871e-05\n",
            "\n",
            "\n",
            "\n",
            "Epoch 55:\n",
            "Progress: [====================] 88/88\t loss: 0.0000 \t acc: 1.0000\n",
            "\n",
            "Loss did not decrease from 4.64791119156871e-05\n",
            "\n",
            "\n",
            "\n",
            "Epoch 56:\n",
            "Progress: [====================] 88/88\t loss: 0.0000 \t acc: 1.0000\n",
            "\n",
            "Loss did not decrease from 4.64791119156871e-05\n",
            "\n",
            "\n",
            "\n",
            "Epoch 57:\n",
            "Progress: [====================] 88/88\t loss: 0.0000 \t acc: 1.0000\n",
            "\n",
            "Loss did not decrease from 4.64791119156871e-05\n",
            "\n",
            "\n",
            "\n",
            "Epoch 58:\n",
            "Progress: [====================] 88/88\t loss: 0.0000 \t acc: 1.0000\n",
            "\n",
            "Loss did not decrease from 4.64791119156871e-05\n",
            "\n",
            "\n",
            "\n",
            "Epoch 59:\n",
            "Progress: [====================] 88/88\t loss: 0.0000 \t acc: 1.0000\n",
            "\n",
            "Loss did not decrease from 4.64791119156871e-05\n",
            "\n",
            "\n",
            "\n",
            "Epoch 60:\n",
            "Progress: [====================] 88/88\t loss: 0.0000 \t acc: 1.0000\n",
            "\n",
            "Loss did not decrease from 4.64791119156871e-05\n",
            "\n",
            "\n",
            "\n",
            "Epoch 61:\n",
            "Progress: [====================] 88/88\t loss: 0.0000 \t acc: 1.0000\n",
            "\n",
            "Loss did not decrease from 4.64791119156871e-05\n",
            "\n",
            "\n",
            "\n",
            "Epoch 62:\n",
            "Progress: [====================] 88/88\t loss: 0.0000 \t acc: 1.0000\n",
            "\n",
            "Loss did not decrease from 4.64791119156871e-05\n",
            "\n",
            "\n",
            "\n",
            "Epoch 63:\n",
            "Progress: [====================] 88/88\t loss: 0.0000 \t acc: 1.0000\n",
            "\n",
            "Loss did not decrease from 4.64791119156871e-05\n",
            "\n",
            "\n",
            "\n",
            "Epoch 64:\n",
            "Progress: [====================] 88/88\t loss: 0.0000 \t acc: 1.0000\n",
            "\n",
            "Loss did not decrease from 4.64791119156871e-05\n",
            "\n",
            "\n",
            "\n",
            "Epoch 65:\n",
            "Progress: [====================] 88/88\t loss: 0.0000 \t acc: 1.0000\n",
            "\n",
            "Loss did not decrease from 4.64791119156871e-05\n",
            "\n",
            "\n",
            "\n",
            "Epoch 66:\n",
            "Progress: [====================] 88/88\t loss: 0.0000 \t acc: 1.0000\n",
            "\n",
            "Loss did not decrease from 4.64791119156871e-05\n",
            "\n",
            "\n",
            "\n",
            "Epoch 67:\n",
            "Progress: [====================] 88/88\t loss: 0.0000 \t acc: 1.0000\n",
            "\n",
            "Loss did not decrease from 4.64791119156871e-05\n",
            "\n",
            "\n",
            "\n",
            "Epoch 68:\n",
            "Progress: [====================] 88/88\t loss: 0.0000 \t acc: 1.0000\n",
            "\n",
            "Loss did not decrease from 4.64791119156871e-05\n",
            "\n",
            "\n",
            "\n",
            "Epoch 69:\n",
            "Progress: [====================] 88/88\t loss: 0.0000 \t acc: 1.0000\n",
            "\n",
            "Loss did not decrease from 4.64791119156871e-05\n",
            "\n",
            "\n",
            "\n",
            "Epoch 70:\n",
            "Progress: [====================] 88/88\t loss: 0.0000 \t acc: 1.0000\n",
            "\n",
            "Loss did not decrease from 4.64791119156871e-05\n",
            "\n",
            "\n",
            "\n",
            "Epoch 71:\n",
            "Progress: [====================] 88/88\t loss: 0.0000 \t acc: 1.0000\n",
            "\n",
            "Loss did not decrease from 4.64791119156871e-05\n",
            "\n",
            "\n",
            "\n",
            "Epoch 72:\n",
            "Progress: [====================] 88/88\t loss: 0.0000 \t acc: 1.0000\n",
            "\n",
            "Loss did not decrease from 4.64791119156871e-05\n",
            "\n",
            "\n",
            "\n",
            "Epoch 73:\n",
            "Progress: [====================] 88/88\t loss: 0.0000 \t acc: 1.0000\n",
            "\n",
            "Loss did not decrease from 4.64791119156871e-05\n",
            "\n",
            "\n",
            "\n",
            "Epoch 74:\n",
            "Progress: [====================] 88/88\t loss: 0.0000 \t acc: 1.0000\n",
            "\n",
            "Loss did not decrease from 4.64791119156871e-05\n",
            "\n",
            "\n",
            "\n",
            "Epoch 75:\n",
            "Progress: [====================] 88/88\t loss: 0.0000 \t acc: 1.0000\n",
            "\n",
            "Loss did not decrease from 4.64791119156871e-05\n",
            "\n",
            "\n",
            "\n",
            "Epoch 76:\n",
            "Progress: [====================] 88/88\t loss: 0.0000 \t acc: 1.0000\n",
            "\n",
            "Loss did not decrease from 4.64791119156871e-05\n",
            "\n",
            "\n",
            "\n",
            "Epoch 77:\n",
            "Progress: [====================] 88/88\t loss: 0.0000 \t acc: 1.0000\n",
            "\n",
            "Loss did not decrease from 4.64791119156871e-05\n",
            "\n",
            "\n",
            "\n",
            "Epoch 78:\n",
            "Progress: [====================] 88/88\t loss: 0.0000 \t acc: 1.0000\n",
            "\n",
            "Loss did not decrease from 4.64791119156871e-05\n",
            "\n",
            "\n",
            "\n",
            "Epoch 79:\n",
            "Progress: [====================] 88/88\t loss: 0.0000 \t acc: 1.0000\n",
            "\n",
            "Loss did not decrease from 4.64791119156871e-05\n",
            "\n",
            "\n",
            "\n",
            "Epoch 80:\n",
            "Progress: [====================] 88/88\t loss: 0.0000 \t acc: 1.0000\n",
            "\n",
            "Loss did not decrease from 4.64791119156871e-05\n",
            "\n",
            "\n",
            "\n",
            "Epoch 81:\n",
            "Progress: [====================] 88/88\t loss: 0.0000 \t acc: 1.0000\n",
            "\n",
            "Loss did not decrease from 4.64791119156871e-05\n",
            "\n",
            "\n",
            "\n",
            "Epoch 82:\n",
            "Progress: [====================] 88/88\t loss: 0.0000 \t acc: 1.0000\n",
            "\n",
            "Loss did not decrease from 4.64791119156871e-05\n",
            "\n",
            "\n",
            "\n",
            "Epoch 83:\n",
            "Progress: [====================] 88/88\t loss: 0.0000 \t acc: 1.0000\n",
            "\n",
            "Loss did not decrease from 4.64791119156871e-05\n",
            "\n",
            "\n",
            "\n",
            "Epoch 84:\n",
            "Progress: [====================] 88/88\t loss: 0.0000 \t acc: 1.0000\n",
            "\n",
            "Loss did not decrease from 4.64791119156871e-05\n",
            "\n",
            "\n",
            "\n",
            "Epoch 85:\n",
            "Progress: [====================] 88/88\t loss: 0.0000 \t acc: 1.0000\n",
            "\n",
            "Loss did not decrease from 4.64791119156871e-05\n",
            "\n",
            "\n",
            "\n",
            "Epoch 86:\n",
            "Progress: [====================] 88/88\t loss: 0.0000 \t acc: 1.0000\n",
            "\n",
            "Loss did not decrease from 4.64791119156871e-05\n",
            "\n",
            "\n",
            "\n",
            "Epoch 87:\n",
            "Progress: [====================] 88/88\t loss: 0.0000 \t acc: 1.0000\n",
            "\n",
            "Loss did not decrease from 4.64791119156871e-05\n",
            "\n",
            "\n",
            "\n",
            "Epoch 88:\n",
            "Progress: [=================>  ] 79/88\t loss: 0.0000 \t acc: 1.0000"
          ]
        }
      ]
    },
    {
      "cell_type": "code",
      "metadata": {
        "colab": {
          "base_uri": "https://localhost:8080/",
          "height": 404
        },
        "id": "3hLS2OiTaUR_",
        "outputId": "3367af08-e049-45ec-dec4-9c66af58bc07"
      },
      "source": [
        "# Plotting the losses and accuracies \n",
        "fig, ax = plt.subplots(nrows = 1, ncols = 2, figsize = (16, 6))\n",
        "\n",
        "ax[0].plot(range(1, len(loss_hist) + 1), loss_hist, c = 'orange')\n",
        "ax[0].set_ylabel('Loss')\n",
        "ax[0].set_xlabel('Epoch')\n",
        "ax[0].set_title('Loss progress through training')\n",
        "\n",
        "ax[1].plot(range(1, len(acc_hist) + 1), acc_hist, c = 'green')\n",
        "ax[1].set_ylabel('Accuracy')\n",
        "ax[1].set_xlabel('Epoch')\n",
        "ax[1].set_title('Accuracy progress through training')\n",
        "\n",
        "plt.show()"
      ],
      "execution_count": null,
      "outputs": [
        {
          "data": {
            "image/png": "[encoded data removed]",
            "text/plain": [
              "<Figure size 1152x432 with 2 Axes>"
            ]
          },
          "metadata": {},
          "output_type": "display_data"
        }
      ]
    },
    {
      "cell_type": "code",
      "metadata": {
        "colab": {
          "base_uri": "https://localhost:8080/"
        },
        "id": "g4UV1SOUaYO4",
        "outputId": "ee33cbab-8ef3-4685-93a9-65866addbe4e"
      },
      "source": [
        "# Loading the best model\n",
        "model = ConvNet()\n",
        "checkpoint = torch.load(PATH)\n",
        "model.load_state_dict(checkpoint['state_dict'])"
      ],
      "execution_count": null,
      "outputs": [
        {
          "data": {
            "text/plain": [
              "<All keys matched successfully>"
            ]
          },
          "execution_count": 134,
          "metadata": {},
          "output_type": "execute_result"
        }
      ]
    },
    {
      "cell_type": "code",
      "metadata": {
        "colab": {
          "base_uri": "https://localhost:8080/"
        },
        "id": "rU-EVRJ4abZM",
        "outputId": "6d904b69-1631-4178-8f46-2bf66553d103"
      },
      "source": [
        "# Getting the validation accuracy and loss\n",
        "val_acc, val_loss = evaluate(model, val_loader)\n",
        "\n",
        "print(\"\\n\\nValidation accuracy: {:.4f}\".format(round(val_acc, 4)))\n",
        "print(\"Validation loss: {:.4f}\".format(round(val_loss, 4)))"
      ],
      "execution_count": null,
      "outputs": [
        {
          "name": "stdout",
          "output_type": "stream",
          "text": [
            "Progress: [====================] 44/44\n",
            "\n",
            "Validation accuracy: 0.6536\n",
            "Validation loss: 0.9714\n"
          ]
        }
      ]
    }
  ]
}