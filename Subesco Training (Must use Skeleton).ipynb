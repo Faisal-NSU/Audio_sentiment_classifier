{
  "nbformat": 4,
  "nbformat_minor": 0,
  "metadata": {
    "colab": {
      "name": "shahrinbolseworkkorlebiyekorbe.ipynb",
      "provenance": [],
      "toc_visible": true,
      "include_colab_link": true
    },
    "kernelspec": {
      "name": "python3",
      "display_name": "Python 3"
    },
    "language_info": {
      "name": "python"
    },
    "accelerator": "GPU"
  },
  "cells": [
    {
      "cell_type": "markdown",
      "metadata": {
        "id": "view-in-github",
        "colab_type": "text"
      },
      "source": [
        "<a href=\"https://colab.research.google.com/github/Faisal-NSU/CSE465/blob/main/Subesco%20Training%20(Must%20use%20Skeleton).ipynb\" target=\"_parent\"><img src=\"https://colab.research.google.com/assets/colab-badge.svg\" alt=\"Open In Colab\"/></a>"
      ]
    },
    {
      "cell_type": "markdown",
      "source": [
        "Unzip Dataset (Subesco)"
      ],
      "metadata": {
        "id": "UAetRfWHTQSD"
      }
    },
    {
      "cell_type": "markdown",
      "source": [
        "# Download And Extract"
      ],
      "metadata": {
        "id": "BY5QPBv3h7Uq"
      }
    },
    {
      "cell_type": "code",
      "source": [
        "#Subesco.zip\n",
        "!gdown --id 1k-afEJdwz5Tf4-bsuKOJzP7xn-KQTlkM"
      ],
      "metadata": {
        "colab": {
          "base_uri": "https://localhost:8080/"
        },
        "id": "PY2QjzdT6Zpj",
        "outputId": "e0a47482-2dfe-434e-bc1d-9fd376ac1276"
      },
      "execution_count": 1,
      "outputs": [
        {
          "output_type": "stream",
          "name": "stdout",
          "text": [
            "Downloading...\n",
            "From: https://drive.google.com/uc?id=1k-afEJdwz5Tf4-bsuKOJzP7xn-KQTlkM\n",
            "To: /content/SUBESCO.zip\n",
            "100% 1.65G/1.65G [00:18<00:00, 89.0MB/s]\n"
          ]
        }
      ]
    },
    {
      "cell_type": "code",
      "execution_count": 2,
      "metadata": {
        "id": "kcAXMisz2plC"
      },
      "outputs": [],
      "source": [
        "import zipfile\n",
        "dataset_directory = '/content/SUBESCO.zip'\n",
        "zip_ref = zipfile.ZipFile(dataset_directory, 'r')\n",
        "zip_ref.extractall('/content')\n",
        "zip_ref.close()"
      ]
    },
    {
      "cell_type": "markdown",
      "source": [
        "# Custom Dataset Class"
      ],
      "metadata": {
        "id": "8m8F1n2QiNXD"
      }
    },
    {
      "cell_type": "markdown",
      "source": [
        "Create custom Dataset"
      ],
      "metadata": {
        "id": "i2kgkj5VWhgx"
      }
    },
    {
      "cell_type": "code",
      "source": [
        "import os\n",
        "import torch\n",
        "from torch.utils.data import Dataset\n",
        "import pandas as pd\n",
        "import torchaudio\n",
        "from torch.utils.data import DataLoader\n",
        "import torch.optim.lr_scheduler as lr_scheduler\n",
        "from torch.nn.functional import normalize\n",
        "\n",
        "\n",
        "class CustomDataset(Dataset):\n",
        "    def __init__(self, annotations_file, audio_dir, transformation, target_sample_rate, num_samples, device):\n",
        "        self.annotations = pd.read_csv(annotations_file)\n",
        "        self.audio_dir = audio_dir\n",
        "        self.device = device\n",
        "        self.transformation = transformation.to(self.device)\n",
        "        self.target_sample_rate = target_sample_rate\n",
        "        self.num_samples = num_samples\n",
        "\n",
        "    def __len__(self):\n",
        "        return len(self.annotations)\n",
        "\n",
        "    def __getitem__(self, index):\n",
        "        audio_sample_path = self._get_audio_sample_path(index)\n",
        "        #print(audio_sample_path)\n",
        "        label = self._get_audio_sample_label(index)\n",
        "        #print(label)\n",
        "        #signal, sr = torchaudio.load(audio_sample_path,frame_offset=int(self.num_samples*.3),num_frames = self.target_sample_rate)\n",
        "        signal, sr = torchaudio.load(audio_sample_path)\n",
        "        signal = signal.to(self.device)\n",
        "        signal = self._resample_if_necessary(signal, sr)\n",
        "        signal = self._mix_down_if_necessary(signal)\n",
        "        signal = self._cut_if_necessary(signal)\n",
        "        signal = self._right_pad_if_necessary(signal)\n",
        "        signal = self.transformation(signal)\n",
        "        # produce delta and delta-delta and add to mfcc\n",
        "        delta = torchaudio.functional.compute_deltas(signal)\n",
        "        delta2 = torchaudio.functional.compute_deltas(delta)\n",
        "        #signal = torch.cat((signal, delta, delta2), 1) # concatenating deltas\n",
        "        \n",
        "        signal = signal + delta + delta2\n",
        "        avg_mfcc_deltas = signal\n",
        "\n",
        "        return avg_mfcc_deltas,label\n",
        "\n",
        "    def _cut_if_necessary(self, signal):\n",
        "        if signal.shape[1] > self.num_samples:\n",
        "            # print(signal.shape[1]) # print sample size\n",
        "            signal = signal[:, :self.num_samples]\n",
        "        return signal\n",
        "\n",
        "    def _right_pad_if_necessary(self, signal):\n",
        "        length_signal = signal.shape[1]\n",
        "        if length_signal < self.num_samples:\n",
        "            num_missing_samples = self.num_samples - length_signal\n",
        "            last_dim_padding = (0, num_missing_samples)\n",
        "            signal = torch.nn.functional.pad(signal, last_dim_padding)\n",
        "        return signal\n",
        "\n",
        "    def _resample_if_necessary(self, signal, sr):\n",
        "        if sr != self.target_sample_rate:\n",
        "            resampler = torchaudio.transforms.Resample(sr, self.target_sample_rate)\n",
        "            resampler = resampler.to(device)\n",
        "            signal = resampler(signal)\n",
        "        return signal\n",
        "\n",
        "    def _mix_down_if_necessary(self, signal):\n",
        "        if signal.shape[0] > 1:\n",
        "            signal = torch.mean(signal, dim=0, keepdim=True)\n",
        "        return signal\n",
        "\n",
        "    # for any audio index this function returns the audio path\n",
        "    def _get_audio_sample_path(self, index):\n",
        "        path = os.path.join(self.audio_dir, self.annotations.iloc[index,0])\n",
        "        return path\n",
        "    \n",
        "    # for specified audio index this will return the label from the data csv\n",
        "    def _get_audio_sample_label(self, index):\n",
        "        return self.annotations.iloc[index, 4]"
      ],
      "metadata": {
        "id": "UBSsEU43WdcD"
      },
      "execution_count": 46,
      "outputs": []
    },
    {
      "cell_type": "markdown",
      "source": [
        "Instantiate the dataset"
      ],
      "metadata": {
        "id": "LY45V_efdoLX"
      }
    },
    {
      "cell_type": "code",
      "source": [
        "TRAIN_CSV = '/content/SUBESCO/train/train.csv'\n",
        "TEST_CSV = '/content/SUBESCO/test/test.csv'\n",
        "VALID_CSV = '/content/SUBESCO/valid/valid.csv'\n",
        "\n",
        "TRAIN_PATH = '/content/SUBESCO/train/'\n",
        "TEST_PATH = '/content/SUBESCO/test/'\n",
        "VALID_PATH = '/content/SUBESCO/valid/'\n",
        "\n",
        "SAMPLE_RATE = 22050\n",
        "NUM_SAMPLES = SAMPLE_RATE*4\n",
        "\n",
        "device = ''\n",
        "if torch.cuda.is_available():\n",
        "    device = \"cuda\"\n",
        "else:\n",
        "    device = \"cpu\"\n",
        "print(f\"Using device {device}\")\n",
        "\n",
        "#mfcc = torchaudio.transforms.MelSpectrogram(sample_rate=SAMPLE_RATE, n_mels = 70,n_fft = 600)\n",
        "mfcc = torchaudio.transforms.MFCC(sample_rate=SAMPLE_RATE, n_mfcc=128, melkwargs={\"n_fft\": 2048, \"hop_length\": 512, \"power\": 2})\n",
        "train_dataset = CustomDataset(TRAIN_CSV,\n",
        "                        TRAIN_PATH,\n",
        "                        mfcc,\n",
        "                        SAMPLE_RATE,\n",
        "                        NUM_SAMPLES,\n",
        "                        device)\n",
        "print(f\"There are {len(train_dataset)} samples in the train.\")\n",
        "\n",
        "val_dataset = CustomDataset(VALID_CSV,\n",
        "                        VALID_PATH,\n",
        "                        mfcc,\n",
        "                        SAMPLE_RATE,\n",
        "                        NUM_SAMPLES,\n",
        "                        device)\n",
        "\n",
        "print(f\"There are {len(val_dataset)} samples in the valid.\")\n",
        "\n",
        "test_dataset = CustomDataset(TEST_CSV,\n",
        "                        TEST_PATH,\n",
        "                        mfcc,\n",
        "                        SAMPLE_RATE,\n",
        "                        NUM_SAMPLES,\n",
        "                        device)\n",
        "print(f\"There are {len(test_dataset)} samples in the test.\")\n",
        "signal, label = val_dataset[0]\n",
        "print(signal.shape)"
      ],
      "metadata": {
        "colab": {
          "base_uri": "https://localhost:8080/"
        },
        "id": "irCA4qM4dneT",
        "outputId": "2e7219d4-6d9c-418c-c8dc-74f8e5032b9f"
      },
      "execution_count": 49,
      "outputs": [
        {
          "output_type": "stream",
          "name": "stdout",
          "text": [
            "Using device cuda\n",
            "There are 4900 samples in the train.\n",
            "There are 700 samples in the valid.\n",
            "There are 1400 samples in the test.\n",
            "torch.Size([1, 128, 173])\n"
          ]
        }
      ]
    },
    {
      "cell_type": "code",
      "source": [
        "\n",
        "df = pd.read_csv(TRAIN_CSV)\n",
        "print(df['label_id'].value_counts())\n",
        "df = pd.read_csv(TEST_CSV)\n",
        "print(df['label_id'].value_counts())\n",
        "df = pd.read_csv(VALID_CSV)\n",
        "print(df['label_id'].value_counts())\n"
      ],
      "metadata": {
        "colab": {
          "base_uri": "https://localhost:8080/"
        },
        "id": "lBteY7ubjjQt",
        "outputId": "f0293c78-e89b-4115-8724-e7606ee9b767"
      },
      "execution_count": 50,
      "outputs": [
        {
          "output_type": "stream",
          "name": "stdout",
          "text": [
            "3    700\n",
            "6    700\n",
            "2    700\n",
            "5    700\n",
            "1    700\n",
            "4    700\n",
            "0    700\n",
            "Name: label_id, dtype: int64\n",
            "6    200\n",
            "5    200\n",
            "4    200\n",
            "3    200\n",
            "2    200\n",
            "1    200\n",
            "0    200\n",
            "Name: label_id, dtype: int64\n",
            "6    100\n",
            "5    100\n",
            "4    100\n",
            "3    100\n",
            "2    100\n",
            "1    100\n",
            "0    100\n",
            "Name: label_id, dtype: int64\n"
          ]
        }
      ]
    },
    {
      "cell_type": "markdown",
      "source": [
        "# Model Loading and Functions"
      ],
      "metadata": {
        "id": "V7ZEOkhKmF3E"
      }
    },
    {
      "cell_type": "code",
      "execution_count": 75,
      "metadata": {
        "id": "WDxxZBlnkUw6"
      },
      "outputs": [],
      "source": [
        "from torch import nn\n",
        "from torchsummary import summary\n",
        "\n",
        "from torchvision import models\n",
        "model = models.resnet18(pretrained=True)\n",
        "\n",
        "model = model.to(device)\n",
        "model.conv1=nn.Conv2d(1, model.conv1.out_channels, \n",
        "                      kernel_size=model.conv1.kernel_size[0], \n",
        "                      stride=model.conv1.stride[0], \n",
        "                      padding=model.conv1.padding[0])\n",
        "num_ftrs = model.fc.in_features\n",
        "model.fc = nn.Sequential(*[nn.Dropout(p=0.25), nn.Linear(num_ftrs, 7)])"
      ]
    },
    {
      "cell_type": "code",
      "source": [
        "model = model.to(device)\n",
        "#summary(model, signal.shape)"
      ],
      "metadata": {
        "id": "UN2A5cVgyL4-"
      },
      "execution_count": 76,
      "outputs": []
    },
    {
      "cell_type": "code",
      "source": [
        "from torch import nn\n",
        "train_loss = []\n",
        "val_loss = []\n",
        "test_loss = []\n",
        "\n",
        "train_acc = []\n",
        "val_acc = []\n",
        "test_acc = []\n",
        "\n",
        "BATCH_SIZE = 32\n",
        "criterion = nn.CrossEntropyLoss()\n",
        "optimizer = torch.optim.Adam(model.parameters(), lr=0.00001)\n",
        "#optimizer = torch.optim.SGD(model.parameters(), lr=0.1, momentum=0.9)\n",
        "step_lr_scheduler = lr_scheduler.StepLR(optimizer, step_size=8, gamma=0.1)\n",
        "\n",
        "def create_data_loader(train_data, batch_size):\n",
        "    train_dataloader = DataLoader(train_data, batch_size=batch_size,shuffle=True)\n",
        "    return train_dataloader\n",
        "\n",
        "train_dataloader = create_data_loader(train_dataset, BATCH_SIZE)\n",
        "test_dataloader = create_data_loader(test_dataset, BATCH_SIZE)\n",
        "val_dataloader = create_data_loader(val_dataset, BATCH_SIZE)"
      ],
      "metadata": {
        "id": "Vn4QrDSngyhX"
      },
      "execution_count": 77,
      "outputs": []
    },
    {
      "cell_type": "code",
      "source": [
        "def train_loop(dataloader, model, criterion, optimizer):\n",
        "    model.train()\n",
        "    running_loss = 0.0\n",
        "    running_corrects = 0\n",
        "    size = len(dataloader.dataset)  \n",
        "\n",
        "    for batch, (X,y) in enumerate(dataloader):\n",
        "        # Compute prediction and loss\n",
        "        inputs, labels = X.to(device), y.to(device)\n",
        "        \n",
        "        with torch.set_grad_enabled(True):\n",
        "            outputs = model(inputs)\n",
        "            _, preds = torch.max(outputs, 1)\n",
        "            loss = criterion(outputs, labels)\n",
        "\n",
        "            optimizer.zero_grad()\n",
        "            loss.backward()\n",
        "            optimizer.step()\n",
        "\n",
        "        running_loss += loss.item() * inputs.size(0)\n",
        "        running_corrects += torch.sum(preds == labels.data)\n",
        "\n",
        "        if batch % 80 == 0:\n",
        "            loss, current = loss.item(), batch * len(X)\n",
        "            print(f\"loss: {loss:>7f}  [{current:>5d}/{size:>5d}]\")\n",
        "\n",
        "    epoch_loss = running_loss / size\n",
        "    epoch_acc = running_corrects.double() / size\n",
        "\n",
        "    print('Train Loss: {:.4f} Acc: {:.4f}'.format(\n",
        "                 epoch_loss, epoch_acc))\n",
        "    \n",
        "    return epoch_loss, epoch_acc"
      ],
      "metadata": {
        "id": "Jhk6pTKCSEQY"
      },
      "execution_count": 78,
      "outputs": []
    },
    {
      "cell_type": "code",
      "source": [
        "def test_loop(dataloader, model, criterion):\n",
        "    model.eval()\n",
        "    running_loss = 0.0\n",
        "    running_corrects = 0\n",
        "    size = len(dataloader.dataset)  \n",
        "\n",
        "    for batch, (X,y) in enumerate(dataloader):\n",
        "        # Compute prediction and loss\n",
        "        inputs, labels = X.to(device), y.to(device)\n",
        "        \n",
        "        with torch.set_grad_enabled(False):\n",
        "            outputs = model(inputs)\n",
        "            _, preds = torch.max(outputs, 1)\n",
        "            loss = criterion(outputs, labels)\n",
        "\n",
        "        running_loss += loss.item() * inputs.size(0)\n",
        "        running_corrects += torch.sum(preds == labels.data)\n",
        "\n",
        "    epoch_loss = running_loss / size\n",
        "    epoch_acc = running_corrects.double() / size\n",
        "\n",
        "    print('Validation Loss: {:.4f} Acc: {:.4f}'.format(\n",
        "                 epoch_loss, epoch_acc))\n",
        "    \n",
        "    return epoch_loss,epoch_acc\n",
        "    "
      ],
      "metadata": {
        "id": "RngTm7rGSm6v"
      },
      "execution_count": 79,
      "outputs": []
    },
    {
      "cell_type": "markdown",
      "source": [
        "# Model Running"
      ],
      "metadata": {
        "id": "h3_nrlbJUS5i"
      }
    },
    {
      "cell_type": "code",
      "source": [
        "import math\n",
        "import time\n",
        "import copy\n",
        "\n",
        "best_model_wts = copy.deepcopy(model.state_dict())\n",
        "best_acc = 0.0\n",
        "\n",
        "EPOCHS = 10\n",
        "start = time.time()\n",
        "for t in range(EPOCHS):\n",
        "    print(f\"\\nEpoch {t+1}\\n-------------------------------\")\n",
        "    ls , ac = train_loop(train_dataloader, model, criterion, optimizer)\n",
        "    train_loss.append(ls)\n",
        "    train_acc.append(ac)\n",
        "\n",
        "    ls,ac = test_loop(val_dataloader, model, criterion)\n",
        "    val_loss.append(ls)\n",
        "    val_acc.append(ac)\n",
        "\n",
        "    #testing\n",
        "    ls,ac = test_loop(test_dataloader, model, criterion)\n",
        "    test_loss.append(ls)\n",
        "    test_acc.append(ac)\n",
        "\n",
        "    if ac > best_acc:\n",
        "        best_acc = ac\n",
        "        best_model_wts = copy.deepcopy(model.state_dict())\n",
        "\n",
        "    step_lr_scheduler.step()\n",
        "    \n",
        "final = (time.time() - start)/60\n",
        "model.load_state_dict(best_model_wts)\n",
        "print(f\"Done for all {EPOCHS} epochs in {math.ceil(final)} minutes\\n\")"
      ],
      "metadata": {
        "id": "rBPMtivT4pmH",
        "outputId": "2c985fe8-befd-4971-a5c7-005ce55f84dd",
        "colab": {
          "base_uri": "https://localhost:8080/"
        }
      },
      "execution_count": 81,
      "outputs": [
        {
          "output_type": "stream",
          "name": "stdout",
          "text": [
            "\n",
            "Epoch 1\n",
            "-------------------------------\n",
            "loss: 1.839810  [    0/ 4900]\n",
            "loss: 1.628275  [ 2560/ 4900]\n",
            "Train Loss: 1.6362 Acc: 0.3759\n",
            "Validation Loss: 1.8296 Acc: 0.3514\n",
            "Validation Loss: 1.6971 Acc: 0.3671\n",
            "\n",
            "Epoch 2\n",
            "-------------------------------\n",
            "loss: 1.366827  [    0/ 4900]\n",
            "loss: 1.175851  [ 2560/ 4900]\n",
            "Train Loss: 1.2053 Acc: 0.5596\n",
            "Validation Loss: 1.5919 Acc: 0.4257\n",
            "Validation Loss: 1.5318 Acc: 0.4250\n",
            "\n",
            "Epoch 3\n",
            "-------------------------------\n",
            "loss: 1.395370  [    0/ 4900]\n",
            "loss: 0.817830  [ 2560/ 4900]\n",
            "Train Loss: 0.9649 Acc: 0.6678\n",
            "Validation Loss: 1.5037 Acc: 0.4486\n",
            "Validation Loss: 1.4816 Acc: 0.4407\n",
            "\n",
            "Epoch 4\n",
            "-------------------------------\n",
            "loss: 0.892665  [    0/ 4900]\n",
            "loss: 0.587734  [ 2560/ 4900]\n",
            "Train Loss: 0.7609 Acc: 0.7527\n",
            "Validation Loss: 1.3933 Acc: 0.4857\n",
            "Validation Loss: 1.4248 Acc: 0.4686\n",
            "\n",
            "Epoch 5\n",
            "-------------------------------\n",
            "loss: 0.571288  [    0/ 4900]\n",
            "loss: 0.586491  [ 2560/ 4900]\n",
            "Train Loss: 0.6046 Acc: 0.8186\n",
            "Validation Loss: 1.4212 Acc: 0.4743\n",
            "Validation Loss: 1.4155 Acc: 0.4779\n",
            "\n",
            "Epoch 6\n",
            "-------------------------------\n",
            "loss: 0.598284  [    0/ 4900]\n",
            "loss: 0.502743  [ 2560/ 4900]\n",
            "Train Loss: 0.4803 Acc: 0.8655\n",
            "Validation Loss: 1.3122 Acc: 0.5114\n",
            "Validation Loss: 1.3874 Acc: 0.4850\n",
            "\n",
            "Epoch 7\n",
            "-------------------------------\n",
            "loss: 0.295363  [    0/ 4900]\n",
            "loss: 0.225987  [ 2560/ 4900]\n",
            "Train Loss: 0.3699 Acc: 0.9061\n",
            "Validation Loss: 1.3910 Acc: 0.5143\n",
            "Validation Loss: 1.4150 Acc: 0.4821\n",
            "\n",
            "Epoch 8\n",
            "-------------------------------\n",
            "loss: 0.360050  [    0/ 4900]\n",
            "loss: 0.269937  [ 2560/ 4900]\n",
            "Train Loss: 0.2845 Acc: 0.9404\n",
            "Validation Loss: 1.3752 Acc: 0.5071\n",
            "Validation Loss: 1.4402 Acc: 0.4743\n",
            "\n",
            "Epoch 9\n",
            "-------------------------------\n",
            "loss: 0.257921  [    0/ 4900]\n",
            "loss: 0.297365  [ 2560/ 4900]\n",
            "Train Loss: 0.2180 Acc: 0.9643\n",
            "Validation Loss: 1.4442 Acc: 0.4857\n",
            "Validation Loss: 1.4593 Acc: 0.4729\n",
            "\n",
            "Epoch 10\n",
            "-------------------------------\n",
            "loss: 0.132610  [    0/ 4900]\n",
            "loss: 0.211238  [ 2560/ 4900]\n",
            "Train Loss: 0.2066 Acc: 0.9680\n",
            "Validation Loss: 1.3666 Acc: 0.5157\n",
            "Validation Loss: 1.4336 Acc: 0.4821\n",
            "Done for all 10 epochs in 17 minutes\n",
            "\n"
          ]
        }
      ]
    },
    {
      "cell_type": "markdown",
      "source": [
        "# Draw Graphs - Training and Validation"
      ],
      "metadata": {
        "id": "ZiTdXyXnUdGy"
      }
    },
    {
      "cell_type": "code",
      "source": [
        "from matplotlib import pyplot as plt\n",
        "plt.figure(figsize=[6.4, 4.8],facecolor='white', edgecolor='black',dpi=100)\n",
        "\n",
        "plt.title('Loss Curve')\n",
        "plt.plot(train_loss,label='Training Loss')\n",
        "plt.plot(val_loss,label='Validation Loss')\n",
        "plt.plot(test_loss,label='Testing Loss')\n",
        "plt.xlabel('Epoch')\n",
        "plt.ylabel('Loss')\n",
        "plt.legend()\n",
        "plt.grid()"
      ],
      "metadata": {
        "id": "v4wfvYkfTZ9E",
        "outputId": "11d5a352-c9a4-46b9-e19f-ac00dd26b303",
        "colab": {
          "base_uri": "https://localhost:8080/",
          "height": 465
        }
      },
      "execution_count": 95,
      "outputs": [
        {
          "output_type": "display_data",
          "data": {
            "image/png": "[encoded data removed]",
            "text/plain": [
              "<Figure size 640x480 with 1 Axes>"
            ]
          },
          "metadata": {}
        }
      ]
    },
    {
      "cell_type": "code",
      "source": [
        "plt.figure(figsize=[6.4, 4.8],facecolor='white', edgecolor='black',dpi=100)\n",
        "plt.title('Accuracy Curve')\n",
        "plt.plot(train_acc,label='Training Accuracy')\n",
        "plt.plot(val_acc,label='Validation Accuracy')\n",
        "plt.plot(test_acc,label='Testing Accuracy')\n",
        "plt.xlabel('Epoch')\n",
        "plt.ylabel('Accuracy')\n",
        "plt.legend()\n",
        "plt.grid()"
      ],
      "metadata": {
        "id": "jLHvmjjeT03M",
        "outputId": "2ecc662f-07a7-40ee-bdfb-d45145107b9b",
        "colab": {
          "base_uri": "https://localhost:8080/",
          "height": 465
        }
      },
      "execution_count": 96,
      "outputs": [
        {
          "output_type": "display_data",
          "data": {
            "image/png": "[encoded data removed]",
            "text/plain": [
              "<Figure size 640x480 with 1 Axes>"
            ]
          },
          "metadata": {}
        }
      ]
    },
    {
      "cell_type": "markdown",
      "source": [
        "# Testing The Model"
      ],
      "metadata": {
        "id": "UsUgOQmt1jKk"
      }
    },
    {
      "cell_type": "code",
      "source": [
        "test_loop(test_dataloader, model, criterion)"
      ],
      "metadata": {
        "id": "1c8hjIdfZmLT",
        "outputId": "9fa1c264-48b3-468a-ef4c-303caa9b830b",
        "colab": {
          "base_uri": "https://localhost:8080/"
        }
      },
      "execution_count": 97,
      "outputs": [
        {
          "output_type": "stream",
          "name": "stdout",
          "text": [
            "Validation Loss: 1.3874 Acc: 0.4850\n"
          ]
        },
        {
          "output_type": "execute_result",
          "data": {
            "text/plain": [
              "(1.3873678479875837, tensor(0.4850, device='cuda:0', dtype=torch.float64))"
            ]
          },
          "metadata": {},
          "execution_count": 97
        }
      ]
    }
  ]
}